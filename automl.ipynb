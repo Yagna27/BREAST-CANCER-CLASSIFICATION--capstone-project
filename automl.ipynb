{
  "cells": [
    {
      "cell_type": "markdown",
      "source": [
        "# Automated ML\n",
        "\n",
        "TODO: Import Dependencies. In the cell below, import all the dependencies that you will need to complete the project."
      ],
      "metadata": {}
    },
    {
      "cell_type": "code",
      "source": [
        "from azureml.core import Workspace, Experiment\r\n",
        "from azureml.data.dataset_factory import TabularDatasetFactory\r\n",
        "#from train import clean_data\r\n",
        "import pandas as pd\r\n",
        "import numpy as np\r\n",
        "from sklearn.model_selection import train_test_split\r\n",
        "import os\r\n",
        "from azureml.core.compute import ComputeTarget, AmlCompute\r\n",
        "from azureml.core.compute_target import ComputeTargetException\r\n",
        "from azureml.train.automl import AutoMLConfig\r\n",
        "from azureml.widgets import RunDetails"
      ],
      "outputs": [],
      "execution_count": 1,
      "metadata": {
        "gather": {
          "logged": 1618649629565
        },
        "jupyter": {
          "outputs_hidden": false,
          "source_hidden": false
        },
        "nteract": {
          "transient": {
            "deleting": false
          }
        }
      }
    },
    {
      "cell_type": "markdown",
      "source": [
        "## Dataset\n",
        "\n",
        "### Overview\n",
        "Abstract: Clinical features were observed or measured for 64 patients with breast cancer and 52 healthy controls.\n",
        "\n",
        "There are 10 predictors, all quantitative, and a binary dependent variable, indicating the presence or absence of breast cancer.\n",
        "The predictors are anthropometric data and parameters which can be gathered in routine blood analysis.\n",
        "Prediction models based on these predictors, if accurate, can potentially be used as a biomarker of breast cancer.\n",
        "\n",
        "data set can be accesed by using url:\n",
        "\n",
        "https://archive.ics.uci.edu/ml/machine-learning-databases/00451/dataR2.csv\n"
      ],
      "metadata": {}
    },
    {
      "cell_type": "code",
      "source": [
        "ws = Workspace.from_config()\n",
        "\n",
        "# choose a name for experiment\n",
        "experiment_name = 'Breastcancer_automl'\n",
        "\n",
        "experiment=Experiment(ws, experiment_name)\n",
        "print('Workspace name: ' + ws.name, \n",
        "      'Azure region: ' + ws.location, \n",
        "      'Subscription id: ' + ws.subscription_id, \n",
        "      'Resource group: ' + ws.resource_group, sep = '\\n')\n",
        "\n",
        "run = experiment.start_logging()"
      ],
      "outputs": [
        {
          "output_type": "stream",
          "name": "stdout",
          "text": [
            "Performing interactive authentication. Please follow the instructions on the terminal.\n",
            "To sign in, use a web browser to open the page https://microsoft.com/devicelogin and enter the code A43QTLBWG to authenticate.\n",
            "You have logged in. Now let us find all the subscriptions to which you have access...\n",
            "Interactive authentication successfully completed.\n",
            "Workspace name: quick-starts-ws-142915\n",
            "Azure region: southcentralus\n",
            "Subscription id: aa7cf8e8-d23f-4bce-a7b9-1f0b4e0ac8ee\n",
            "Resource group: aml-quickstarts-142915\n"
          ]
        }
      ],
      "execution_count": 2,
      "metadata": {
        "gather": {
          "logged": 1618649726712
        },
        "jupyter": {
          "outputs_hidden": false,
          "source_hidden": false
        },
        "nteract": {
          "transient": {
            "deleting": false
          }
        }
      }
    },
    {
      "cell_type": "code",
      "source": [
        "ds = TabularDatasetFactory.from_delimited_files(path=\"https://archive.ics.uci.edu/ml/machine-learning-databases/00451/dataR2.csv\")"
      ],
      "outputs": [],
      "execution_count": 5,
      "metadata": {
        "collapsed": true,
        "jupyter": {
          "source_hidden": false,
          "outputs_hidden": false
        },
        "nteract": {
          "transient": {
            "deleting": false
          }
        },
        "gather": {
          "logged": 1618649858679
        }
      }
    },
    {
      "cell_type": "markdown",
      "source": [
        "## AutoML Configuration\n",
        "\n",
        "We start by setting up our compute cluster, where we will run our automl run\n",
        "and set up our automl options."
      ],
      "metadata": {}
    },
    {
      "cell_type": "code",
      "source": [
        "cpu_cluster_name = \"cpucluster-aml\"\r\n",
        "\r\n",
        "try:\r\n",
        "    cpu_cluster = ComputeTarget(workspace=ws, name=cpu_cluster_name)\r\n",
        "    print('Found existing cluster, use it.')\r\n",
        "except ComputeTargetException:\r\n",
        "    compute_config = AmlCompute.provisioning_configuration(vm_size='STANDARD_D2_V2',\r\n",
        "                                                           max_nodes=4)\r\n",
        "    cpu_cluster = ComputeTarget.create(ws, cpu_cluster_name, compute_config)\r\n",
        "\r\n",
        "cpu_cluster.wait_for_completion(show_output=True)"
      ],
      "outputs": [
        {
          "output_type": "stream",
          "name": "stdout",
          "text": [
            "Found existing cluster, use it.\n",
            "Succeeded\n",
            "AmlCompute wait for completion finished\n",
            "\n",
            "Minimum number of nodes requested have been provisioned\n"
          ]
        }
      ],
      "execution_count": 6,
      "metadata": {
        "collapsed": true,
        "jupyter": {
          "source_hidden": false,
          "outputs_hidden": false
        },
        "nteract": {
          "transient": {
            "deleting": false
          }
        },
        "gather": {
          "logged": 1618649860339
        }
      }
    },
    {
      "cell_type": "code",
      "source": [
        "#training_data, validation_data = d.random_split(percentage=0.8, seed=1)"
      ],
      "outputs": [],
      "execution_count": 7,
      "metadata": {
        "collapsed": true,
        "jupyter": {
          "source_hidden": false,
          "outputs_hidden": false
        },
        "nteract": {
          "transient": {
            "deleting": false
          }
        },
        "gather": {
          "logged": 1618649860934
        }
      }
    },
    {
      "cell_type": "code",
      "source": [
        "automl_settings = {\n",
        "    \"experiment_timeout_minutes\" :30,\n",
        "    \"max_concurrent_iterations\": 4,\n",
        "    \"n_cross_validations\": 5,\n",
        "    \"primary_metric\": 'average_precision_score_weighted',\n",
        "}\n",
        "\n",
        "# TODO: Put your automl config here\n",
        "automl_config = AutoMLConfig(\n",
        "    experiment_timeout_minutes=30,\n",
        "    n_cross_validations=5,\n",
        "    task=\"classification\",\n",
        "    primary_metric=\"average_precision_score_weighted\",\n",
        "    compute_target=cpu_cluster,\n",
        "    training_data=ds,\n",
        "    label_column_name=\"Classification\",\n",
        "    max_cores_per_iteration=-1,\n",
        "    enable_onnx_compatible_models=True\n",
        "    )"
      ],
      "outputs": [],
      "execution_count": 8,
      "metadata": {
        "gather": {
          "logged": 1618649861535
        },
        "jupyter": {
          "outputs_hidden": false,
          "source_hidden": false
        },
        "nteract": {
          "transient": {
            "deleting": false
          }
        }
      }
    },
    {
      "cell_type": "code",
      "source": [
        "# TODO: Submit your experiment\n",
        "remote_run = experiment.submit(config = automl_config, show_output = True)"
      ],
      "outputs": [
        {
          "output_type": "stream",
          "name": "stdout",
          "text": [
            "Submitting remote run.\n",
            "No run_configuration provided, running on cpucluster-aml with default configuration\n",
            "Running on remote compute: cpucluster-aml\n"
          ]
        },
        {
          "output_type": "display_data",
          "data": {
            "text/plain": "<IPython.core.display.HTML object>",
            "text/html": "<table style=\"width:100%\"><tr><th>Experiment</th><th>Id</th><th>Type</th><th>Status</th><th>Details Page</th><th>Docs Page</th></tr><tr><td>Breastcancer_automl</td><td>AutoML_27fc52fe-52d5-4965-bac0-4c915d914966</td><td>automl</td><td>NotStarted</td><td><a href=\"https://ml.azure.com/runs/AutoML_27fc52fe-52d5-4965-bac0-4c915d914966?wsid=/subscriptions/aa7cf8e8-d23f-4bce-a7b9-1f0b4e0ac8ee/resourcegroups/aml-quickstarts-142915/workspaces/quick-starts-ws-142915&amp;tid=660b3398-b80e-49d2-bc5b-ac1dc93b5254\" target=\"_blank\" rel=\"noopener\">Link to Azure Machine Learning studio</a></td><td><a href=\"https://docs.microsoft.com/en-us/python/api/overview/azure/ml/intro?view=azure-ml-py\" target=\"_blank\" rel=\"noopener\">Link to Documentation</a></td></tr></table>"
          },
          "metadata": {}
        },
        {
          "output_type": "stream",
          "name": "stdout",
          "text": [
            "\n",
            "Current status: FeaturesGeneration. Generating features for the dataset.\n",
            "Current status: ModelSelection. Beginning model selection.\n",
            "\n",
            "****************************************************************************************************\n",
            "DATA GUARDRAILS: \n",
            "\n",
            "TYPE:         Class balancing detection\n",
            "STATUS:       PASSED\n",
            "DESCRIPTION:  Your inputs were analyzed, and all classes are balanced in your training data.\n",
            "              Learn more about imbalanced data: https://aka.ms/AutomatedMLImbalancedData\n",
            "\n",
            "****************************************************************************************************\n",
            "\n",
            "TYPE:         Missing feature values imputation\n",
            "STATUS:       PASSED\n",
            "DESCRIPTION:  No feature missing values were detected in the training data.\n",
            "              Learn more about missing value imputation: https://aka.ms/AutomatedMLFeaturization\n",
            "\n",
            "****************************************************************************************************\n",
            "\n",
            "TYPE:         High cardinality feature detection\n",
            "STATUS:       PASSED\n",
            "DESCRIPTION:  Your inputs were analyzed, and no high cardinality features were detected.\n",
            "              Learn more about high cardinality feature handling: https://aka.ms/AutomatedMLFeaturization\n",
            "\n",
            "****************************************************************************************************\n",
            "\n",
            "****************************************************************************************************\n",
            "ITERATION: The iteration being evaluated.\n",
            "PIPELINE: A summary description of the pipeline being evaluated.\n",
            "DURATION: Time taken for the current iteration.\n",
            "METRIC: The result of computing score on the fitted pipeline.\n",
            "BEST: The best observed score thus far.\n",
            "****************************************************************************************************\n",
            "\n",
            " ITERATION   PIPELINE                                       DURATION      METRIC      BEST\n",
            "         1   MaxAbsScaler XGBoostClassifier                 0:00:44       0.8396    0.8396\n",
            "         2   RobustScaler ExtremeRandomTrees                0:00:49       0.8642    0.8642\n",
            "         3   RobustScaler ExtremeRandomTrees                0:01:19       0.8318    0.8642\n",
            "         4   MinMaxScaler ExtremeRandomTrees                0:00:49       0.8590    0.8642\n",
            "         5   StandardScalerWrapper RandomForest             0:00:46       0.7787    0.8642\n",
            "         6   MinMaxScaler ExtremeRandomTrees                0:00:48       0.8161    0.8642\n",
            "         7   StandardScalerWrapper KNN                      0:00:47       0.6373    0.8642\n",
            "         8   MinMaxScaler ExtremeRandomTrees                0:00:45       0.8473    0.8642\n",
            "         9   RobustScaler RandomForest                      0:00:53       0.8015    0.8642\n",
            "        10   StandardScalerWrapper RandomForest             0:00:47       0.8042    0.8642\n",
            "        11   StandardScalerWrapper ExtremeRandomTrees       0:00:53       0.8391    0.8642\n",
            "        12   RobustScaler ExtremeRandomTrees                0:00:46       0.8245    0.8642\n",
            "        13   MinMaxScaler ExtremeRandomTrees                0:00:46       0.8567    0.8642\n",
            "        14   MinMaxScaler RandomForest                      0:00:48       0.8404    0.8642\n",
            "        15   StandardScalerWrapper XGBoostClassifier        0:00:42       0.8457    0.8642\n",
            "        16   MaxAbsScaler ExtremeRandomTrees                0:00:52       0.8644    0.8644\n",
            "        17   MaxAbsScaler RandomForest                      0:00:58       0.7921    0.8644\n",
            "        18   MinMaxScaler RandomForest                      0:00:50       0.7823    0.8644\n",
            "        19   MaxAbsScaler ExtremeRandomTrees                0:00:46       0.8318    0.8644\n",
            "        20   MinMaxScaler ExtremeRandomTrees                0:00:44       0.8601    0.8644\n",
            "        21   StandardScalerWrapper LightGBM                 0:00:47       0.8679    0.8679\n",
            "        22   TruncatedSVDWrapper XGBoostClassifier          0:00:50       0.7381    0.8679\n",
            "        23   MaxAbsScaler ExtremeRandomTrees                0:00:46       0.8703    0.8703\n",
            "        24   MaxAbsScaler LogisticRegression                0:00:44       0.7804    0.8703\n",
            "        25   PCA ExtremeRandomTrees                         0:00:47       0.5504    0.8703\n",
            "        26   RobustScaler LightGBM                          0:00:52       0.8019    0.8703\n",
            "        27   StandardScalerWrapper RandomForest             0:00:50       0.8247    0.8703\n",
            "        28    VotingEnsemble                                0:01:17       0.8883    0.8883\n"
          ]
        }
      ],
      "execution_count": 9,
      "metadata": {
        "gather": {
          "logged": 1618652306671
        },
        "jupyter": {
          "outputs_hidden": false,
          "source_hidden": false
        },
        "nteract": {
          "transient": {
            "deleting": false
          }
        }
      }
    },
    {
      "cell_type": "markdown",
      "source": [
        "## Run Details\n",
        "\n",
        "OPTIONAL: Write about the different models trained and their performance. Why do you think some models did better than others?\n",
        "\n",
        "TODO: In the cell below, use the `RunDetails` widget to show the different experiments."
      ],
      "metadata": {}
    },
    {
      "cell_type": "code",
      "source": [
        "RunDetails(remote_run).show()"
      ],
      "outputs": [
        {
          "output_type": "display_data",
          "data": {
            "text/plain": "_AutoMLWidget(widget_settings={'childWidgetDisplay': 'popup', 'send_telemetry': False, 'log_level': 'INFO', 's…",
            "application/vnd.jupyter.widget-view+json": {
              "version_major": 2,
              "version_minor": 0,
              "model_id": "14fc1dca1cd94963bd337d611bc05e19"
            }
          },
          "metadata": {}
        },
        {
          "output_type": "display_data",
          "data": {
            "application/aml.mini.widget.v1": "{\"status\": \"Completed\", \"workbench_run_details_uri\": \"https://ml.azure.com/runs/AutoML_27fc52fe-52d5-4965-bac0-4c915d914966?wsid=/subscriptions/aa7cf8e8-d23f-4bce-a7b9-1f0b4e0ac8ee/resourcegroups/aml-quickstarts-142915/workspaces/quick-starts-ws-142915&tid=660b3398-b80e-49d2-bc5b-ac1dc93b5254\", \"run_id\": \"AutoML_27fc52fe-52d5-4965-bac0-4c915d914966\", \"run_properties\": {\"run_id\": \"AutoML_27fc52fe-52d5-4965-bac0-4c915d914966\", \"created_utc\": \"2021-04-17T08:57:50.614213Z\", \"properties\": {\"num_iterations\": \"1000\", \"training_type\": \"TrainFull\", \"acquisition_function\": \"EI\", \"primary_metric\": \"average_precision_score_weighted\", \"train_split\": \"0\", \"acquisition_parameter\": \"0\", \"num_cross_validation\": \"5\", \"target\": \"cpucluster-aml\", \"AMLSettingsJsonString\": \"{\\\"path\\\":null,\\\"name\\\":\\\"Breastcancer_automl\\\",\\\"subscription_id\\\":\\\"aa7cf8e8-d23f-4bce-a7b9-1f0b4e0ac8ee\\\",\\\"resource_group\\\":\\\"aml-quickstarts-142915\\\",\\\"workspace_name\\\":\\\"quick-starts-ws-142915\\\",\\\"region\\\":\\\"southcentralus\\\",\\\"compute_target\\\":\\\"cpucluster-aml\\\",\\\"spark_service\\\":null,\\\"azure_service\\\":\\\"remote\\\",\\\"many_models\\\":false,\\\"pipeline_fetch_max_batch_size\\\":1,\\\"enable_batch_run\\\":false,\\\"enable_run_restructure\\\":false,\\\"iterations\\\":1000,\\\"primary_metric\\\":\\\"average_precision_score_weighted\\\",\\\"task_type\\\":\\\"classification\\\",\\\"data_script\\\":null,\\\"test_size\\\":0.0,\\\"validation_size\\\":0.0,\\\"n_cross_validations\\\":5,\\\"y_min\\\":null,\\\"y_max\\\":null,\\\"num_classes\\\":null,\\\"featurization\\\":\\\"auto\\\",\\\"_ignore_package_version_incompatibilities\\\":false,\\\"is_timeseries\\\":false,\\\"max_cores_per_iteration\\\":-1,\\\"max_concurrent_iterations\\\":1,\\\"iteration_timeout_minutes\\\":null,\\\"mem_in_mb\\\":null,\\\"enforce_time_on_windows\\\":false,\\\"experiment_timeout_minutes\\\":30,\\\"experiment_exit_score\\\":null,\\\"whitelist_models\\\":null,\\\"blacklist_algos\\\":[\\\"TensorFlowLinearClassifier\\\",\\\"TensorFlowDNN\\\"],\\\"supported_models\\\":[\\\"MultinomialNaiveBayes\\\",\\\"RandomForest\\\",\\\"XGBoostClassifier\\\",\\\"LogisticRegression\\\",\\\"TensorFlowDNN\\\",\\\"SGD\\\",\\\"KNN\\\",\\\"SVM\\\",\\\"DecisionTree\\\",\\\"GradientBoosting\\\",\\\"BernoulliNaiveBayes\\\",\\\"ExtremeRandomTrees\\\",\\\"AveragedPerceptronClassifier\\\",\\\"TensorFlowLinearClassifier\\\",\\\"LightGBM\\\",\\\"LinearSVM\\\"],\\\"private_models\\\":[],\\\"auto_blacklist\\\":true,\\\"blacklist_samples_reached\\\":false,\\\"exclude_nan_labels\\\":true,\\\"verbosity\\\":20,\\\"_debug_log\\\":\\\"azureml_automl.log\\\",\\\"show_warnings\\\":false,\\\"model_explainability\\\":true,\\\"service_url\\\":null,\\\"sdk_url\\\":null,\\\"sdk_packages\\\":null,\\\"enable_onnx_compatible_models\\\":true,\\\"enable_split_onnx_featurizer_estimator_models\\\":false,\\\"vm_type\\\":\\\"STANDARD_D2_V2\\\",\\\"telemetry_verbosity\\\":20,\\\"send_telemetry\\\":true,\\\"enable_dnn\\\":false,\\\"scenario\\\":\\\"SDK-1.13.0\\\",\\\"environment_label\\\":null,\\\"save_mlflow\\\":false,\\\"force_text_dnn\\\":false,\\\"enable_feature_sweeping\\\":false,\\\"enable_early_stopping\\\":false,\\\"early_stopping_n_iters\\\":10,\\\"metrics\\\":null,\\\"enable_metric_confidence\\\":false,\\\"enable_ensembling\\\":true,\\\"enable_stack_ensembling\\\":false,\\\"ensemble_iterations\\\":15,\\\"enable_tf\\\":false,\\\"enable_subsampling\\\":null,\\\"subsample_seed\\\":null,\\\"enable_nimbusml\\\":false,\\\"enable_streaming\\\":false,\\\"force_streaming\\\":false,\\\"track_child_runs\\\":true,\\\"allowed_private_models\\\":[],\\\"label_column_name\\\":\\\"Classification\\\",\\\"weight_column_name\\\":null,\\\"cv_split_column_names\\\":null,\\\"enable_local_managed\\\":false,\\\"_local_managed_run_id\\\":null,\\\"cost_mode\\\":1,\\\"lag_length\\\":0,\\\"metric_operation\\\":\\\"maximize\\\",\\\"preprocess\\\":true}\", \"DataPrepJsonString\": \"{\\\\\\\"training_data\\\\\\\": {\\\\\\\"datasetId\\\\\\\": \\\\\\\"95649f7d-fb25-4a86-b3b5-e2d06ab59d26\\\\\\\"}, \\\\\\\"datasets\\\\\\\": 0}\", \"EnableSubsampling\": null, \"runTemplate\": \"AutoML\", \"azureml.runsource\": \"automl\", \"display_task_type\": \"classification\", \"dependencies_versions\": \"{\\\"azureml-widgets\\\": \\\"1.26.0\\\", \\\"azureml-train\\\": \\\"1.26.0\\\", \\\"azureml-train-restclients-hyperdrive\\\": \\\"1.26.0\\\", \\\"azureml-train-core\\\": \\\"1.26.0\\\", \\\"azureml-train-automl\\\": \\\"1.26.0\\\", \\\"azureml-train-automl-runtime\\\": \\\"1.26.0\\\", \\\"azureml-train-automl-client\\\": \\\"1.26.0\\\", \\\"azureml-tensorboard\\\": \\\"1.26.0\\\", \\\"azureml-telemetry\\\": \\\"1.26.0\\\", \\\"azureml-sdk\\\": \\\"1.26.0\\\", \\\"azureml-samples\\\": \\\"0+unknown\\\", \\\"azureml-pipeline\\\": \\\"1.26.0\\\", \\\"azureml-pipeline-steps\\\": \\\"1.26.0\\\", \\\"azureml-pipeline-core\\\": \\\"1.26.0\\\", \\\"azureml-opendatasets\\\": \\\"1.26.0\\\", \\\"azureml-model-management-sdk\\\": \\\"1.0.1b6.post1\\\", \\\"azureml-mlflow\\\": \\\"1.26.0\\\", \\\"azureml-interpret\\\": \\\"1.26.0\\\", \\\"azureml-explain-model\\\": \\\"1.26.0\\\", \\\"azureml-defaults\\\": \\\"1.26.0\\\", \\\"azureml-dataset-runtime\\\": \\\"1.26.0\\\", \\\"azureml-dataprep\\\": \\\"2.13.2\\\", \\\"azureml-dataprep-rslex\\\": \\\"1.11.2\\\", \\\"azureml-dataprep-native\\\": \\\"32.0.0\\\", \\\"azureml-datadrift\\\": \\\"1.26.0\\\", \\\"azureml-core\\\": \\\"1.26.0\\\", \\\"azureml-contrib-services\\\": \\\"1.26.0\\\", \\\"azureml-contrib-server\\\": \\\"1.26.0\\\", \\\"azureml-contrib-reinforcementlearning\\\": \\\"1.26.0\\\", \\\"azureml-contrib-pipeline-steps\\\": \\\"1.26.0\\\", \\\"azureml-contrib-notebook\\\": \\\"1.26.0\\\", \\\"azureml-contrib-gbdt\\\": \\\"1.26.0\\\", \\\"azureml-contrib-fairness\\\": \\\"1.26.0\\\", \\\"azureml-contrib-dataset\\\": \\\"1.26.0\\\", \\\"azureml-cli-common\\\": \\\"1.26.0\\\", \\\"azureml-automl-runtime\\\": \\\"1.26.0\\\", \\\"azureml-automl-dnn-nlp\\\": \\\"1.26.0\\\", \\\"azureml-automl-core\\\": \\\"1.26.0\\\", \\\"azureml-accel-models\\\": \\\"1.26.0\\\"}\", \"_aml_system_scenario_identification\": \"Remote.Parent\", \"ClientType\": \"SDK\", \"environment_cpu_name\": \"AzureML-AutoML\", \"environment_cpu_label\": \"prod\", \"environment_gpu_name\": \"AzureML-AutoML-GPU\", \"environment_gpu_label\": \"prod\", \"root_attribution\": \"automl\", \"attribution\": \"AutoML\", \"Orchestrator\": \"AutoML\", \"CancelUri\": \"https://southcentralus.experiments.azureml.net/jasmine/v1.0/subscriptions/aa7cf8e8-d23f-4bce-a7b9-1f0b4e0ac8ee/resourceGroups/aml-quickstarts-142915/providers/Microsoft.MachineLearningServices/workspaces/quick-starts-ws-142915/experimentids/a1324c4d-2aa7-4311-a46e-d526e62ff0de/cancel/AutoML_27fc52fe-52d5-4965-bac0-4c915d914966\", \"ClientSdkVersion\": \"1.25.0\", \"snapshotId\": \"00000000-0000-0000-0000-000000000000\", \"SetupRunId\": \"AutoML_27fc52fe-52d5-4965-bac0-4c915d914966_setup\", \"SetupRunContainerId\": \"dcid.AutoML_27fc52fe-52d5-4965-bac0-4c915d914966_setup\", \"FeaturizationRunJsonPath\": \"featurizer_container.json\", \"FeaturizationRunId\": \"AutoML_27fc52fe-52d5-4965-bac0-4c915d914966_featurize\", \"ProblemInfoJsonString\": \"{\\\"dataset_num_categorical\\\": 0, \\\"is_sparse\\\": false, \\\"subsampling\\\": false, \\\"dataset_classes\\\": 2, \\\"dataset_features\\\": 9, \\\"dataset_samples\\\": 116, \\\"single_frequency_class_detected\\\": false}\", \"ModelExplainRunId\": \"AutoML_27fc52fe-52d5-4965-bac0-4c915d914966_ModelExplain\", \"azureml.git.repository_uri\": \"https://github.com/Yagna27/capstone-project.git\", \"mlflow.source.git.repoURL\": \"https://github.com/Yagna27/capstone-project.git\", \"azureml.git.branch\": \"main\", \"mlflow.source.git.branch\": \"main\", \"azureml.git.commit\": \"c84f2e1462a81161113e4d21ef9035cef7824b89\", \"mlflow.source.git.commit\": \"c84f2e1462a81161113e4d21ef9035cef7824b89\", \"azureml.git.dirty\": \"True\"}, \"tags\": {\"model_explain_run\": \"best_run\", \"_aml_system_azureml.automlComponent\": \"AutoML\", \"pipeline_id\": \"\", \"score\": \"\", \"predicted_cost\": \"\", \"fit_time\": \"\", \"training_percent\": \"\", \"iteration\": \"\", \"run_preprocessor\": \"\", \"run_algorithm\": \"\", \"dynamic_whitelisting_iterations\": \"<25>;\", \"automl_best_child_run_id\": \"AutoML_27fc52fe-52d5-4965-bac0-4c915d914966_28\", \"model_explain_best_run_child_id\": \"AutoML_27fc52fe-52d5-4965-bac0-4c915d914966_28\"}, \"end_time_utc\": \"2021-04-17T09:38:07.157175Z\", \"status\": \"Completed\", \"log_files\": {}, \"log_groups\": [], \"run_duration\": \"0:40:16\", \"run_number\": \"2\", \"run_queued_details\": {\"status\": \"Completed\", \"details\": null}}, \"child_runs\": [{\"run_id\": \"AutoML_27fc52fe-52d5-4965-bac0-4c915d914966_0\", \"run_number\": 6, \"metric\": null, \"status\": \"Completed\", \"run_type\": \"azureml.scriptrun\", \"training_percent\": \"100\", \"start_time\": \"2021-04-17T09:06:27.230621Z\", \"end_time\": \"2021-04-17T09:07:24.158883Z\", \"created_time\": \"2021-04-17T09:06:15.482911Z\", \"created_time_dt\": \"2021-04-17T09:06:15.482911Z\", \"duration\": \"0:01:08\", \"iteration\": \"0\", \"goal\": \"average_precision_score_weighted_max\", \"run_name\": \"MaxAbsScaler, LightGBM\", \"run_properties\": \"copy=True\", \"primary_metric\": 0.83809331, \"best_metric\": 0.83809331}, {\"run_id\": \"AutoML_27fc52fe-52d5-4965-bac0-4c915d914966_1\", \"run_number\": 7, \"metric\": null, \"status\": \"Completed\", \"run_type\": \"azureml.scriptrun\", \"training_percent\": \"100\", \"start_time\": \"2021-04-17T09:07:41.055511Z\", \"end_time\": \"2021-04-17T09:08:25.297039Z\", \"created_time\": \"2021-04-17T09:07:25.318502Z\", \"created_time_dt\": \"2021-04-17T09:07:25.318502Z\", \"duration\": \"0:00:59\", \"iteration\": \"1\", \"goal\": \"average_precision_score_weighted_max\", \"run_name\": \"MaxAbsScaler, XGBoostClassifier\", \"run_properties\": \"copy=True\", \"primary_metric\": 0.83961701, \"best_metric\": 0.83961701}, {\"run_id\": \"AutoML_27fc52fe-52d5-4965-bac0-4c915d914966_2\", \"run_number\": 8, \"metric\": null, \"status\": \"Completed\", \"run_type\": \"azureml.scriptrun\", \"training_percent\": \"100\", \"start_time\": \"2021-04-17T09:08:38.835729Z\", \"end_time\": \"2021-04-17T09:09:27.836035Z\", \"created_time\": \"2021-04-17T09:08:26.476074Z\", \"created_time_dt\": \"2021-04-17T09:08:26.476074Z\", \"duration\": \"0:01:01\", \"iteration\": \"2\", \"goal\": \"average_precision_score_weighted_max\", \"run_name\": \"RobustScaler, ExtremeRandomTrees\", \"run_properties\": \"copy=True, quantile_range=[10, 90], with_centering=False,\\n             with_scaling=False\", \"primary_metric\": 0.864188, \"best_metric\": 0.864188}, {\"run_id\": \"AutoML_27fc52fe-52d5-4965-bac0-4c915d914966_3\", \"run_number\": 9, \"metric\": null, \"status\": \"Completed\", \"run_type\": \"azureml.scriptrun\", \"training_percent\": \"100\", \"start_time\": \"2021-04-17T09:09:42.597172Z\", \"end_time\": \"2021-04-17T09:11:01.336519Z\", \"created_time\": \"2021-04-17T09:09:29.742756Z\", \"created_time_dt\": \"2021-04-17T09:09:29.742756Z\", \"duration\": \"0:01:31\", \"iteration\": \"3\", \"goal\": \"average_precision_score_weighted_max\", \"run_name\": \"RobustScaler, ExtremeRandomTrees\", \"run_properties\": \"copy=True, quantile_range=[10, 90], with_centering=True,\\n             with_scaling=False\", \"primary_metric\": 0.83179372, \"best_metric\": 0.864188}, {\"run_id\": \"AutoML_27fc52fe-52d5-4965-bac0-4c915d914966_4\", \"run_number\": 10, \"metric\": null, \"status\": \"Completed\", \"run_type\": \"azureml.scriptrun\", \"training_percent\": \"100\", \"start_time\": \"2021-04-17T09:11:15.128404Z\", \"end_time\": \"2021-04-17T09:12:04.026311Z\", \"created_time\": \"2021-04-17T09:11:03.682474Z\", \"created_time_dt\": \"2021-04-17T09:11:03.682474Z\", \"duration\": \"0:01:00\", \"iteration\": \"4\", \"goal\": \"average_precision_score_weighted_max\", \"run_name\": \"MinMaxScaler, ExtremeRandomTrees\", \"run_properties\": \"copy=True, feature_range=(0, 1\", \"primary_metric\": 0.8589817, \"best_metric\": 0.864188}, {\"run_id\": \"AutoML_27fc52fe-52d5-4965-bac0-4c915d914966_5\", \"run_number\": 11, \"metric\": null, \"status\": \"Completed\", \"run_type\": \"azureml.scriptrun\", \"training_percent\": \"100\", \"start_time\": \"2021-04-17T09:12:17.785799Z\", \"end_time\": \"2021-04-17T09:13:04.114143Z\", \"created_time\": \"2021-04-17T09:12:05.880378Z\", \"created_time_dt\": \"2021-04-17T09:12:05.880378Z\", \"duration\": \"0:00:58\", \"iteration\": \"5\", \"goal\": \"average_precision_score_weighted_max\", \"run_name\": \"StandardScalerWrapper, RandomForest\", \"run_properties\": \"<azureml.automl.runtime.shared.model_wrappers.StandardScalerWrapper object at 0x7fe124cd7b38\", \"primary_metric\": 0.77873953, \"best_metric\": 0.864188}, {\"run_id\": \"AutoML_27fc52fe-52d5-4965-bac0-4c915d914966_6\", \"run_number\": 12, \"metric\": null, \"status\": \"Completed\", \"run_type\": \"azureml.scriptrun\", \"training_percent\": \"100\", \"start_time\": \"2021-04-17T09:13:21.196654Z\", \"end_time\": \"2021-04-17T09:14:09.051983Z\", \"created_time\": \"2021-04-17T09:13:05.967995Z\", \"created_time_dt\": \"2021-04-17T09:13:05.967995Z\", \"duration\": \"0:01:03\", \"iteration\": \"6\", \"goal\": \"average_precision_score_weighted_max\", \"run_name\": \"MinMaxScaler, ExtremeRandomTrees\", \"run_properties\": \"copy=True, feature_range=(0, 1\", \"primary_metric\": 0.81606996, \"best_metric\": 0.864188}, {\"run_id\": \"AutoML_27fc52fe-52d5-4965-bac0-4c915d914966_7\", \"run_number\": 13, \"metric\": null, \"status\": \"Completed\", \"run_type\": \"azureml.scriptrun\", \"training_percent\": \"100\", \"start_time\": \"2021-04-17T09:14:28.768619Z\", \"end_time\": \"2021-04-17T09:15:15.903698Z\", \"created_time\": \"2021-04-17T09:14:12.960039Z\", \"created_time_dt\": \"2021-04-17T09:14:12.960039Z\", \"duration\": \"0:01:02\", \"iteration\": \"7\", \"goal\": \"average_precision_score_weighted_max\", \"run_name\": \"StandardScalerWrapper, KNN\", \"run_properties\": \"<azureml.automl.runtime.shared.model_wrappers.StandardScalerWrapper object at 0x7f3b219de4e0\", \"primary_metric\": 0.63727127, \"best_metric\": 0.864188}, {\"run_id\": \"AutoML_27fc52fe-52d5-4965-bac0-4c915d914966_8\", \"run_number\": 14, \"metric\": null, \"status\": \"Completed\", \"run_type\": \"azureml.scriptrun\", \"training_percent\": \"100\", \"start_time\": \"2021-04-17T09:15:32.369342Z\", \"end_time\": \"2021-04-17T09:16:17.790566Z\", \"created_time\": \"2021-04-17T09:15:19.358634Z\", \"created_time_dt\": \"2021-04-17T09:15:19.358634Z\", \"duration\": \"0:00:58\", \"iteration\": \"8\", \"goal\": \"average_precision_score_weighted_max\", \"run_name\": \"MinMaxScaler, ExtremeRandomTrees\", \"run_properties\": \"copy=True, feature_range=(0, 1\", \"primary_metric\": 0.84732675, \"best_metric\": 0.864188}, {\"run_id\": \"AutoML_27fc52fe-52d5-4965-bac0-4c915d914966_9\", \"run_number\": 15, \"metric\": null, \"status\": \"Completed\", \"run_type\": \"azureml.scriptrun\", \"training_percent\": \"100\", \"start_time\": \"2021-04-17T09:16:31.755396Z\", \"end_time\": \"2021-04-17T09:17:25.002113Z\", \"created_time\": \"2021-04-17T09:16:21.362377Z\", \"created_time_dt\": \"2021-04-17T09:16:21.362377Z\", \"duration\": \"0:01:03\", \"iteration\": \"9\", \"goal\": \"average_precision_score_weighted_max\", \"run_name\": \"RobustScaler, RandomForest\", \"run_properties\": \"copy=True, quantile_range=[25, 75], with_centering=True,\\n             with_scaling=False\", \"primary_metric\": 0.80148655, \"best_metric\": 0.864188}, {\"run_id\": \"AutoML_27fc52fe-52d5-4965-bac0-4c915d914966_10\", \"run_number\": 16, \"metric\": null, \"status\": \"Completed\", \"run_type\": \"azureml.scriptrun\", \"training_percent\": \"100\", \"start_time\": \"2021-04-17T09:17:40.397382Z\", \"end_time\": \"2021-04-17T09:18:27.349591Z\", \"created_time\": \"2021-04-17T09:17:29.560963Z\", \"created_time_dt\": \"2021-04-17T09:17:29.560963Z\", \"duration\": \"0:00:57\", \"iteration\": \"10\", \"goal\": \"average_precision_score_weighted_max\", \"run_name\": \"StandardScalerWrapper, RandomForest\", \"run_properties\": \"<azureml.automl.runtime.shared.model_wrappers.StandardScalerWrapper object at 0x7f31c8dfdf28\", \"primary_metric\": 0.80419668, \"best_metric\": 0.864188}, {\"run_id\": \"AutoML_27fc52fe-52d5-4965-bac0-4c915d914966_11\", \"run_number\": 17, \"metric\": null, \"status\": \"Completed\", \"run_type\": \"azureml.scriptrun\", \"training_percent\": \"100\", \"start_time\": \"2021-04-17T09:18:46.986219Z\", \"end_time\": \"2021-04-17T09:19:40.010062Z\", \"created_time\": \"2021-04-17T09:18:30.041086Z\", \"created_time_dt\": \"2021-04-17T09:18:30.041086Z\", \"duration\": \"0:01:09\", \"iteration\": \"11\", \"goal\": \"average_precision_score_weighted_max\", \"run_name\": \"StandardScalerWrapper, ExtremeRandomTrees\", \"run_properties\": \"<azureml.automl.runtime.shared.model_wrappers.StandardScalerWrapper object at 0x7fd6c327f908\", \"primary_metric\": 0.83913267, \"best_metric\": 0.864188}, {\"run_id\": \"AutoML_27fc52fe-52d5-4965-bac0-4c915d914966_12\", \"run_number\": 18, \"metric\": null, \"status\": \"Completed\", \"run_type\": \"azureml.scriptrun\", \"training_percent\": \"100\", \"start_time\": \"2021-04-17T09:19:54.600169Z\", \"end_time\": \"2021-04-17T09:20:40.460258Z\", \"created_time\": \"2021-04-17T09:19:42.658463Z\", \"created_time_dt\": \"2021-04-17T09:19:42.658463Z\", \"duration\": \"0:00:57\", \"iteration\": \"12\", \"goal\": \"average_precision_score_weighted_max\", \"run_name\": \"RobustScaler, ExtremeRandomTrees\", \"run_properties\": \"copy=True, quantile_range=[10, 90], with_centering=False,\\n             with_scaling=False\", \"primary_metric\": 0.82448494, \"best_metric\": 0.864188}, {\"run_id\": \"AutoML_27fc52fe-52d5-4965-bac0-4c915d914966_13\", \"run_number\": 19, \"metric\": null, \"status\": \"Completed\", \"run_type\": \"azureml.scriptrun\", \"training_percent\": \"100\", \"start_time\": \"2021-04-17T09:20:55.344159Z\", \"end_time\": \"2021-04-17T09:21:41.61217Z\", \"created_time\": \"2021-04-17T09:20:42.496998Z\", \"created_time_dt\": \"2021-04-17T09:20:42.496998Z\", \"duration\": \"0:00:59\", \"iteration\": \"13\", \"goal\": \"average_precision_score_weighted_max\", \"run_name\": \"MinMaxScaler, ExtremeRandomTrees\", \"run_properties\": \"copy=True, feature_range=(0, 1\", \"primary_metric\": 0.85668395, \"best_metric\": 0.864188}, {\"run_id\": \"AutoML_27fc52fe-52d5-4965-bac0-4c915d914966_14\", \"run_number\": 20, \"metric\": null, \"status\": \"Completed\", \"run_type\": \"azureml.scriptrun\", \"training_percent\": \"100\", \"start_time\": \"2021-04-17T09:21:54.944863Z\", \"end_time\": \"2021-04-17T09:22:43.442777Z\", \"created_time\": \"2021-04-17T09:21:43.538657Z\", \"created_time_dt\": \"2021-04-17T09:21:43.538657Z\", \"duration\": \"0:00:59\", \"iteration\": \"14\", \"goal\": \"average_precision_score_weighted_max\", \"run_name\": \"MinMaxScaler, RandomForest\", \"run_properties\": \"copy=True, feature_range=(0, 1\", \"primary_metric\": 0.84038571, \"best_metric\": 0.864188}, {\"run_id\": \"AutoML_27fc52fe-52d5-4965-bac0-4c915d914966_15\", \"run_number\": 21, \"metric\": null, \"status\": \"Completed\", \"run_type\": \"azureml.scriptrun\", \"training_percent\": \"100\", \"start_time\": \"2021-04-17T09:22:56.17135Z\", \"end_time\": \"2021-04-17T09:23:38.32356Z\", \"created_time\": \"2021-04-17T09:22:45.508805Z\", \"created_time_dt\": \"2021-04-17T09:22:45.508805Z\", \"duration\": \"0:00:52\", \"iteration\": \"15\", \"goal\": \"average_precision_score_weighted_max\", \"run_name\": \"StandardScalerWrapper, XGBoostClassifier\", \"run_properties\": \"<azureml.automl.runtime.shared.model_wrappers.StandardScalerWrapper object at 0x7f4e3f453f60\", \"primary_metric\": 0.84572766, \"best_metric\": 0.864188}, {\"run_id\": \"AutoML_27fc52fe-52d5-4965-bac0-4c915d914966_16\", \"run_number\": 22, \"metric\": null, \"status\": \"Completed\", \"run_type\": \"azureml.scriptrun\", \"training_percent\": \"100\", \"start_time\": \"2021-04-17T09:23:51.550988Z\", \"end_time\": \"2021-04-17T09:24:43.229424Z\", \"created_time\": \"2021-04-17T09:23:40.227292Z\", \"created_time_dt\": \"2021-04-17T09:23:40.227292Z\", \"duration\": \"0:01:03\", \"iteration\": \"16\", \"goal\": \"average_precision_score_weighted_max\", \"run_name\": \"MaxAbsScaler, ExtremeRandomTrees\", \"run_properties\": \"copy=True\", \"primary_metric\": 0.86443798, \"best_metric\": 0.86443798}, {\"run_id\": \"AutoML_27fc52fe-52d5-4965-bac0-4c915d914966_17\", \"run_number\": 23, \"metric\": null, \"status\": \"Completed\", \"run_type\": \"azureml.scriptrun\", \"training_percent\": \"100\", \"start_time\": \"2021-04-17T09:24:58.610906Z\", \"end_time\": \"2021-04-17T09:25:56.328809Z\", \"created_time\": \"2021-04-17T09:24:46.142655Z\", \"created_time_dt\": \"2021-04-17T09:24:46.142655Z\", \"duration\": \"0:01:10\", \"iteration\": \"17\", \"goal\": \"average_precision_score_weighted_max\", \"run_name\": \"MaxAbsScaler, RandomForest\", \"run_properties\": \"copy=True\", \"primary_metric\": 0.79212367, \"best_metric\": 0.86443798}, {\"run_id\": \"AutoML_27fc52fe-52d5-4965-bac0-4c915d914966_18\", \"run_number\": 24, \"metric\": null, \"status\": \"Completed\", \"run_type\": \"azureml.scriptrun\", \"training_percent\": \"100\", \"start_time\": \"2021-04-17T09:26:13.823203Z\", \"end_time\": \"2021-04-17T09:27:03.856368Z\", \"created_time\": \"2021-04-17T09:25:58.194766Z\", \"created_time_dt\": \"2021-04-17T09:25:58.194766Z\", \"duration\": \"0:01:05\", \"iteration\": \"18\", \"goal\": \"average_precision_score_weighted_max\", \"run_name\": \"MinMaxScaler, RandomForest\", \"run_properties\": \"copy=True, feature_range=(0, 1\", \"primary_metric\": 0.78234774, \"best_metric\": 0.86443798}, {\"run_id\": \"AutoML_27fc52fe-52d5-4965-bac0-4c915d914966_19\", \"run_number\": 25, \"metric\": null, \"status\": \"Completed\", \"run_type\": \"azureml.scriptrun\", \"training_percent\": \"100\", \"start_time\": \"2021-04-17T09:27:17.58421Z\", \"end_time\": \"2021-04-17T09:28:03.42986Z\", \"created_time\": \"2021-04-17T09:27:06.828537Z\", \"created_time_dt\": \"2021-04-17T09:27:06.828537Z\", \"duration\": \"0:00:56\", \"iteration\": \"19\", \"goal\": \"average_precision_score_weighted_max\", \"run_name\": \"MaxAbsScaler, ExtremeRandomTrees\", \"run_properties\": \"copy=True\", \"primary_metric\": 0.83180662, \"best_metric\": 0.86443798}, {\"run_id\": \"AutoML_27fc52fe-52d5-4965-bac0-4c915d914966_20\", \"run_number\": 26, \"metric\": null, \"status\": \"Completed\", \"run_type\": \"azureml.scriptrun\", \"training_percent\": \"100\", \"start_time\": \"2021-04-17T09:28:19.08861Z\", \"end_time\": \"2021-04-17T09:29:03.12735Z\", \"created_time\": \"2021-04-17T09:28:06.494435Z\", \"created_time_dt\": \"2021-04-17T09:28:06.494435Z\", \"duration\": \"0:00:56\", \"iteration\": \"20\", \"goal\": \"average_precision_score_weighted_max\", \"run_name\": \"MinMaxScaler, ExtremeRandomTrees\", \"run_properties\": \"copy=True, feature_range=(0, 1\", \"primary_metric\": 0.86008603, \"best_metric\": 0.86443798}, {\"run_id\": \"AutoML_27fc52fe-52d5-4965-bac0-4c915d914966_21\", \"run_number\": 27, \"metric\": null, \"status\": \"Completed\", \"run_type\": \"azureml.scriptrun\", \"training_percent\": \"100\", \"start_time\": \"2021-04-17T09:29:19.5785Z\", \"end_time\": \"2021-04-17T09:30:06.461726Z\", \"created_time\": \"2021-04-17T09:29:05.506912Z\", \"created_time_dt\": \"2021-04-17T09:29:05.506912Z\", \"duration\": \"0:01:00\", \"iteration\": \"21\", \"goal\": \"average_precision_score_weighted_max\", \"run_name\": \"StandardScalerWrapper, LightGBM\", \"run_properties\": \"<azureml.automl.runtime.shared.model_wrappers.StandardScalerWrapper object at 0x7f0a580e1080\", \"primary_metric\": 0.86788684, \"best_metric\": 0.86788684}, {\"run_id\": \"AutoML_27fc52fe-52d5-4965-bac0-4c915d914966_22\", \"run_number\": 28, \"metric\": null, \"status\": \"Completed\", \"run_type\": \"azureml.scriptrun\", \"training_percent\": \"100\", \"start_time\": \"2021-04-17T09:30:22.995339Z\", \"end_time\": \"2021-04-17T09:31:12.946036Z\", \"created_time\": \"2021-04-17T09:30:08.975925Z\", \"created_time_dt\": \"2021-04-17T09:30:08.975925Z\", \"duration\": \"0:01:03\", \"iteration\": \"22\", \"goal\": \"average_precision_score_weighted_max\", \"run_name\": \"TruncatedSVDWrapper, XGBoostClassifier\", \"run_properties\": \"n_components=0.8510526315789474, random_state=None\", \"primary_metric\": 0.7381339, \"best_metric\": 0.86788684}, {\"run_id\": \"AutoML_27fc52fe-52d5-4965-bac0-4c915d914966_23\", \"run_number\": 29, \"metric\": null, \"status\": \"Completed\", \"run_type\": \"azureml.scriptrun\", \"training_percent\": \"100\", \"start_time\": \"2021-04-17T09:31:28.237289Z\", \"end_time\": \"2021-04-17T09:32:14.211897Z\", \"created_time\": \"2021-04-17T09:31:16.107054Z\", \"created_time_dt\": \"2021-04-17T09:31:16.107054Z\", \"duration\": \"0:00:58\", \"iteration\": \"23\", \"goal\": \"average_precision_score_weighted_max\", \"run_name\": \"MaxAbsScaler, ExtremeRandomTrees\", \"run_properties\": \"copy=True\", \"primary_metric\": 0.87027874, \"best_metric\": 0.87027874}, {\"run_id\": \"AutoML_27fc52fe-52d5-4965-bac0-4c915d914966_24\", \"run_number\": 30, \"metric\": null, \"status\": \"Completed\", \"run_type\": \"azureml.scriptrun\", \"training_percent\": \"100\", \"start_time\": \"2021-04-17T09:32:32.145185Z\", \"end_time\": \"2021-04-17T09:33:16.152487Z\", \"created_time\": \"2021-04-17T09:32:16.742188Z\", \"created_time_dt\": \"2021-04-17T09:32:16.742188Z\", \"duration\": \"0:00:59\", \"iteration\": \"24\", \"goal\": \"average_precision_score_weighted_max\", \"run_name\": \"MaxAbsScaler, LogisticRegression\", \"run_properties\": \"copy=True\", \"primary_metric\": 0.78043889, \"best_metric\": 0.87027874}, {\"run_id\": \"AutoML_27fc52fe-52d5-4965-bac0-4c915d914966_25\", \"run_number\": 31, \"metric\": null, \"status\": \"Completed\", \"run_type\": \"azureml.scriptrun\", \"training_percent\": \"100\", \"start_time\": \"2021-04-17T09:33:29.163209Z\", \"end_time\": \"2021-04-17T09:34:16.266145Z\", \"created_time\": \"2021-04-17T09:33:19.018952Z\", \"created_time_dt\": \"2021-04-17T09:33:19.018952Z\", \"duration\": \"0:00:57\", \"iteration\": \"25\", \"goal\": \"average_precision_score_weighted_max\", \"run_name\": \"PCA, ExtremeRandomTrees\", \"run_properties\": \"copy=True, iterated_power='auto', n_components=0.10894736842105263,\\n    random_state=None, svd_solver='auto', tol=0.0, whiten=True\", \"primary_metric\": 0.55035024, \"best_metric\": 0.87027874}, {\"run_id\": \"AutoML_27fc52fe-52d5-4965-bac0-4c915d914966_26\", \"run_number\": 32, \"metric\": null, \"status\": \"Completed\", \"run_type\": \"azureml.scriptrun\", \"training_percent\": \"100\", \"start_time\": \"2021-04-17T09:34:31.347492Z\", \"end_time\": \"2021-04-17T09:35:23.607306Z\", \"created_time\": \"2021-04-17T09:34:18.51601Z\", \"created_time_dt\": \"2021-04-17T09:34:18.51601Z\", \"duration\": \"0:01:05\", \"iteration\": \"26\", \"goal\": \"average_precision_score_weighted_max\", \"run_name\": \"RobustScaler, LightGBM\", \"run_properties\": \"copy=True, quantile_range=[25, 75], with_centering=False,\\n             with_scaling=False\", \"primary_metric\": 0.80192097, \"best_metric\": 0.87027874}, {\"run_id\": \"AutoML_27fc52fe-52d5-4965-bac0-4c915d914966_27\", \"run_number\": 33, \"metric\": null, \"status\": \"Completed\", \"run_type\": \"azureml.scriptrun\", \"training_percent\": \"100\", \"start_time\": \"2021-04-17T09:35:41.855674Z\", \"end_time\": \"2021-04-17T09:36:32.236627Z\", \"created_time\": \"2021-04-17T09:35:26.415283Z\", \"created_time_dt\": \"2021-04-17T09:35:26.415283Z\", \"duration\": \"0:01:05\", \"iteration\": \"27\", \"goal\": \"average_precision_score_weighted_max\", \"run_name\": \"StandardScalerWrapper, RandomForest\", \"run_properties\": \"<azureml.automl.runtime.shared.model_wrappers.StandardScalerWrapper object at 0x7f6d60e0def0\", \"primary_metric\": 0.8247416, \"best_metric\": 0.87027874}, {\"run_id\": \"AutoML_27fc52fe-52d5-4965-bac0-4c915d914966_28\", \"run_number\": 34, \"metric\": null, \"status\": \"Completed\", \"run_type\": \"azureml.scriptrun\", \"training_percent\": \"100\", \"start_time\": \"2021-04-17T09:36:47.916701Z\", \"end_time\": \"2021-04-17T09:38:04.898066Z\", \"created_time\": \"2021-04-17T09:36:34.326978Z\", \"created_time_dt\": \"2021-04-17T09:36:34.326978Z\", \"duration\": \"0:01:30\", \"iteration\": \"28\", \"goal\": \"average_precision_score_weighted_max\", \"run_name\": \"VotingEnsemble\", \"run_properties\": \"classification_labels=None,\\n                              estimators=[('23',\\n                                           Pipeline(memory=None,\\n                                                    steps=[('maxabsscaler',\\n                                                            MaxAbsScaler(copy=True\", \"primary_metric\": 0.88831708, \"best_metric\": 0.88831708}], \"children_metrics\": {\"categories\": [0], \"series\": {\"average_precision_score_weighted\": [{\"categories\": [\"0\", \"1\", \"2\", \"3\", \"4\", \"5\", \"6\", \"7\", \"8\", \"9\", \"10\", \"11\", \"12\", \"13\", \"14\", \"15\", \"16\", \"17\", \"18\", \"19\", \"20\", \"21\", \"22\", \"23\", \"24\", \"25\", \"26\", \"27\", \"28\"], \"mode\": \"markers\", \"name\": \"average_precision_score_weighted\", \"stepped\": false, \"type\": \"scatter\", \"data\": [0.8380933106206966, 0.8396170128380487, 0.8641880027832224, 0.8317937202814036, 0.8589816965420175, 0.7787395325745458, 0.8160699624338374, 0.6372712673323913, 0.8473267519121788, 0.8014865533948029, 0.8041966824237319, 0.8391326665655751, 0.8244849367773227, 0.8566839487883048, 0.8403857123150601, 0.8457276590985302, 0.8644379806801329, 0.7921236697034832, 0.7823477379846883, 0.8318066186563813, 0.8600860274567639, 0.8678868385572265, 0.7381339002004235, 0.8702787425759058, 0.7804388884977149, 0.5503502443556733, 0.8019209749609673, 0.8247416021651283, 0.8883170823050435]}, {\"categories\": [\"0\", \"1\", \"2\", \"3\", \"4\", \"5\", \"6\", \"7\", \"8\", \"9\", \"10\", \"11\", \"12\", \"13\", \"14\", \"15\", \"16\", \"17\", \"18\", \"19\", \"20\", \"21\", \"22\", \"23\", \"24\", \"25\", \"26\", \"27\", \"28\"], \"mode\": \"lines\", \"name\": \"average_precision_score_weighted_max\", \"stepped\": true, \"type\": \"scatter\", \"data\": [0.8380933106206966, 0.8396170128380487, 0.8641880027832224, 0.8641880027832224, 0.8641880027832224, 0.8641880027832224, 0.8641880027832224, 0.8641880027832224, 0.8641880027832224, 0.8641880027832224, 0.8641880027832224, 0.8641880027832224, 0.8641880027832224, 0.8641880027832224, 0.8641880027832224, 0.8641880027832224, 0.8644379806801329, 0.8644379806801329, 0.8644379806801329, 0.8644379806801329, 0.8644379806801329, 0.8678868385572265, 0.8678868385572265, 0.8702787425759058, 0.8702787425759058, 0.8702787425759058, 0.8702787425759058, 0.8702787425759058, 0.8883170823050435]}], \"balanced_accuracy\": [{\"categories\": [\"0\", \"1\", \"2\", \"3\", \"4\", \"5\", \"6\", \"7\", \"8\", \"9\", \"10\", \"11\", \"12\", \"13\", \"14\", \"15\", \"16\", \"17\", \"18\", \"19\", \"20\", \"21\", \"22\", \"23\", \"24\", \"25\", \"26\", \"27\", \"28\"], \"mode\": \"markers\", \"name\": \"balanced_accuracy\", \"stepped\": false, \"type\": \"scatter\", \"data\": [0.7244742757242757, 0.742049617049617, 0.7783433233433232, 0.7576585914085914, 0.7636430236430237, 0.6943714618714618, 0.7218985181485181, 0.6144305694305695, 0.7625969863469864, 0.6980407092907093, 0.6920471195471196, 0.7509190809190809, 0.6608870296370295, 0.7303854478854479, 0.7569738594738595, 0.7340896603396604, 0.7533137695637696, 0.6609486346986347, 0.6387487512487513, 0.7611842324342324, 0.7422123709623709, 0.7237162837162836, 0.6330960705960706, 0.7717815517815518, 0.7567982017982018, 0.464044289044289, 0.7067499167499167, 0.7421661671661671, 0.7396986346986347]}, {\"categories\": [\"0\", \"1\", \"2\", \"3\", \"4\", \"5\", \"6\", \"7\", \"8\", \"9\", \"10\", \"11\", \"12\", \"13\", \"14\", \"15\", \"16\", \"17\", \"18\", \"19\", \"20\", \"21\", \"22\", \"23\", \"24\", \"25\", \"26\", \"27\", \"28\"], \"mode\": \"lines\", \"name\": \"balanced_accuracy_max\", \"stepped\": true, \"type\": \"scatter\", \"data\": [0.7244742757242757, 0.742049617049617, 0.7783433233433232, 0.7783433233433232, 0.7783433233433232, 0.7783433233433232, 0.7783433233433232, 0.7783433233433232, 0.7783433233433232, 0.7783433233433232, 0.7783433233433232, 0.7783433233433232, 0.7783433233433232, 0.7783433233433232, 0.7783433233433232, 0.7783433233433232, 0.7783433233433232, 0.7783433233433232, 0.7783433233433232, 0.7783433233433232, 0.7783433233433232, 0.7783433233433232, 0.7783433233433232, 0.7783433233433232, 0.7783433233433232, 0.7783433233433232, 0.7783433233433232, 0.7783433233433232, 0.7783433233433232]}], \"f1_score_macro\": [{\"categories\": [\"0\", \"1\", \"2\", \"3\", \"4\", \"5\", \"6\", \"7\", \"8\", \"9\", \"10\", \"11\", \"12\", \"13\", \"14\", \"15\", \"16\", \"17\", \"18\", \"19\", \"20\", \"21\", \"22\", \"23\", \"24\", \"25\", \"26\", \"27\", \"28\"], \"mode\": \"markers\", \"name\": \"f1_score_macro\", \"stepped\": false, \"type\": \"scatter\", \"data\": [0.716861040137928, 0.7295255903516773, 0.7717671217671216, 0.7549020814366083, 0.7487175365951109, 0.6811906426906427, 0.716114441114441, 0.6043630238309872, 0.7521949778866615, 0.6960525828946882, 0.6881259507755673, 0.7458044757175191, 0.6506192358898668, 0.7222792207792208, 0.7474156107214636, 0.7231550359971413, 0.7420159531912688, 0.6507772657450077, 0.6352094757094757, 0.7551761945783685, 0.7257942320946114, 0.7126723421506029, 0.6153369534948482, 0.7607272618883594, 0.7356177719221197, 0.3429850093805213, 0.7044664535645826, 0.7373578800228474, 0.7323385111620407]}, {\"categories\": [\"0\", \"1\", \"2\", \"3\", \"4\", \"5\", \"6\", \"7\", \"8\", \"9\", \"10\", \"11\", \"12\", \"13\", \"14\", \"15\", \"16\", \"17\", \"18\", \"19\", \"20\", \"21\", \"22\", \"23\", \"24\", \"25\", \"26\", \"27\", \"28\"], \"mode\": \"lines\", \"name\": \"f1_score_macro_max\", \"stepped\": true, \"type\": \"scatter\", \"data\": [0.716861040137928, 0.7295255903516773, 0.7717671217671216, 0.7717671217671216, 0.7717671217671216, 0.7717671217671216, 0.7717671217671216, 0.7717671217671216, 0.7717671217671216, 0.7717671217671216, 0.7717671217671216, 0.7717671217671216, 0.7717671217671216, 0.7717671217671216, 0.7717671217671216, 0.7717671217671216, 0.7717671217671216, 0.7717671217671216, 0.7717671217671216, 0.7717671217671216, 0.7717671217671216, 0.7717671217671216, 0.7717671217671216, 0.7717671217671216, 0.7717671217671216, 0.7717671217671216, 0.7717671217671216, 0.7717671217671216, 0.7717671217671216]}], \"precision_score_weighted\": [{\"categories\": [\"0\", \"1\", \"2\", \"3\", \"4\", \"5\", \"6\", \"7\", \"8\", \"9\", \"10\", \"11\", \"12\", \"13\", \"14\", \"15\", \"16\", \"17\", \"18\", \"19\", \"20\", \"21\", \"22\", \"23\", \"24\", \"25\", \"26\", \"27\", \"28\"], \"mode\": \"markers\", \"name\": \"precision_score_weighted\", \"stepped\": false, \"type\": \"scatter\", \"data\": [0.7437578023000018, 0.7714899337661486, 0.7984161959098021, 0.776935817805383, 0.7916444595472728, 0.711389287041461, 0.7397216934812842, 0.6486322855888074, 0.7724617411573933, 0.7202824853464239, 0.7143875448223274, 0.7665411144695032, 0.6882450279189409, 0.7455852842809365, 0.7764906349688958, 0.7659469175325953, 0.7661107732846864, 0.6834392419175027, 0.6688420005683433, 0.7756130825696042, 0.7626318608927305, 0.74701694298881, 0.6727618577075098, 0.8057979133682458, 0.7771803076150902, 0.2865297588359971, 0.7261764805243066, 0.7585413137587051, 0.7652805648457821]}, {\"categories\": [\"0\", \"1\", \"2\", \"3\", \"4\", \"5\", \"6\", \"7\", \"8\", \"9\", \"10\", \"11\", \"12\", \"13\", \"14\", \"15\", \"16\", \"17\", \"18\", \"19\", \"20\", \"21\", \"22\", \"23\", \"24\", \"25\", \"26\", \"27\", \"28\"], \"mode\": \"lines\", \"name\": \"precision_score_weighted_max\", \"stepped\": true, \"type\": \"scatter\", \"data\": [0.7437578023000018, 0.7714899337661486, 0.7984161959098021, 0.7984161959098021, 0.7984161959098021, 0.7984161959098021, 0.7984161959098021, 0.7984161959098021, 0.7984161959098021, 0.7984161959098021, 0.7984161959098021, 0.7984161959098021, 0.7984161959098021, 0.7984161959098021, 0.7984161959098021, 0.7984161959098021, 0.7984161959098021, 0.7984161959098021, 0.7984161959098021, 0.7984161959098021, 0.7984161959098021, 0.7984161959098021, 0.7984161959098021, 0.8057979133682458, 0.8057979133682458, 0.8057979133682458, 0.8057979133682458, 0.8057979133682458, 0.8057979133682458]}], \"average_precision_score_micro\": [{\"categories\": [\"0\", \"1\", \"2\", \"3\", \"4\", \"5\", \"6\", \"7\", \"8\", \"9\", \"10\", \"11\", \"12\", \"13\", \"14\", \"15\", \"16\", \"17\", \"18\", \"19\", \"20\", \"21\", \"22\", \"23\", \"24\", \"25\", \"26\", \"27\", \"28\"], \"mode\": \"markers\", \"name\": \"average_precision_score_micro\", \"stepped\": false, \"type\": \"scatter\", \"data\": [0.8172435246657443, 0.8167873497389051, 0.8471292905553792, 0.8090286121594609, 0.8289268473089478, 0.760406720366053, 0.8010751826739149, 0.6037655505887548, 0.8398271118104287, 0.7944126533609166, 0.797063612182955, 0.8132602432475846, 0.7996656283879842, 0.8298449246623509, 0.8211884788466101, 0.8299478459435885, 0.8470503991369547, 0.7736964840983747, 0.7603179054217557, 0.8103458353932155, 0.825030375462798, 0.8382213822584603, 0.7204406869713086, 0.8366355297482937, 0.7724774717928373, 0.4713332671980594, 0.7863087195241641, 0.8160421510487701, 0.8559214149979489]}, {\"categories\": [\"0\", \"1\", \"2\", \"3\", \"4\", \"5\", \"6\", \"7\", \"8\", \"9\", \"10\", \"11\", \"12\", \"13\", \"14\", \"15\", \"16\", \"17\", \"18\", \"19\", \"20\", \"21\", \"22\", \"23\", \"24\", \"25\", \"26\", \"27\", \"28\"], \"mode\": \"lines\", \"name\": \"average_precision_score_micro_max\", \"stepped\": true, \"type\": \"scatter\", \"data\": [0.8172435246657443, 0.8172435246657443, 0.8471292905553792, 0.8471292905553792, 0.8471292905553792, 0.8471292905553792, 0.8471292905553792, 0.8471292905553792, 0.8471292905553792, 0.8471292905553792, 0.8471292905553792, 0.8471292905553792, 0.8471292905553792, 0.8471292905553792, 0.8471292905553792, 0.8471292905553792, 0.8471292905553792, 0.8471292905553792, 0.8471292905553792, 0.8471292905553792, 0.8471292905553792, 0.8471292905553792, 0.8471292905553792, 0.8471292905553792, 0.8471292905553792, 0.8471292905553792, 0.8471292905553792, 0.8471292905553792, 0.8559214149979489]}], \"weighted_accuracy\": [{\"categories\": [\"0\", \"1\", \"2\", \"3\", \"4\", \"5\", \"6\", \"7\", \"8\", \"9\", \"10\", \"11\", \"12\", \"13\", \"14\", \"15\", \"16\", \"17\", \"18\", \"19\", \"20\", \"21\", \"22\", \"23\", \"24\", \"25\", \"26\", \"27\", \"28\"], \"mode\": \"markers\", \"name\": \"weighted_accuracy\", \"stepped\": false, \"type\": \"scatter\", \"data\": [0.7382977647978255, 0.7394050851853536, 0.7871386953126437, 0.7737870065055733, 0.7523205073409382, 0.6848950537667899, 0.7397654559758938, 0.6242647068803503, 0.7554826935250069, 0.7302991548351685, 0.717208485949189, 0.7630685309489393, 0.6662929518746583, 0.7319457332260515, 0.7580403525877036, 0.7439669097792381, 0.7460710734392302, 0.6631361114621563, 0.6687958829798427, 0.7700788903505718, 0.7251704670455155, 0.7229135371738505, 0.6407581214852363, 0.7760702054334537, 0.7283488029035435, 0.35986853290355547, 0.7367509114955867, 0.7543088737107781, 0.7562164372022572]}, {\"categories\": [\"0\", \"1\", \"2\", \"3\", \"4\", \"5\", \"6\", \"7\", \"8\", \"9\", \"10\", \"11\", \"12\", \"13\", \"14\", \"15\", \"16\", \"17\", \"18\", \"19\", \"20\", \"21\", \"22\", \"23\", \"24\", \"25\", \"26\", \"27\", \"28\"], \"mode\": \"lines\", \"name\": \"weighted_accuracy_max\", \"stepped\": true, \"type\": \"scatter\", \"data\": [0.7382977647978255, 0.7394050851853536, 0.7871386953126437, 0.7871386953126437, 0.7871386953126437, 0.7871386953126437, 0.7871386953126437, 0.7871386953126437, 0.7871386953126437, 0.7871386953126437, 0.7871386953126437, 0.7871386953126437, 0.7871386953126437, 0.7871386953126437, 0.7871386953126437, 0.7871386953126437, 0.7871386953126437, 0.7871386953126437, 0.7871386953126437, 0.7871386953126437, 0.7871386953126437, 0.7871386953126437, 0.7871386953126437, 0.7871386953126437, 0.7871386953126437, 0.7871386953126437, 0.7871386953126437, 0.7871386953126437, 0.7871386953126437]}], \"precision_score_macro\": [{\"categories\": [\"0\", \"1\", \"2\", \"3\", \"4\", \"5\", \"6\", \"7\", \"8\", \"9\", \"10\", \"11\", \"12\", \"13\", \"14\", \"15\", \"16\", \"17\", \"18\", \"19\", \"20\", \"21\", \"22\", \"23\", \"24\", \"25\", \"26\", \"27\", \"28\"], \"mode\": \"markers\", \"name\": \"precision_score_macro\", \"stepped\": false, \"type\": \"scatter\", \"data\": [0.7221931989579049, 0.7504473467708761, 0.7816303304538599, 0.7663353313353314, 0.7711903292785646, 0.6873137973137974, 0.7202301619948679, 0.6226911976911976, 0.7507109557109558, 0.7015610533257591, 0.6974753024753024, 0.750837789661319, 0.6648178210678211, 0.7288469863469864, 0.7561069486069487, 0.7435043877690937, 0.7445979020979021, 0.6566025641025641, 0.6528110941346237, 0.7571507659007658, 0.7367393717393718, 0.7271140134375429, 0.6478950216450217, 0.7891129785247433, 0.7497946497946498, 0.3023386034255599, 0.7115789765789765, 0.7388311688311688, 0.7470551670551672]}, {\"categories\": [\"0\", \"1\", \"2\", \"3\", \"4\", \"5\", \"6\", \"7\", \"8\", \"9\", \"10\", \"11\", \"12\", \"13\", \"14\", \"15\", \"16\", \"17\", \"18\", \"19\", \"20\", \"21\", \"22\", \"23\", \"24\", \"25\", \"26\", \"27\", \"28\"], \"mode\": \"lines\", \"name\": \"precision_score_macro_max\", \"stepped\": true, \"type\": \"scatter\", \"data\": [0.7221931989579049, 0.7504473467708761, 0.7816303304538599, 0.7816303304538599, 0.7816303304538599, 0.7816303304538599, 0.7816303304538599, 0.7816303304538599, 0.7816303304538599, 0.7816303304538599, 0.7816303304538599, 0.7816303304538599, 0.7816303304538599, 0.7816303304538599, 0.7816303304538599, 0.7816303304538599, 0.7816303304538599, 0.7816303304538599, 0.7816303304538599, 0.7816303304538599, 0.7816303304538599, 0.7816303304538599, 0.7816303304538599, 0.7891129785247433, 0.7891129785247433, 0.7891129785247433, 0.7891129785247433, 0.7891129785247433, 0.7891129785247433]}], \"recall_score_micro\": [{\"categories\": [\"0\", \"1\", \"2\", \"3\", \"4\", \"5\", \"6\", \"7\", \"8\", \"9\", \"10\", \"11\", \"12\", \"13\", \"14\", \"15\", \"16\", \"17\", \"18\", \"19\", \"20\", \"21\", \"22\", \"23\", \"24\", \"25\", \"26\", \"27\", \"28\"], \"mode\": \"markers\", \"name\": \"recall_score_micro\", \"stepped\": false, \"type\": \"scatter\", \"data\": [0.7329710144927536, 0.7416666666666666, 0.7840579710144928, 0.7673913043478262, 0.7583333333333333, 0.6891304347826088, 0.7326086956521739, 0.6202898550724637, 0.758695652173913, 0.716304347826087, 0.7068840579710145, 0.7583333333333334, 0.6634057971014493, 0.7318840579710144, 0.7583333333333332, 0.7405797101449275, 0.7496376811594203, 0.6626811594202898, 0.6561594202898551, 0.7666666666666666, 0.7329710144927536, 0.7242753623188406, 0.6384057971014492, 0.7753623188405797, 0.7409420289855072, 0.40434782608695646, 0.7239130434782609, 0.7492753623188405, 0.75]}, {\"categories\": [\"0\", \"1\", \"2\", \"3\", \"4\", \"5\", \"6\", \"7\", \"8\", \"9\", \"10\", \"11\", \"12\", \"13\", \"14\", \"15\", \"16\", \"17\", \"18\", \"19\", \"20\", \"21\", \"22\", \"23\", \"24\", \"25\", \"26\", \"27\", \"28\"], \"mode\": \"lines\", \"name\": \"recall_score_micro_max\", \"stepped\": true, \"type\": \"scatter\", \"data\": [0.7329710144927536, 0.7416666666666666, 0.7840579710144928, 0.7840579710144928, 0.7840579710144928, 0.7840579710144928, 0.7840579710144928, 0.7840579710144928, 0.7840579710144928, 0.7840579710144928, 0.7840579710144928, 0.7840579710144928, 0.7840579710144928, 0.7840579710144928, 0.7840579710144928, 0.7840579710144928, 0.7840579710144928, 0.7840579710144928, 0.7840579710144928, 0.7840579710144928, 0.7840579710144928, 0.7840579710144928, 0.7840579710144928, 0.7840579710144928, 0.7840579710144928, 0.7840579710144928, 0.7840579710144928, 0.7840579710144928, 0.7840579710144928]}], \"log_loss\": [{\"categories\": [\"0\", \"1\", \"2\", \"3\", \"4\", \"5\", \"6\", \"7\", \"8\", \"9\", \"10\", \"11\", \"12\", \"13\", \"14\", \"15\", \"16\", \"17\", \"18\", \"19\", \"20\", \"21\", \"22\", \"23\", \"24\", \"25\", \"26\", \"27\", \"28\"], \"mode\": \"markers\", \"name\": \"log_loss\", \"stepped\": false, \"type\": \"scatter\", \"data\": [0.5449937089534775, 0.6055206537040912, 0.5071119115968644, 0.5478975901316732, 0.5318229790890698, 0.8396665227653359, 0.549841047737128, 0.6915620367433141, 0.5959247013717448, 0.5807097209354303, 0.5537689863031223, 0.5316714566177599, 0.6276997922904014, 0.5439805117846764, 0.5238528085399472, 0.5966633998131442, 0.5465471901004172, 1.0980527343526088, 0.5870509544823109, 0.526102619893779, 0.5421614900417324, 0.49442756964665097, 0.631663112500686, 0.5672134819432503, 0.6182962189588906, 0.6979056345538572, 0.5636209957740675, 0.5407671125949285, 0.5312693163211686]}, {\"categories\": [\"0\", \"1\", \"2\", \"3\", \"4\", \"5\", \"6\", \"7\", \"8\", \"9\", \"10\", \"11\", \"12\", \"13\", \"14\", \"15\", \"16\", \"17\", \"18\", \"19\", \"20\", \"21\", \"22\", \"23\", \"24\", \"25\", \"26\", \"27\", \"28\"], \"mode\": \"lines\", \"name\": \"log_loss_min\", \"stepped\": true, \"type\": \"scatter\", \"data\": [0.5449937089534775, 0.5449937089534775, 0.5071119115968644, 0.5071119115968644, 0.5071119115968644, 0.5071119115968644, 0.5071119115968644, 0.5071119115968644, 0.5071119115968644, 0.5071119115968644, 0.5071119115968644, 0.5071119115968644, 0.5071119115968644, 0.5071119115968644, 0.5071119115968644, 0.5071119115968644, 0.5071119115968644, 0.5071119115968644, 0.5071119115968644, 0.5071119115968644, 0.5071119115968644, 0.49442756964665097, 0.49442756964665097, 0.49442756964665097, 0.49442756964665097, 0.49442756964665097, 0.49442756964665097, 0.49442756964665097, 0.49442756964665097]}], \"norm_macro_recall\": [{\"categories\": [\"0\", \"1\", \"2\", \"3\", \"4\", \"5\", \"6\", \"7\", \"8\", \"9\", \"10\", \"11\", \"12\", \"13\", \"14\", \"15\", \"16\", \"17\", \"18\", \"19\", \"20\", \"21\", \"22\", \"23\", \"24\", \"25\", \"26\", \"27\", \"28\"], \"mode\": \"markers\", \"name\": \"norm_macro_recall\", \"stepped\": false, \"type\": \"scatter\", \"data\": [0.4489485514485514, 0.484099234099234, 0.5566866466866467, 0.5153171828171829, 0.5272860472860474, 0.38874292374292374, 0.4437970362970363, 0.22886113886113887, 0.5251939726939727, 0.39608141858141854, 0.3840942390942391, 0.5018381618381618, 0.3217740592740593, 0.4607708957708958, 0.5139477189477188, 0.4681793206793207, 0.5066275391275392, 0.3218972693972695, 0.2774975024975025, 0.5223684648684648, 0.484424741924742, 0.4474325674325674, 0.26619214119214124, 0.5435631035631034, 0.5135964035964037, 0.0, 0.41349983349983355, 0.4843323343323343, 0.47939726939726945]}, {\"categories\": [\"0\", \"1\", \"2\", \"3\", \"4\", \"5\", \"6\", \"7\", \"8\", \"9\", \"10\", \"11\", \"12\", \"13\", \"14\", \"15\", \"16\", \"17\", \"18\", \"19\", \"20\", \"21\", \"22\", \"23\", \"24\", \"25\", \"26\", \"27\", \"28\"], \"mode\": \"lines\", \"name\": \"norm_macro_recall_max\", \"stepped\": true, \"type\": \"scatter\", \"data\": [0.4489485514485514, 0.484099234099234, 0.5566866466866467, 0.5566866466866467, 0.5566866466866467, 0.5566866466866467, 0.5566866466866467, 0.5566866466866467, 0.5566866466866467, 0.5566866466866467, 0.5566866466866467, 0.5566866466866467, 0.5566866466866467, 0.5566866466866467, 0.5566866466866467, 0.5566866466866467, 0.5566866466866467, 0.5566866466866467, 0.5566866466866467, 0.5566866466866467, 0.5566866466866467, 0.5566866466866467, 0.5566866466866467, 0.5566866466866467, 0.5566866466866467, 0.5566866466866467, 0.5566866466866467, 0.5566866466866467, 0.5566866466866467]}], \"recall_score_weighted\": [{\"categories\": [\"0\", \"1\", \"2\", \"3\", \"4\", \"5\", \"6\", \"7\", \"8\", \"9\", \"10\", \"11\", \"12\", \"13\", \"14\", \"15\", \"16\", \"17\", \"18\", \"19\", \"20\", \"21\", \"22\", \"23\", \"24\", \"25\", \"26\", \"27\", \"28\"], \"mode\": \"markers\", \"name\": \"recall_score_weighted\", \"stepped\": false, \"type\": \"scatter\", \"data\": [0.7329710144927536, 0.7416666666666666, 0.7840579710144928, 0.7673913043478262, 0.7583333333333333, 0.6891304347826088, 0.7326086956521739, 0.6202898550724637, 0.758695652173913, 0.716304347826087, 0.7068840579710145, 0.7583333333333334, 0.6634057971014493, 0.7318840579710144, 0.7583333333333332, 0.7405797101449275, 0.7496376811594203, 0.6626811594202898, 0.6561594202898551, 0.7666666666666666, 0.7329710144927536, 0.7242753623188406, 0.6384057971014492, 0.7753623188405797, 0.7409420289855072, 0.40434782608695646, 0.7239130434782609, 0.7492753623188405, 0.75]}, {\"categories\": [\"0\", \"1\", \"2\", \"3\", \"4\", \"5\", \"6\", \"7\", \"8\", \"9\", \"10\", \"11\", \"12\", \"13\", \"14\", \"15\", \"16\", \"17\", \"18\", \"19\", \"20\", \"21\", \"22\", \"23\", \"24\", \"25\", \"26\", \"27\", \"28\"], \"mode\": \"lines\", \"name\": \"recall_score_weighted_max\", \"stepped\": true, \"type\": \"scatter\", \"data\": [0.7329710144927536, 0.7416666666666666, 0.7840579710144928, 0.7840579710144928, 0.7840579710144928, 0.7840579710144928, 0.7840579710144928, 0.7840579710144928, 0.7840579710144928, 0.7840579710144928, 0.7840579710144928, 0.7840579710144928, 0.7840579710144928, 0.7840579710144928, 0.7840579710144928, 0.7840579710144928, 0.7840579710144928, 0.7840579710144928, 0.7840579710144928, 0.7840579710144928, 0.7840579710144928, 0.7840579710144928, 0.7840579710144928, 0.7840579710144928, 0.7840579710144928, 0.7840579710144928, 0.7840579710144928, 0.7840579710144928, 0.7840579710144928]}], \"accuracy\": [{\"categories\": [\"0\", \"1\", \"2\", \"3\", \"4\", \"5\", \"6\", \"7\", \"8\", \"9\", \"10\", \"11\", \"12\", \"13\", \"14\", \"15\", \"16\", \"17\", \"18\", \"19\", \"20\", \"21\", \"22\", \"23\", \"24\", \"25\", \"26\", \"27\", \"28\"], \"mode\": \"markers\", \"name\": \"accuracy\", \"stepped\": false, \"type\": \"scatter\", \"data\": [0.7329710144927536, 0.7416666666666666, 0.7840579710144928, 0.7673913043478262, 0.7583333333333333, 0.6891304347826088, 0.7326086956521739, 0.6202898550724637, 0.758695652173913, 0.716304347826087, 0.7068840579710145, 0.7583333333333334, 0.6634057971014493, 0.7318840579710144, 0.7583333333333332, 0.7405797101449275, 0.7496376811594203, 0.6626811594202898, 0.6561594202898551, 0.7666666666666666, 0.7329710144927536, 0.7242753623188406, 0.6384057971014492, 0.7753623188405797, 0.7409420289855072, 0.40434782608695646, 0.7239130434782609, 0.7492753623188405, 0.75]}, {\"categories\": [\"0\", \"1\", \"2\", \"3\", \"4\", \"5\", \"6\", \"7\", \"8\", \"9\", \"10\", \"11\", \"12\", \"13\", \"14\", \"15\", \"16\", \"17\", \"18\", \"19\", \"20\", \"21\", \"22\", \"23\", \"24\", \"25\", \"26\", \"27\", \"28\"], \"mode\": \"lines\", \"name\": \"accuracy_max\", \"stepped\": true, \"type\": \"scatter\", \"data\": [0.7329710144927536, 0.7416666666666666, 0.7840579710144928, 0.7840579710144928, 0.7840579710144928, 0.7840579710144928, 0.7840579710144928, 0.7840579710144928, 0.7840579710144928, 0.7840579710144928, 0.7840579710144928, 0.7840579710144928, 0.7840579710144928, 0.7840579710144928, 0.7840579710144928, 0.7840579710144928, 0.7840579710144928, 0.7840579710144928, 0.7840579710144928, 0.7840579710144928, 0.7840579710144928, 0.7840579710144928, 0.7840579710144928, 0.7840579710144928, 0.7840579710144928, 0.7840579710144928, 0.7840579710144928, 0.7840579710144928, 0.7840579710144928]}], \"precision_score_micro\": [{\"categories\": [\"0\", \"1\", \"2\", \"3\", \"4\", \"5\", \"6\", \"7\", \"8\", \"9\", \"10\", \"11\", \"12\", \"13\", \"14\", \"15\", \"16\", \"17\", \"18\", \"19\", \"20\", \"21\", \"22\", \"23\", \"24\", \"25\", \"26\", \"27\", \"28\"], \"mode\": \"markers\", \"name\": \"precision_score_micro\", \"stepped\": false, \"type\": \"scatter\", \"data\": [0.7329710144927536, 0.7416666666666666, 0.7840579710144928, 0.7673913043478262, 0.7583333333333333, 0.6891304347826088, 0.7326086956521739, 0.6202898550724637, 0.758695652173913, 0.716304347826087, 0.7068840579710145, 0.7583333333333334, 0.6634057971014493, 0.7318840579710144, 0.7583333333333332, 0.7405797101449275, 0.7496376811594203, 0.6626811594202898, 0.6561594202898551, 0.7666666666666666, 0.7329710144927536, 0.7242753623188406, 0.6384057971014492, 0.7753623188405797, 0.7409420289855072, 0.40434782608695646, 0.7239130434782609, 0.7492753623188405, 0.75]}, {\"categories\": [\"0\", \"1\", \"2\", \"3\", \"4\", \"5\", \"6\", \"7\", \"8\", \"9\", \"10\", \"11\", \"12\", \"13\", \"14\", \"15\", \"16\", \"17\", \"18\", \"19\", \"20\", \"21\", \"22\", \"23\", \"24\", \"25\", \"26\", \"27\", \"28\"], \"mode\": \"lines\", \"name\": \"precision_score_micro_max\", \"stepped\": true, \"type\": \"scatter\", \"data\": [0.7329710144927536, 0.7416666666666666, 0.7840579710144928, 0.7840579710144928, 0.7840579710144928, 0.7840579710144928, 0.7840579710144928, 0.7840579710144928, 0.7840579710144928, 0.7840579710144928, 0.7840579710144928, 0.7840579710144928, 0.7840579710144928, 0.7840579710144928, 0.7840579710144928, 0.7840579710144928, 0.7840579710144928, 0.7840579710144928, 0.7840579710144928, 0.7840579710144928, 0.7840579710144928, 0.7840579710144928, 0.7840579710144928, 0.7840579710144928, 0.7840579710144928, 0.7840579710144928, 0.7840579710144928, 0.7840579710144928, 0.7840579710144928]}], \"f1_score_weighted\": [{\"categories\": [\"0\", \"1\", \"2\", \"3\", \"4\", \"5\", \"6\", \"7\", \"8\", \"9\", \"10\", \"11\", \"12\", \"13\", \"14\", \"15\", \"16\", \"17\", \"18\", \"19\", \"20\", \"21\", \"22\", \"23\", \"24\", \"25\", \"26\", \"27\", \"28\"], \"mode\": \"markers\", \"name\": \"f1_score_weighted\", \"stepped\": false, \"type\": \"scatter\", \"data\": [0.7322358455173099, 0.7399497314279924, 0.7832380180206266, 0.7658562523012651, 0.7559555894567336, 0.6911638072072855, 0.7314644292905162, 0.6205416868918013, 0.7617075803834776, 0.7147362511206905, 0.704572358587704, 0.7576393847698195, 0.6643292824909137, 0.7314285714285715, 0.7582685274578512, 0.7378341892026102, 0.7513508595191625, 0.665412676150404, 0.6521474580170233, 0.7673213260169781, 0.7348695134584542, 0.7232050268572008, 0.6299371617449421, 0.7704152600234219, 0.7424405766282196, 0.31692100326041417, 0.7209656085278645, 0.7508821322145021, 0.7470486745422807]}, {\"categories\": [\"0\", \"1\", \"2\", \"3\", \"4\", \"5\", \"6\", \"7\", \"8\", \"9\", \"10\", \"11\", \"12\", \"13\", \"14\", \"15\", \"16\", \"17\", \"18\", \"19\", \"20\", \"21\", \"22\", \"23\", \"24\", \"25\", \"26\", \"27\", \"28\"], \"mode\": \"lines\", \"name\": \"f1_score_weighted_max\", \"stepped\": true, \"type\": \"scatter\", \"data\": [0.7322358455173099, 0.7399497314279924, 0.7832380180206266, 0.7832380180206266, 0.7832380180206266, 0.7832380180206266, 0.7832380180206266, 0.7832380180206266, 0.7832380180206266, 0.7832380180206266, 0.7832380180206266, 0.7832380180206266, 0.7832380180206266, 0.7832380180206266, 0.7832380180206266, 0.7832380180206266, 0.7832380180206266, 0.7832380180206266, 0.7832380180206266, 0.7832380180206266, 0.7832380180206266, 0.7832380180206266, 0.7832380180206266, 0.7832380180206266, 0.7832380180206266, 0.7832380180206266, 0.7832380180206266, 0.7832380180206266, 0.7832380180206266]}], \"AUC_micro\": [{\"categories\": [\"0\", \"1\", \"2\", \"3\", \"4\", \"5\", \"6\", \"7\", \"8\", \"9\", \"10\", \"11\", \"12\", \"13\", \"14\", \"15\", \"16\", \"17\", \"18\", \"19\", \"20\", \"21\", \"22\", \"23\", \"24\", \"25\", \"26\", \"27\", \"28\"], \"mode\": \"markers\", \"name\": \"AUC_micro\", \"stepped\": false, \"type\": \"scatter\", \"data\": [0.8251831285444234, 0.8186942081495484, 0.8482225372820837, 0.8081928691451375, 0.8264249894980045, 0.7744286258139047, 0.8051525414828818, 0.595737502625499, 0.8342640726738079, 0.7809093415248898, 0.7852309126233985, 0.8283386499684939, 0.7876529353077084, 0.8235008401596303, 0.825800120772947, 0.8270045683679899, 0.8418025362318842, 0.7894940663726109, 0.7346677431211932, 0.815206561121613, 0.8319726685570259, 0.8326749894980047, 0.7046077504725898, 0.8349742701113211, 0.7790806815795001, 0.4207434099978996, 0.7870746691871456, 0.8102145032556185, 0.8546418819575721]}, {\"categories\": [\"0\", \"1\", \"2\", \"3\", \"4\", \"5\", \"6\", \"7\", \"8\", \"9\", \"10\", \"11\", \"12\", \"13\", \"14\", \"15\", \"16\", \"17\", \"18\", \"19\", \"20\", \"21\", \"22\", \"23\", \"24\", \"25\", \"26\", \"27\", \"28\"], \"mode\": \"lines\", \"name\": \"AUC_micro_max\", \"stepped\": true, \"type\": \"scatter\", \"data\": [0.8251831285444234, 0.8251831285444234, 0.8482225372820837, 0.8482225372820837, 0.8482225372820837, 0.8482225372820837, 0.8482225372820837, 0.8482225372820837, 0.8482225372820837, 0.8482225372820837, 0.8482225372820837, 0.8482225372820837, 0.8482225372820837, 0.8482225372820837, 0.8482225372820837, 0.8482225372820837, 0.8482225372820837, 0.8482225372820837, 0.8482225372820837, 0.8482225372820837, 0.8482225372820837, 0.8482225372820837, 0.8482225372820837, 0.8482225372820837, 0.8482225372820837, 0.8482225372820837, 0.8482225372820837, 0.8482225372820837, 0.8546418819575721]}], \"f1_score_micro\": [{\"categories\": [\"0\", \"1\", \"2\", \"3\", \"4\", \"5\", \"6\", \"7\", \"8\", \"9\", \"10\", \"11\", \"12\", \"13\", \"14\", \"15\", \"16\", \"17\", \"18\", \"19\", \"20\", \"21\", \"22\", \"23\", \"24\", \"25\", \"26\", \"27\", \"28\"], \"mode\": \"markers\", \"name\": \"f1_score_micro\", \"stepped\": false, \"type\": \"scatter\", \"data\": [0.7329710144927536, 0.7416666666666665, 0.7840579710144928, 0.7673913043478261, 0.7583333333333333, 0.6891304347826087, 0.7326086956521739, 0.6202898550724637, 0.758695652173913, 0.716304347826087, 0.7068840579710144, 0.7583333333333334, 0.6634057971014493, 0.7318840579710144, 0.7583333333333332, 0.7405797101449275, 0.7496376811594202, 0.6626811594202898, 0.6561594202898551, 0.7666666666666666, 0.7329710144927535, 0.7242753623188405, 0.6384057971014492, 0.7753623188405797, 0.7409420289855071, 0.40434782608695646, 0.7239130434782608, 0.7492753623188405, 0.75]}, {\"categories\": [\"0\", \"1\", \"2\", \"3\", \"4\", \"5\", \"6\", \"7\", \"8\", \"9\", \"10\", \"11\", \"12\", \"13\", \"14\", \"15\", \"16\", \"17\", \"18\", \"19\", \"20\", \"21\", \"22\", \"23\", \"24\", \"25\", \"26\", \"27\", \"28\"], \"mode\": \"lines\", \"name\": \"f1_score_micro_max\", \"stepped\": true, \"type\": \"scatter\", \"data\": [0.7329710144927536, 0.7416666666666665, 0.7840579710144928, 0.7840579710144928, 0.7840579710144928, 0.7840579710144928, 0.7840579710144928, 0.7840579710144928, 0.7840579710144928, 0.7840579710144928, 0.7840579710144928, 0.7840579710144928, 0.7840579710144928, 0.7840579710144928, 0.7840579710144928, 0.7840579710144928, 0.7840579710144928, 0.7840579710144928, 0.7840579710144928, 0.7840579710144928, 0.7840579710144928, 0.7840579710144928, 0.7840579710144928, 0.7840579710144928, 0.7840579710144928, 0.7840579710144928, 0.7840579710144928, 0.7840579710144928, 0.7840579710144928]}], \"average_precision_score_macro\": [{\"categories\": [\"0\", \"1\", \"2\", \"3\", \"4\", \"5\", \"6\", \"7\", \"8\", \"9\", \"10\", \"11\", \"12\", \"13\", \"14\", \"15\", \"16\", \"17\", \"18\", \"19\", \"20\", \"21\", \"22\", \"23\", \"24\", \"25\", \"26\", \"27\", \"28\"], \"mode\": \"markers\", \"name\": \"average_precision_score_macro\", \"stepped\": false, \"type\": \"scatter\", \"data\": [0.8311227906363872, 0.8323208851710049, 0.8583237365333201, 0.8248587146422823, 0.852941834578254, 0.7646698275398338, 0.804977618305857, 0.6114121107461304, 0.8418770145647063, 0.7870108835746544, 0.7937970480653821, 0.8338169378694171, 0.8156668327471494, 0.8512389431651111, 0.8302081243474767, 0.8369556590688072, 0.8555047529800748, 0.7830833505044957, 0.7665447305327, 0.8241150271444976, 0.8524499043584012, 0.8636071354587168, 0.7108913872561542, 0.8638953147978468, 0.7676069730527602, 0.5212608379256315, 0.787936063420769, 0.8138937981124471, 0.8826289590095057]}, {\"categories\": [\"0\", \"1\", \"2\", \"3\", \"4\", \"5\", \"6\", \"7\", \"8\", \"9\", \"10\", \"11\", \"12\", \"13\", \"14\", \"15\", \"16\", \"17\", \"18\", \"19\", \"20\", \"21\", \"22\", \"23\", \"24\", \"25\", \"26\", \"27\", \"28\"], \"mode\": \"lines\", \"name\": \"average_precision_score_macro_max\", \"stepped\": true, \"type\": \"scatter\", \"data\": [0.8311227906363872, 0.8323208851710049, 0.8583237365333201, 0.8583237365333201, 0.8583237365333201, 0.8583237365333201, 0.8583237365333201, 0.8583237365333201, 0.8583237365333201, 0.8583237365333201, 0.8583237365333201, 0.8583237365333201, 0.8583237365333201, 0.8583237365333201, 0.8583237365333201, 0.8583237365333201, 0.8583237365333201, 0.8583237365333201, 0.8583237365333201, 0.8583237365333201, 0.8583237365333201, 0.8636071354587168, 0.8636071354587168, 0.8638953147978468, 0.8638953147978468, 0.8638953147978468, 0.8638953147978468, 0.8638953147978468, 0.8826289590095057]}], \"AUC_weighted\": [{\"categories\": [\"0\", \"1\", \"2\", \"3\", \"4\", \"5\", \"6\", \"7\", \"8\", \"9\", \"10\", \"11\", \"12\", \"13\", \"14\", \"15\", \"16\", \"17\", \"18\", \"19\", \"20\", \"21\", \"22\", \"23\", \"24\", \"25\", \"26\", \"27\", \"28\"], \"mode\": \"markers\", \"name\": \"AUC_weighted\", \"stepped\": false, \"type\": \"scatter\", \"data\": [0.8263428238428239, 0.8220715395715397, 0.8498823398823399, 0.8078754578754579, 0.8374888999889001, 0.7728331390831391, 0.7987282162282161, 0.5897075147075147, 0.8293068043068044, 0.7700782550782552, 0.7705470917970918, 0.8271861471861472, 0.7952170052170053, 0.8407223332223334, 0.828345682095682, 0.8289603452103453, 0.8527050727050728, 0.7732087357087357, 0.7445432345432345, 0.8174185536685536, 0.8469186369186369, 0.8509848484848487, 0.7088403263403263, 0.8532359307359307, 0.7688644688644689, 0.47863525363525367, 0.7836704961704961, 0.7986144411144409, 0.8755294705294705]}, {\"categories\": [\"0\", \"1\", \"2\", \"3\", \"4\", \"5\", \"6\", \"7\", \"8\", \"9\", \"10\", \"11\", \"12\", \"13\", \"14\", \"15\", \"16\", \"17\", \"18\", \"19\", \"20\", \"21\", \"22\", \"23\", \"24\", \"25\", \"26\", \"27\", \"28\"], \"mode\": \"lines\", \"name\": \"AUC_weighted_max\", \"stepped\": true, \"type\": \"scatter\", \"data\": [0.8263428238428239, 0.8263428238428239, 0.8498823398823399, 0.8498823398823399, 0.8498823398823399, 0.8498823398823399, 0.8498823398823399, 0.8498823398823399, 0.8498823398823399, 0.8498823398823399, 0.8498823398823399, 0.8498823398823399, 0.8498823398823399, 0.8498823398823399, 0.8498823398823399, 0.8498823398823399, 0.8527050727050728, 0.8527050727050728, 0.8527050727050728, 0.8527050727050728, 0.8527050727050728, 0.8527050727050728, 0.8527050727050728, 0.8532359307359307, 0.8532359307359307, 0.8532359307359307, 0.8532359307359307, 0.8532359307359307, 0.8755294705294705]}], \"matthews_correlation\": [{\"categories\": [\"0\", \"1\", \"2\", \"3\", \"4\", \"5\", \"6\", \"7\", \"8\", \"9\", \"10\", \"11\", \"12\", \"13\", \"14\", \"15\", \"16\", \"17\", \"18\", \"19\", \"20\", \"21\", \"22\", \"23\", \"24\", \"25\", \"26\", \"27\", \"28\"], \"mode\": \"markers\", \"name\": \"matthews_correlation\", \"stepped\": false, \"type\": \"scatter\", \"data\": [0.4464776988257121, 0.49195454575056463, 0.5597368637969324, 0.5232005015677785, 0.533933539214676, 0.3814489877177239, 0.4419548097227087, 0.2362569733862633, 0.5129925569169795, 0.39946118696783256, 0.3890181670184339, 0.501548710173964, 0.32526294830457203, 0.45911443829721693, 0.5129241108797968, 0.4770863632696737, 0.49772796666442776, 0.31746279084658496, 0.29107767407265495, 0.5182148490606698, 0.478556424334867, 0.45053705652973336, 0.27990307397481573, 0.5599461332102145, 0.5060574725921719, -0.09369419780625152, 0.4178004872347114, 0.48091319645470393, 0.48614200942786656]}, {\"categories\": [\"0\", \"1\", \"2\", \"3\", \"4\", \"5\", \"6\", \"7\", \"8\", \"9\", \"10\", \"11\", \"12\", \"13\", \"14\", \"15\", \"16\", \"17\", \"18\", \"19\", \"20\", \"21\", \"22\", \"23\", \"24\", \"25\", \"26\", \"27\", \"28\"], \"mode\": \"lines\", \"name\": \"matthews_correlation_max\", \"stepped\": true, \"type\": \"scatter\", \"data\": [0.4464776988257121, 0.49195454575056463, 0.5597368637969324, 0.5597368637969324, 0.5597368637969324, 0.5597368637969324, 0.5597368637969324, 0.5597368637969324, 0.5597368637969324, 0.5597368637969324, 0.5597368637969324, 0.5597368637969324, 0.5597368637969324, 0.5597368637969324, 0.5597368637969324, 0.5597368637969324, 0.5597368637969324, 0.5597368637969324, 0.5597368637969324, 0.5597368637969324, 0.5597368637969324, 0.5597368637969324, 0.5597368637969324, 0.5599461332102145, 0.5599461332102145, 0.5599461332102145, 0.5599461332102145, 0.5599461332102145, 0.5599461332102145]}], \"recall_score_macro\": [{\"categories\": [\"0\", \"1\", \"2\", \"3\", \"4\", \"5\", \"6\", \"7\", \"8\", \"9\", \"10\", \"11\", \"12\", \"13\", \"14\", \"15\", \"16\", \"17\", \"18\", \"19\", \"20\", \"21\", \"22\", \"23\", \"24\", \"25\", \"26\", \"27\", \"28\"], \"mode\": \"markers\", \"name\": \"recall_score_macro\", \"stepped\": false, \"type\": \"scatter\", \"data\": [0.7244742757242757, 0.742049617049617, 0.7783433233433232, 0.7576585914085914, 0.7636430236430237, 0.6943714618714618, 0.7218985181485181, 0.6144305694305695, 0.7625969863469864, 0.6980407092907093, 0.6920471195471196, 0.7509190809190809, 0.6608870296370295, 0.7303854478854479, 0.7569738594738595, 0.7340896603396604, 0.7533137695637696, 0.6609486346986347, 0.6387487512487513, 0.7611842324342324, 0.7422123709623709, 0.7237162837162836, 0.6330960705960706, 0.7717815517815518, 0.7567982017982018, 0.464044289044289, 0.7067499167499167, 0.7421661671661671, 0.7396986346986347]}, {\"categories\": [\"0\", \"1\", \"2\", \"3\", \"4\", \"5\", \"6\", \"7\", \"8\", \"9\", \"10\", \"11\", \"12\", \"13\", \"14\", \"15\", \"16\", \"17\", \"18\", \"19\", \"20\", \"21\", \"22\", \"23\", \"24\", \"25\", \"26\", \"27\", \"28\"], \"mode\": \"lines\", \"name\": \"recall_score_macro_max\", \"stepped\": true, \"type\": \"scatter\", \"data\": [0.7244742757242757, 0.742049617049617, 0.7783433233433232, 0.7783433233433232, 0.7783433233433232, 0.7783433233433232, 0.7783433233433232, 0.7783433233433232, 0.7783433233433232, 0.7783433233433232, 0.7783433233433232, 0.7783433233433232, 0.7783433233433232, 0.7783433233433232, 0.7783433233433232, 0.7783433233433232, 0.7783433233433232, 0.7783433233433232, 0.7783433233433232, 0.7783433233433232, 0.7783433233433232, 0.7783433233433232, 0.7783433233433232, 0.7783433233433232, 0.7783433233433232, 0.7783433233433232, 0.7783433233433232, 0.7783433233433232, 0.7783433233433232]}], \"AUC_macro\": [{\"categories\": [\"0\", \"1\", \"2\", \"3\", \"4\", \"5\", \"6\", \"7\", \"8\", \"9\", \"10\", \"11\", \"12\", \"13\", \"14\", \"15\", \"16\", \"17\", \"18\", \"19\", \"20\", \"21\", \"22\", \"23\", \"24\", \"25\", \"26\", \"27\", \"28\"], \"mode\": \"markers\", \"name\": \"AUC_macro\", \"stepped\": false, \"type\": \"scatter\", \"data\": [0.8263428238428239, 0.8220715395715394, 0.8498823398823399, 0.8078754578754579, 0.8374888999889001, 0.7728331390831391, 0.7987282162282163, 0.5897075147075147, 0.8293068043068044, 0.770078255078255, 0.7705470917970917, 0.8271861471861472, 0.7952170052170053, 0.8407223332223334, 0.8283456820956822, 0.8289603452103451, 0.8527050727050728, 0.7732087357087357, 0.7445432345432346, 0.8174185536685536, 0.8469186369186369, 0.8509848484848485, 0.7088403263403263, 0.8532359307359307, 0.7688644688644689, 0.47863525363525367, 0.7836704961704961, 0.798614441114441, 0.8755294705294705]}, {\"categories\": [\"0\", \"1\", \"2\", \"3\", \"4\", \"5\", \"6\", \"7\", \"8\", \"9\", \"10\", \"11\", \"12\", \"13\", \"14\", \"15\", \"16\", \"17\", \"18\", \"19\", \"20\", \"21\", \"22\", \"23\", \"24\", \"25\", \"26\", \"27\", \"28\"], \"mode\": \"lines\", \"name\": \"AUC_macro_max\", \"stepped\": true, \"type\": \"scatter\", \"data\": [0.8263428238428239, 0.8263428238428239, 0.8498823398823399, 0.8498823398823399, 0.8498823398823399, 0.8498823398823399, 0.8498823398823399, 0.8498823398823399, 0.8498823398823399, 0.8498823398823399, 0.8498823398823399, 0.8498823398823399, 0.8498823398823399, 0.8498823398823399, 0.8498823398823399, 0.8498823398823399, 0.8527050727050728, 0.8527050727050728, 0.8527050727050728, 0.8527050727050728, 0.8527050727050728, 0.8527050727050728, 0.8527050727050728, 0.8532359307359307, 0.8532359307359307, 0.8532359307359307, 0.8532359307359307, 0.8532359307359307, 0.8755294705294705]}]}, \"metricName\": null, \"primaryMetricName\": \"average_precision_score_weighted\", \"showLegend\": false}, \"run_metrics\": [{\"name\": \"experiment_status\", \"run_id\": \"AutoML_27fc52fe-52d5-4965-bac0-4c915d914966\", \"categories\": [0, 1, 2, 3, 4, 5, 6, 7, 8, 9, 10, 11, 12, 13], \"series\": [{\"data\": [\"DatasetEvaluation\", \"FeaturesGeneration\", \"DatasetFeaturization\", \"DatasetFeaturizationCompleted\", \"DatasetCrossValidationSplit\", \"ModelSelection\", \"BestRunExplainModel\", \"ModelExplanationDataSetSetup\", \"PickSurrogateModel\", \"EngineeredFeatureExplanations\", \"EngineeredFeatureExplanations\", \"RawFeaturesExplanations\", \"RawFeaturesExplanations\", \"BestRunExplainModel\"]}]}, {\"name\": \"experiment_status_description\", \"run_id\": \"AutoML_27fc52fe-52d5-4965-bac0-4c915d914966\", \"categories\": [0, 1, 2, 3, 4, 5, 6, 7, 8, 9, 10, 11, 12, 13], \"series\": [{\"data\": [\"Gathering dataset statistics.\", \"Generating features for the dataset.\", \"Beginning to fit featurizers and featurize the dataset.\", \"Completed fit featurizers and featurizing the dataset.\", \"Generating individually featurized CV splits.\", \"Beginning model selection.\", \"Best run model explanations started\", \"Model explanations data setup completed\", \"Choosing LightGBM as the surrogate model for explanations\", \"Computation of engineered features started\", \"Computation of engineered features completed\", \"Computation of raw features started\", \"Computation of raw features completed\", \"Best run model explanations completed\"]}]}, {\"name\": \"AUC_macro\", \"run_id\": \"AutoML_27fc52fe-52d5-4965-bac0-4c915d914966\", \"categories\": [0], \"series\": [{\"data\": [0.8755294705294705]}]}, {\"name\": \"norm_macro_recall\", \"run_id\": \"AutoML_27fc52fe-52d5-4965-bac0-4c915d914966\", \"categories\": [0], \"series\": [{\"data\": [0.47939726939726945]}]}, {\"name\": \"f1_score_micro\", \"run_id\": \"AutoML_27fc52fe-52d5-4965-bac0-4c915d914966\", \"categories\": [0], \"series\": [{\"data\": [0.75]}]}, {\"name\": \"precision_score_weighted\", \"run_id\": \"AutoML_27fc52fe-52d5-4965-bac0-4c915d914966\", \"categories\": [0], \"series\": [{\"data\": [0.7652805648457821]}]}, {\"name\": \"recall_score_macro\", \"run_id\": \"AutoML_27fc52fe-52d5-4965-bac0-4c915d914966\", \"categories\": [0], \"series\": [{\"data\": [0.7396986346986347]}]}, {\"name\": \"AUC_micro\", \"run_id\": \"AutoML_27fc52fe-52d5-4965-bac0-4c915d914966\", \"categories\": [0], \"series\": [{\"data\": [0.8546418819575721]}]}, {\"name\": \"average_precision_score_macro\", \"run_id\": \"AutoML_27fc52fe-52d5-4965-bac0-4c915d914966\", \"categories\": [0], \"series\": [{\"data\": [0.8826289590095057]}]}, {\"name\": \"log_loss\", \"run_id\": \"AutoML_27fc52fe-52d5-4965-bac0-4c915d914966\", \"categories\": [0], \"series\": [{\"data\": [0.5312693163211686]}]}, {\"name\": \"f1_score_weighted\", \"run_id\": \"AutoML_27fc52fe-52d5-4965-bac0-4c915d914966\", \"categories\": [0], \"series\": [{\"data\": [0.7470486745422807]}]}, {\"name\": \"AUC_weighted\", \"run_id\": \"AutoML_27fc52fe-52d5-4965-bac0-4c915d914966\", \"categories\": [0], \"series\": [{\"data\": [0.8755294705294705]}]}, {\"name\": \"f1_score_macro\", \"run_id\": \"AutoML_27fc52fe-52d5-4965-bac0-4c915d914966\", \"categories\": [0], \"series\": [{\"data\": [0.7323385111620407]}]}, {\"name\": \"matthews_correlation\", \"run_id\": \"AutoML_27fc52fe-52d5-4965-bac0-4c915d914966\", \"categories\": [0], \"series\": [{\"data\": [0.48614200942786656]}]}, {\"name\": \"average_precision_score_micro\", \"run_id\": \"AutoML_27fc52fe-52d5-4965-bac0-4c915d914966\", \"categories\": [0], \"series\": [{\"data\": [0.8559214149979489]}]}, {\"name\": \"precision_score_macro\", \"run_id\": \"AutoML_27fc52fe-52d5-4965-bac0-4c915d914966\", \"categories\": [0], \"series\": [{\"data\": [0.7470551670551672]}]}, {\"name\": \"precision_score_micro\", \"run_id\": \"AutoML_27fc52fe-52d5-4965-bac0-4c915d914966\", \"categories\": [0], \"series\": [{\"data\": [0.75]}]}, {\"name\": \"average_precision_score_weighted\", \"run_id\": \"AutoML_27fc52fe-52d5-4965-bac0-4c915d914966\", \"categories\": [0], \"series\": [{\"data\": [0.8883170823050435]}]}, {\"name\": \"weighted_accuracy\", \"run_id\": \"AutoML_27fc52fe-52d5-4965-bac0-4c915d914966\", \"categories\": [0], \"series\": [{\"data\": [0.7562164372022572]}]}, {\"name\": \"recall_score_micro\", \"run_id\": \"AutoML_27fc52fe-52d5-4965-bac0-4c915d914966\", \"categories\": [0], \"series\": [{\"data\": [0.75]}]}, {\"name\": \"accuracy\", \"run_id\": \"AutoML_27fc52fe-52d5-4965-bac0-4c915d914966\", \"categories\": [0], \"series\": [{\"data\": [0.75]}]}, {\"name\": \"recall_score_weighted\", \"run_id\": \"AutoML_27fc52fe-52d5-4965-bac0-4c915d914966\", \"categories\": [0], \"series\": [{\"data\": [0.75]}]}, {\"name\": \"balanced_accuracy\", \"run_id\": \"AutoML_27fc52fe-52d5-4965-bac0-4c915d914966\", \"categories\": [0], \"series\": [{\"data\": [0.7396986346986347]}]}], \"run_logs\": \"\\nRun is completed.\", \"graph\": {}, \"widget_settings\": {\"childWidgetDisplay\": \"popup\", \"send_telemetry\": false, \"log_level\": \"INFO\", \"sdk_version\": \"1.26.0\"}, \"loading\": false}"
          },
          "metadata": {}
        }
      ],
      "execution_count": 10,
      "metadata": {
        "gather": {
          "logged": 1618652307196
        },
        "jupyter": {
          "outputs_hidden": false,
          "source_hidden": false
        },
        "nteract": {
          "transient": {
            "deleting": false
          }
        }
      }
    },
    {
      "cell_type": "markdown",
      "source": [
        "## Best Model\n",
        "\n",
        "TODO: In the cell below, get the best model from the automl experiments and display all the properties of the model.\n",
        "\n"
      ],
      "metadata": {}
    },
    {
      "cell_type": "code",
      "source": [
        "best_run, fitted_model = remote_run.get_output()\r\n",
        "print(best_run)\r\n",
        "print(fitted_model)\r\n",
        "\r\n",
        "model_ml = best_run.register_model(model_name='Breast_Cancer_Classitification_auto_ml', model_path='./')"
      ],
      "outputs": [
        {
          "output_type": "stream",
          "name": "stdout",
          "text": [
            "Run(Experiment: Breastcancer_automl,\n",
            "Id: AutoML_27fc52fe-52d5-4965-bac0-4c915d914966_28,\n",
            "Type: azureml.scriptrun,\n",
            "Status: Completed)\n",
            "Pipeline(memory=None,\n",
            "         steps=[('datatransformer',\n",
            "                 DataTransformer(enable_dnn=None, enable_feature_sweeping=None,\n",
            "                                 feature_sweeping_config=None,\n",
            "                                 feature_sweeping_timeout=None,\n",
            "                                 featurization_config=None, force_text_dnn=None,\n",
            "                                 is_cross_validation=None,\n",
            "                                 is_onnx_compatible=None, logger=None,\n",
            "                                 observer=None, task=None, working_dir=None)),\n",
            "                ('prefittedsoftvotingclassifier',...\n",
            "                                                                                               objective='reg:logistic',\n",
            "                                                                                               random_state=0,\n",
            "                                                                                               reg_alpha=1.875,\n",
            "                                                                                               reg_lambda=0.9375,\n",
            "                                                                                               scale_pos_weight=1,\n",
            "                                                                                               seed=None,\n",
            "                                                                                               silent=None,\n",
            "                                                                                               subsample=0.5,\n",
            "                                                                                               tree_method='auto',\n",
            "                                                                                               verbose=-10,\n",
            "                                                                                               verbosity=0))],\n",
            "                                                                     verbose=False))],\n",
            "                                               flatten_transform=None,\n",
            "                                               weights=[0.14285714285714285,\n",
            "                                                        0.14285714285714285,\n",
            "                                                        0.2857142857142857,\n",
            "                                                        0.14285714285714285,\n",
            "                                                        0.14285714285714285,\n",
            "                                                        0.14285714285714285]))],\n",
            "         verbose=False)\n"
          ]
        }
      ],
      "execution_count": 48,
      "metadata": {
        "gather": {
          "logged": 1618656010863
        },
        "jupyter": {
          "outputs_hidden": false,
          "source_hidden": false
        },
        "nteract": {
          "transient": {
            "deleting": false
          }
        }
      }
    },
    {
      "cell_type": "code",
      "source": [
        "#TODO: Save the best model"
      ],
      "outputs": [],
      "execution_count": null,
      "metadata": {
        "gather": {
          "logged": 1598431426111
        },
        "jupyter": {
          "outputs_hidden": false,
          "source_hidden": false
        },
        "nteract": {
          "transient": {
            "deleting": false
          }
        }
      }
    },
    {
      "cell_type": "markdown",
      "source": [
        "## Model Deployment\n",
        "\n",
        "Remember you have to deploy only one of the two models you trained.. Perform the steps in the rest of this notebook only if you wish to deploy this model.\n",
        "\n",
        "TODO: In the cell below, register the model, create an inference config and deploy the model as a web service."
      ],
      "metadata": {}
    },
    {
      "cell_type": "code",
      "source": [
        "from azureml.core.model import Model\r\n",
        "from azureml.core import Environment\r\n",
        "from azureml.core.model import InferenceConfig\r\n",
        "from azureml.core.webservice import AciWebservice"
      ],
      "outputs": [],
      "execution_count": 12,
      "metadata": {
        "gather": {
          "logged": 1618652326141
        },
        "jupyter": {
          "outputs_hidden": false,
          "source_hidden": false
        },
        "nteract": {
          "transient": {
            "deleting": false
          }
        }
      }
    },
    {
      "cell_type": "markdown",
      "source": [
        "TODO: In the cell below, send a request to the web service you deployed to test it."
      ],
      "metadata": {
        "collapsed": true,
        "gather": {
          "logged": 1598431657736
        },
        "jupyter": {
          "outputs_hidden": false,
          "source_hidden": false
        },
        "nteract": {
          "transient": {
            "deleting": false
          }
        }
      }
    },
    {
      "cell_type": "code",
      "source": [
        "os.makedirs('./amlmodel', exist_ok=True)\r\n",
        "\r\n",
        "best_run.download_file('/outputs/model.pkl',os.path.join('./amlmodel','automl_best_model.pkl'))\r\n",
        "\r\n",
        "for f in best_run.get_file_names():\r\n",
        "    if f.startswith('outputs'):\r\n",
        "        output_file_path = os.path.join('./amlmodel', f.split('/')[-1])\r\n",
        "        print(f'Downloading from {f} to {output_file_path} ...')\r\n",
        "        best_run.download_file(name=f, output_file_path=output_file_path)"
      ],
      "outputs": [
        {
          "output_type": "stream",
          "name": "stdout",
          "text": [
            "Downloading from outputs/conda_env_v_1_0_0.yml to ./amlmodel/conda_env_v_1_0_0.yml ...\n",
            "Downloading from outputs/env_dependencies.json to ./amlmodel/env_dependencies.json ...\n",
            "Downloading from outputs/internal_cross_validated_models.pkl to ./amlmodel/internal_cross_validated_models.pkl ...\n",
            "Downloading from outputs/model.onnx to ./amlmodel/model.onnx ...\n",
            "Downloading from outputs/model.pkl to ./amlmodel/model.pkl ...\n",
            "Downloading from outputs/model_onnx.json to ./amlmodel/model_onnx.json ...\n",
            "Downloading from outputs/pipeline_graph.json to ./amlmodel/pipeline_graph.json ...\n",
            "Downloading from outputs/scoring_file_v_1_0_0.py to ./amlmodel/scoring_file_v_1_0_0.py ...\n"
          ]
        }
      ],
      "execution_count": 13,
      "metadata": {
        "gather": {
          "logged": 1618652327688
        },
        "jupyter": {
          "outputs_hidden": false,
          "source_hidden": false
        },
        "nteract": {
          "transient": {
            "deleting": false
          }
        }
      }
    },
    {
      "cell_type": "code",
      "source": [
        "model=best_run.register_model(\r\n",
        "            model_name = 'automl-bestmodel-breast-cancer', \r\n",
        "            model_path = './outputs/model.pkl',\r\n",
        "            model_framework=Model.Framework.SCIKITLEARN,\r\n",
        "            description='Breast Cancer Prediction'\r\n",
        ")"
      ],
      "outputs": [],
      "execution_count": 21,
      "metadata": {
        "collapsed": true,
        "jupyter": {
          "source_hidden": false,
          "outputs_hidden": false
        },
        "nteract": {
          "transient": {
            "deleting": false
          }
        },
        "gather": {
          "logged": 1618653126403
        }
      }
    },
    {
      "cell_type": "code",
      "source": [
        "# Download the conda environment file and define the environement\r\n",
        "best_run.download_file('outputs/conda_env_v_1_0_0.yml', 'conda_env.yml')\r\n",
        "myenv = Environment.from_conda_specification(name = 'myenv',\r\n",
        "                                             file_path = 'conda_env.yml')"
      ],
      "outputs": [],
      "execution_count": 22,
      "metadata": {
        "collapsed": true,
        "jupyter": {
          "source_hidden": false,
          "outputs_hidden": false
        },
        "nteract": {
          "transient": {
            "deleting": false
          }
        },
        "gather": {
          "logged": 1618653131082
        }
      }
    },
    {
      "cell_type": "code",
      "source": [
        "# download the scoring file produced by AutoML\r\n",
        "best_run.download_file('outputs/scoring_file_v_1_0_0.py', 'score_auto.py')\r\n",
        "\r\n",
        "# set inference config\r\n",
        "inference_config = InferenceConfig(entry_script= 'score_auto.py',\r\n",
        "                                    environment=myenv)"
      ],
      "outputs": [],
      "execution_count": 23,
      "metadata": {
        "collapsed": true,
        "jupyter": {
          "source_hidden": false,
          "outputs_hidden": false
        },
        "nteract": {
          "transient": {
            "deleting": false
          }
        },
        "gather": {
          "logged": 1618653135578
        }
      }
    },
    {
      "cell_type": "markdown",
      "source": [
        "TODO: In the cell below, print the logs of the web service and delete the service"
      ],
      "metadata": {
        "collapsed": true,
        "gather": {
          "logged": 1598432765711
        },
        "jupyter": {
          "outputs_hidden": false,
          "source_hidden": false
        },
        "nteract": {
          "transient": {
            "deleting": false
          }
        }
      }
    },
    {
      "cell_type": "code",
      "source": [
        "# set Aci Webservice config\r\n",
        "aci_config = AciWebservice.deploy_configuration(cpu_cores=1, memory_gb=1, auth_enabled=True)"
      ],
      "outputs": [],
      "execution_count": 24,
      "metadata": {
        "jupyter": {
          "outputs_hidden": false,
          "source_hidden": false
        },
        "nteract": {
          "transient": {
            "deleting": false
          }
        },
        "gather": {
          "logged": 1618653138719
        }
      }
    },
    {
      "cell_type": "code",
      "source": [
        "service = Model.deploy(workspace=ws, \r\n",
        "                       name='automl-bestmodel-breast-cancer', \r\n",
        "                       models=[model], \r\n",
        "                       inference_config=inference_config,\r\n",
        "                       deployment_config=aci_config,\r\n",
        "                       overwrite=True)"
      ],
      "outputs": [],
      "execution_count": 25,
      "metadata": {
        "collapsed": true,
        "jupyter": {
          "source_hidden": false,
          "outputs_hidden": false
        },
        "nteract": {
          "transient": {
            "deleting": false
          }
        },
        "gather": {
          "logged": 1618653144486
        }
      }
    },
    {
      "cell_type": "code",
      "source": [
        "service"
      ],
      "outputs": [
        {
          "output_type": "execute_result",
          "execution_count": 26,
          "data": {
            "text/plain": "AciWebservice(workspace=Workspace.create(name='quick-starts-ws-142915', subscription_id='aa7cf8e8-d23f-4bce-a7b9-1f0b4e0ac8ee', resource_group='aml-quickstarts-142915'), name=automl-bestmodel-breast-cancer, image_id=None, compute_type=None, state=ACI, scoring_uri=Transitioning, tags=None, properties=None, created_by={'azureml.git.repository_uri': 'https://github.com/Yagna27/capstone-project.git', 'mlflow.source.git.repoURL': 'https://github.com/Yagna27/capstone-project.git', 'azureml.git.branch': 'main', 'mlflow.source.git.branch': 'main', 'azureml.git.commit': 'c84f2e1462a81161113e4d21ef9035cef7824b89', 'mlflow.source.git.commit': 'c84f2e1462a81161113e4d21ef9035cef7824b89', 'azureml.git.dirty': 'True'})"
          },
          "metadata": {}
        }
      ],
      "execution_count": 26,
      "metadata": {
        "collapsed": true,
        "jupyter": {
          "source_hidden": false,
          "outputs_hidden": false
        },
        "nteract": {
          "transient": {
            "deleting": false
          }
        },
        "gather": {
          "logged": 1618653147668
        }
      }
    },
    {
      "cell_type": "code",
      "source": [
        "# wait for deployment to finish and display the scoring uri and swagger uri\r\n",
        "service.wait_for_deployment(show_output=True)\r\n",
        "\r\n",
        "print('Service state:')\r\n",
        "print(service.state)\r\n",
        "\r\n",
        "print('Scoring URI:')\r\n",
        "print(service.scoring_uri)\r\n",
        "\r\n",
        "print('Swagger URI:')\r\n",
        "print(service.swagger_uri)"
      ],
      "outputs": [
        {
          "output_type": "stream",
          "name": "stdout",
          "text": [
            "Tips: You can try get_logs(): https://aka.ms/debugimage#dockerlog or local deployment: https://aka.ms/debugimage#debug-locally to debug if deployment takes longer than 10 minutes.\n",
            "Running\n",
            "2021-04-17 09:52:24+00:00 Creating Container Registry if not exists.\n",
            "2021-04-17 09:52:25+00:00 Registering the environment.\n",
            "2021-04-17 09:52:26+00:00 Use the existing image.\n",
            "2021-04-17 09:52:27+00:00 Generating deployment configuration.\n",
            "2021-04-17 09:52:28+00:00 Submitting deployment to compute.\n",
            "2021-04-17 09:52:32+00:00 Checking the status of deployment automl-bestmodel-breast-cancer..\n",
            "2021-04-17 09:57:00+00:00 Checking the status of inference endpoint automl-bestmodel-breast-cancer.\n",
            "Succeeded\n",
            "ACI service creation operation finished, operation \"Succeeded\"\n",
            "Service state:\n",
            "Healthy\n",
            "Scoring URI:\n",
            "http://42e7f579-4b3d-4250-aee7-702d67e48ee5.southcentralus.azurecontainer.io/score\n",
            "Swagger URI:\n",
            "http://42e7f579-4b3d-4250-aee7-702d67e48ee5.southcentralus.azurecontainer.io/swagger.json\n"
          ]
        }
      ],
      "execution_count": 27,
      "metadata": {
        "collapsed": true,
        "jupyter": {
          "source_hidden": false,
          "outputs_hidden": false
        },
        "nteract": {
          "transient": {
            "deleting": false
          }
        },
        "gather": {
          "logged": 1618653425095
        }
      }
    },
    {
      "cell_type": "code",
      "source": [
        "df=ds.to_pandas_dataframe()"
      ],
      "outputs": [],
      "execution_count": 32,
      "metadata": {
        "collapsed": true,
        "jupyter": {
          "source_hidden": false,
          "outputs_hidden": false
        },
        "nteract": {
          "transient": {
            "deleting": false
          }
        },
        "gather": {
          "logged": 1618653724196
        }
      }
    },
    {
      "cell_type": "code",
      "source": [
        "import json\r\n",
        "\r\n",
        "# select 3  samples from the dataframe\r\n",
        "x_ds=df.sample(3)\r\n",
        "y_ds = x_ds.pop('Classification')\r\n",
        "\r\n",
        "\r\n",
        "\r\n",
        "# convert the records to a json data file\r\n",
        "recored=x_ds.to_dict(orient='records')\r\n",
        "\r\n",
        "scoring_json = json.dumps({'data': recored})\r\n",
        "print(scoring_json)"
      ],
      "outputs": [
        {
          "output_type": "stream",
          "name": "stdout",
          "text": [
            "{\"data\": [{\"Age\": 46, \"BMI\": 33.18, \"Glucose\": 92, \"Insulin\": 5.75, \"HOMA\": 1.304866667, \"Leptin\": 18.69, \"Adiponectin\": 9.16, \"Resistin\": 8.89, \"MCP.1\": 209.19}, {\"Age\": 58, \"BMI\": 29.15451895, \"Glucose\": 139, \"Insulin\": 16.582, \"HOMA\": 5.685415067, \"Leptin\": 22.8884, \"Adiponectin\": 10.26266, \"Resistin\": 13.97399, \"MCP.1\": 923.886}, {\"Age\": 44, \"BMI\": 27.88761707, \"Glucose\": 99, \"Insulin\": 9.208, \"HOMA\": 2.2485936, \"Leptin\": 12.6757, \"Adiponectin\": 5.47817, \"Resistin\": 23.03306, \"MCP.1\": 407.206}]}\n"
          ]
        }
      ],
      "execution_count": 45,
      "metadata": {
        "collapsed": true,
        "jupyter": {
          "source_hidden": false,
          "outputs_hidden": false
        },
        "nteract": {
          "transient": {
            "deleting": false
          }
        },
        "gather": {
          "logged": 1618655215280
        }
      }
    },
    {
      "cell_type": "code",
      "source": [
        "!python3 endpoint.py"
      ],
      "outputs": [],
      "execution_count": 46,
      "metadata": {
        "collapsed": true,
        "jupyter": {
          "source_hidden": false,
          "outputs_hidden": false
        },
        "nteract": {
          "transient": {
            "deleting": false
          }
        }
      }
    },
    {
      "cell_type": "code",
      "source": [
        "output = service.run(scoring_json)\r\n",
        "output"
      ],
      "outputs": [
        {
          "output_type": "execute_result",
          "execution_count": 47,
          "data": {
            "text/plain": "'{\"result\": [1, 2, 2]}'"
          },
          "metadata": {}
        }
      ],
      "execution_count": 47,
      "metadata": {
        "collapsed": true,
        "jupyter": {
          "source_hidden": false,
          "outputs_hidden": false
        },
        "nteract": {
          "transient": {
            "deleting": false
          }
        },
        "gather": {
          "logged": 1618655225042
        }
      }
    },
    {
      "cell_type": "code",
      "source": [
        "y_ds"
      ],
      "outputs": [
        {
          "output_type": "execute_result",
          "execution_count": 43,
          "data": {
            "text/plain": "17    1\n86    2\n97    2\nName: Classification, dtype: int64"
          },
          "metadata": {}
        }
      ],
      "execution_count": 43,
      "metadata": {
        "collapsed": true,
        "jupyter": {
          "source_hidden": false,
          "outputs_hidden": false
        },
        "nteract": {
          "transient": {
            "deleting": false
          }
        },
        "gather": {
          "logged": 1618655030694
        }
      }
    },
    {
      "cell_type": "code",
      "source": [
        "!python3 logs.py"
      ],
      "outputs": [
        {
          "output_type": "stream",
          "name": "stdout",
          "text": [
            "2021-04-17T10:30:17,781705500+00:00 - gunicorn/run \r\n",
            "2021-04-17T10:30:17,780511500+00:00 - iot-server/run \r\n",
            "2021-04-17T10:30:17,781705500+00:00 - rsyslog/run \r\n",
            "2021-04-17T10:30:17,870728200+00:00 - nginx/run \r\n",
            "/usr/sbin/nginx: /azureml-envs/azureml_5a33d0b1846b3717ef969a5f35fc31b7/lib/libcrypto.so.1.0.0: no version information available (required by /usr/sbin/nginx)\r\n",
            "/usr/sbin/nginx: /azureml-envs/azureml_5a33d0b1846b3717ef969a5f35fc31b7/lib/libcrypto.so.1.0.0: no version information available (required by /usr/sbin/nginx)\r\n",
            "/usr/sbin/nginx: /azureml-envs/azureml_5a33d0b1846b3717ef969a5f35fc31b7/lib/libssl.so.1.0.0: no version information available (required by /usr/sbin/nginx)\r\n",
            "/usr/sbin/nginx: /azureml-envs/azureml_5a33d0b1846b3717ef969a5f35fc31b7/lib/libssl.so.1.0.0: no version information available (required by /usr/sbin/nginx)\r\n",
            "/usr/sbin/nginx: /azureml-envs/azureml_5a33d0b1846b3717ef969a5f35fc31b7/lib/libssl.so.1.0.0: no version information available (required by /usr/sbin/nginx)\r\n",
            "rsyslogd: /azureml-envs/azureml_5a33d0b1846b3717ef969a5f35fc31b7/lib/libuuid.so.1: no version information available (required by rsyslogd)\r\n",
            "EdgeHubConnectionString and IOTEDGE_IOTHUBHOSTNAME are not set. Exiting...\r\n",
            "2021-04-17T10:30:18,281724100+00:00 - iot-server/finish 1 0\r\n",
            "2021-04-17T10:30:18,283553700+00:00 - Exit code 1 is normal. Not restarting iot-server.\r\n",
            "Starting gunicorn 19.9.0\r\n",
            "Listening at: http://127.0.0.1:31311 (71)\r\n",
            "Using worker: sync\r\n",
            "worker timeout is set to 300\r\n",
            "Booting worker with pid: 100\r\n",
            "SPARK_HOME not set. Skipping PySpark Initialization.\r\n",
            "Generating new fontManager, this may take some time...\r\n",
            "Initializing logger\r\n",
            "2021-04-17 10:30:21,160 | root | INFO | Starting up app insights client\r\n",
            "2021-04-17 10:30:21,161 | root | INFO | Starting up request id generator\r\n",
            "2021-04-17 10:30:21,162 | root | INFO | Starting up app insight hooks\r\n",
            "2021-04-17 10:30:21,162 | root | INFO | Invoking user's init function\r\n",
            "2021-04-17 10:30:26,441 | azureml.core | WARNING | Failure while loading azureml_run_type_providers. Failed to load entrypoint automl = azureml.train.automl.run:AutoMLRun._from_run_dto with exception cannot import name 'RunType'.\r\n",
            "Failure while loading azureml_run_type_providers. Failed to load entrypoint automl = azureml.train.automl.run:AutoMLRun._from_run_dto with exception cannot import name 'RunType'.\r\n",
            "2021-04-17 10:30:26,757 | root | INFO | Users's init has completed successfully\r\n",
            "2021-04-17 10:30:26,779 | root | INFO | Skipping middleware: dbg_model_info as it's not enabled.\r\n",
            "2021-04-17 10:30:26,780 | root | INFO | Skipping middleware: dbg_resource_usage as it's not enabled.\r\n",
            "2021-04-17 10:30:26,781 | root | INFO | Scoring timeout is found from os.environ: 60000 ms\r\n",
            "2021-04-17 10:30:42,380 | root | INFO | 200\r\n",
            "127.0.0.1 - - [17/Apr/2021:10:30:42 +0000] \"GET /swagger.json HTTP/1.0\" 200 2681 \"-\" \"Go-http-client/1.1\"\r\n",
            "2021-04-17 10:51:49,652 | root | INFO | Validation Request Content-Type\r\n",
            "2021-04-17 10:51:49,657 | root | INFO | Scoring Timer is set to 60.0 seconds\r\n",
            "2021-04-17 10:51:50,397 | root | INFO | 200\r\n",
            "127.0.0.1 - - [17/Apr/2021:10:51:50 +0000] \"POST /score HTTP/1.0\" 200 25 \"-\" \"python-requests/2.25.1\"\r\n",
            "2021-04-17 10:56:23,536 | root | INFO | 200\r\n",
            "127.0.0.1 - - [17/Apr/2021:10:56:23 +0000] \"GET /swagger.json HTTP/1.0\" 200 2681 \"-\" \"Go-http-client/1.1\"\r\n",
            "2021-04-17 10:59:59,892 | root | INFO | 200\r\n",
            "127.0.0.1 - - [17/Apr/2021:10:59:59 +0000] \"GET /swagger.json HTTP/1.0\" 200 2681 \"-\" \"Go-http-client/1.1\"\r\n",
            "2021-04-17 11:05:55,941 | root | INFO | 200\r\n",
            "127.0.0.1 - - [17/Apr/2021:11:05:55 +0000] \"GET /swagger.json HTTP/1.0\" 200 2681 \"-\" \"Go-http-client/1.1\"\r\n",
            "2021-04-17 11:05:59,162 | root | INFO | 200\r\n",
            "127.0.0.1 - - [17/Apr/2021:11:05:59 +0000] \"GET /swagger.json HTTP/1.0\" 200 2681 \"-\" \"Go-http-client/1.1\"\r\n",
            "\r\n"
          ]
        }
      ],
      "execution_count": 50,
      "metadata": {
        "collapsed": true,
        "jupyter": {
          "source_hidden": false,
          "outputs_hidden": false
        },
        "nteract": {
          "transient": {
            "deleting": false
          }
        }
      }
    },
    {
      "cell_type": "code",
      "source": [
        "service.delete"
      ],
      "outputs": [
        {
          "output_type": "execute_result",
          "execution_count": 49,
          "data": {
            "text/plain": "<bound method Webservice.delete of AciWebservice(workspace=Workspace.create(name='quick-starts-ws-142915', subscription_id='aa7cf8e8-d23f-4bce-a7b9-1f0b4e0ac8ee', resource_group='aml-quickstarts-142915'), name=automl-bestmodel-breast-cancer, image_id=None, compute_type=None, state=ACI, scoring_uri=Healthy, tags=http://42e7f579-4b3d-4250-aee7-702d67e48ee5.southcentralus.azurecontainer.io/score, properties=None, created_by={'azureml.git.repository_uri': 'https://github.com/Yagna27/capstone-project.git', 'mlflow.source.git.repoURL': 'https://github.com/Yagna27/capstone-project.git', 'azureml.git.branch': 'main', 'mlflow.source.git.branch': 'main', 'azureml.git.commit': 'c84f2e1462a81161113e4d21ef9035cef7824b89', 'mlflow.source.git.commit': 'c84f2e1462a81161113e4d21ef9035cef7824b89', 'azureml.git.dirty': 'True', 'hasInferenceSchema': 'True', 'hasHttps': 'False'})>"
          },
          "metadata": {}
        }
      ],
      "execution_count": 49,
      "metadata": {
        "collapsed": true,
        "jupyter": {
          "source_hidden": false,
          "outputs_hidden": false
        },
        "nteract": {
          "transient": {
            "deleting": false
          }
        },
        "gather": {
          "logged": 1618657479347
        }
      }
    },
    {
      "cell_type": "code",
      "source": [],
      "outputs": [],
      "execution_count": null,
      "metadata": {
        "collapsed": true,
        "jupyter": {
          "source_hidden": false,
          "outputs_hidden": false
        },
        "nteract": {
          "transient": {
            "deleting": false
          }
        }
      }
    },
    {
      "cell_type": "code",
      "source": [],
      "outputs": [],
      "execution_count": null,
      "metadata": {
        "collapsed": true,
        "jupyter": {
          "source_hidden": false,
          "outputs_hidden": false
        },
        "nteract": {
          "transient": {
            "deleting": false
          }
        }
      }
    },
    {
      "cell_type": "code",
      "source": [],
      "outputs": [],
      "execution_count": null,
      "metadata": {
        "collapsed": true,
        "jupyter": {
          "source_hidden": false,
          "outputs_hidden": false
        },
        "nteract": {
          "transient": {
            "deleting": false
          }
        }
      }
    }
  ],
  "metadata": {
    "kernel_info": {
      "name": "python3"
    },
    "kernelspec": {
      "name": "python3",
      "language": "python",
      "display_name": "Python 3"
    },
    "language_info": {
      "name": "python",
      "version": "3.6.9",
      "mimetype": "text/x-python",
      "codemirror_mode": {
        "name": "ipython",
        "version": 3
      },
      "pygments_lexer": "ipython3",
      "nbconvert_exporter": "python",
      "file_extension": ".py"
    },
    "nteract": {
      "version": "nteract-front-end@1.0.0"
    },
    "microsoft": {
      "host": {
        "AzureML": {
          "notebookHasBeenCompleted": true
        }
      }
    }
  },
  "nbformat": 4,
  "nbformat_minor": 2
}