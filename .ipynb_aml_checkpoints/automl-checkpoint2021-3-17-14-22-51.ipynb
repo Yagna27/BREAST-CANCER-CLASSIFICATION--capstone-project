{
  "cells": [
    {
      "cell_type": "markdown",
      "source": [
        "# Automated ML\n",
        "\n",
        "TODO: Import Dependencies. In the cell below, import all the dependencies that you will need to complete the project."
      ],
      "metadata": {}
    },
    {
      "cell_type": "code",
      "source": [
        "from azureml.core import Workspace, Experiment\r\n",
        "from azureml.data.dataset_factory import TabularDatasetFactory\r\n",
        "#from train import clean_data\r\n",
        "import pandas as pd\r\n",
        "import numpy as np\r\n",
        "from sklearn.model_selection import train_test_split\r\n",
        "import os\r\n",
        "from azureml.core.compute import ComputeTarget, AmlCompute\r\n",
        "from azureml.core.compute_target import ComputeTargetException\r\n",
        "from azureml.train.automl import AutoMLConfig\r\n",
        "from azureml.widgets import RunDetails"
      ],
      "outputs": [],
      "execution_count": 1,
      "metadata": {
        "gather": {
          "logged": 1618422066271
        },
        "jupyter": {
          "outputs_hidden": false,
          "source_hidden": false
        },
        "nteract": {
          "transient": {
            "deleting": false
          }
        }
      }
    },
    {
      "cell_type": "markdown",
      "source": [
        "## Dataset\n",
        "\n",
        "### Overview\n",
        "TODO: In this markdown cell, give an overview of the dataset you are using. Also mention the task you will be performing.\n",
        "\n",
        "\n",
        "TODO: Get data. In the cell below, write code to access the data you will be using in this project. Remember that the dataset needs to be external."
      ],
      "metadata": {}
    },
    {
      "cell_type": "code",
      "source": [
        "ws = Workspace.from_config()\n",
        "\n",
        "# choose a name for experiment\n",
        "experiment_name = 'Breastcancer_automl'\n",
        "\n",
        "experiment=Experiment(ws, experiment_name)\n",
        "print('Workspace name: ' + ws.name, \n",
        "      'Azure region: ' + ws.location, \n",
        "      'Subscription id: ' + ws.subscription_id, \n",
        "      'Resource group: ' + ws.resource_group, sep = '\\n')\n",
        "\n",
        "run = experiment.start_logging()"
      ],
      "outputs": [
        {
          "output_type": "stream",
          "name": "stdout",
          "text": [
            "Workspace name: quick-starts-ws-142737\n",
            "Azure region: southcentralus\n",
            "Subscription id: b968fb36-f06a-4c76-a15f-afab68ae7667\n",
            "Resource group: aml-quickstarts-142737\n"
          ]
        }
      ],
      "execution_count": 3,
      "metadata": {
        "gather": {
          "logged": 1618420551829
        },
        "jupyter": {
          "outputs_hidden": false,
          "source_hidden": false
        },
        "nteract": {
          "transient": {
            "deleting": false
          }
        }
      }
    },
    {
      "cell_type": "code",
      "source": [
        "ds = TabularDatasetFactory.from_delimited_files(path=\"https://archive.ics.uci.edu/ml/machine-learning-databases/00451/dataR2.csv\")"
      ],
      "outputs": [],
      "execution_count": 4,
      "metadata": {
        "collapsed": true,
        "jupyter": {
          "source_hidden": false,
          "outputs_hidden": false
        },
        "nteract": {
          "transient": {
            "deleting": false
          }
        },
        "gather": {
          "logged": 1618421952058
        }
      }
    },
    {
      "cell_type": "markdown",
      "source": [
        "## AutoML Configuration\n",
        "\n",
        "TODO: Explain why you chose the automl settings and cofiguration you used below."
      ],
      "metadata": {}
    },
    {
      "cell_type": "code",
      "source": [
        "cpu_cluster_name = \"cpucluster-aml\"\r\n",
        "\r\n",
        "try:\r\n",
        "    cpu_cluster = ComputeTarget(workspace=ws, name=cpu_cluster_name)\r\n",
        "    print('Found existing cluster, use it.')\r\n",
        "except ComputeTargetException:\r\n",
        "    compute_config = AmlCompute.provisioning_configuration(vm_size='STANDARD_D2_V2',\r\n",
        "                                                           max_nodes=4)\r\n",
        "    cpu_cluster = ComputeTarget.create(ws, cpu_cluster_name, compute_config)\r\n",
        "\r\n",
        "cpu_cluster.wait_for_completion(show_output=True)"
      ],
      "outputs": [
        {
          "output_type": "stream",
          "name": "stdout",
          "text": [
            "Creating....\n",
            "SucceededProvisioning operation finished, operation \"Succeeded\"\n",
            "Succeeded\n",
            "AmlCompute wait for completion finished\n",
            "\n",
            "Minimum number of nodes requested have been provisioned\n"
          ]
        }
      ],
      "execution_count": 7,
      "metadata": {
        "collapsed": true,
        "jupyter": {
          "source_hidden": false,
          "outputs_hidden": false
        },
        "nteract": {
          "transient": {
            "deleting": false
          }
        }
      }
    },
    {
      "cell_type": "code",
      "source": [
        "#training_data, validation_data = d.random_split(percentage=0.8, seed=1)"
      ],
      "outputs": [],
      "execution_count": null,
      "metadata": {
        "collapsed": true,
        "jupyter": {
          "source_hidden": false,
          "outputs_hidden": false
        },
        "nteract": {
          "transient": {
            "deleting": false
          }
        }
      }
    },
    {
      "cell_type": "code",
      "source": [
        "automl_settings = {\n",
        "    \"experiment_timeout_minutes\" :30,\n",
        "    \"max_concurrent_iterations\": 4,\n",
        "    \"n_cross_validations\": 5,\n",
        "    \"primary_metric\": 'average_precision_score_weighted',\n",
        "}\n",
        "\n",
        "# TODO: Put your automl config here\n",
        "automl_config = AutoMLConfig(\n",
        "    experiment_timeout_minutes=30,\n",
        "    n_cross_validations=5,\n",
        "    task=\"classification\",\n",
        "    primary_metric=\"average_precision_score_weighted\",\n",
        "    compute_target=cpu_cluster,\n",
        "    training_data=ds,\n",
        "    label_column_name=\"Classification\",\n",
        "    max_cores_per_iteration=-1,\n",
        "    enable_onnx_compatible_models=True\n",
        "    )"
      ],
      "outputs": [],
      "execution_count": 8,
      "metadata": {
        "gather": {
          "logged": 1598429217746
        },
        "jupyter": {
          "outputs_hidden": false,
          "source_hidden": false
        },
        "nteract": {
          "transient": {
            "deleting": false
          }
        }
      }
    },
    {
      "cell_type": "code",
      "source": [
        "# TODO: Submit your experiment\n",
        "remote_run = experiment.submit(config = automl_config, show_output = True)"
      ],
      "outputs": [
        {
          "output_type": "stream",
          "name": "stdout",
          "text": [
            "Submitting remote run.\n",
            "No run_configuration provided, running on cpucluster-aml with default configuration\n",
            "Running on remote compute: cpucluster-aml\n"
          ]
        },
        {
          "output_type": "display_data",
          "data": {
            "text/plain": "<IPython.core.display.HTML object>",
            "text/html": "<table style=\"width:100%\"><tr><th>Experiment</th><th>Id</th><th>Type</th><th>Status</th><th>Details Page</th><th>Docs Page</th></tr><tr><td>Breastcancer_automl</td><td>AutoML_1421a1dd-b7e4-4366-a79a-f5cf3c837060</td><td>automl</td><td>NotStarted</td><td><a href=\"https://ml.azure.com/runs/AutoML_1421a1dd-b7e4-4366-a79a-f5cf3c837060?wsid=/subscriptions/b968fb36-f06a-4c76-a15f-afab68ae7667/resourcegroups/aml-quickstarts-142737/workspaces/quick-starts-ws-142737&amp;tid=660b3398-b80e-49d2-bc5b-ac1dc93b5254\" target=\"_blank\" rel=\"noopener\">Link to Azure Machine Learning studio</a></td><td><a href=\"https://docs.microsoft.com/en-us/python/api/overview/azure/ml/intro?view=azure-ml-py\" target=\"_blank\" rel=\"noopener\">Link to Documentation</a></td></tr></table>"
          },
          "metadata": {}
        },
        {
          "output_type": "stream",
          "name": "stdout",
          "text": [
            "\n",
            "Current status: FeaturesGeneration. Generating features for the dataset.\n",
            "         3   RobustScaler ExtremeRandomTrees                0:05:25       0.8349    0.8722\n",
            "         4   MinMaxScaler ExtremeRandomTrees                0:01:03       0.8472    0.8722\n",
            "         5   StandardScalerWrapper RandomForest             0:00:46       0.7800    0.8722\n",
            "         6   MinMaxScaler ExtremeRandomTrees                0:00:50       0.8191    0.8722\n",
            "         7   StandardScalerWrapper KNN                      0:00:52       0.6373    0.8722\n",
            "         8   MinMaxScaler ExtremeRandomTrees                0:01:11       0.8298    0.8722\n",
            "         9   RobustScaler RandomForest                      0:00:46       0.8279    0.8722\n",
            "        10   StandardScalerWrapper RandomForest             0:00:52       0.8093    0.8722\n",
            "        11   StandardScalerWrapper ExtremeRandomTrees       0:00:52       0.8497    0.8722\n",
            "        12   RobustScaler ExtremeRandomTrees                0:00:55       0.8413    0.8722\n",
            "        13   MinMaxScaler ExtremeRandomTrees                0:01:02       0.8099    0.8722\n",
            "        14   MinMaxScaler RandomForest                      0:01:04       0.8295    0.8722\n",
            "        15   StandardScalerWrapper XGBoostClassifier        0:00:46       0.8457    0.8722\n",
            "        16   MaxAbsScaler ExtremeRandomTrees                0:00:50       0.8591    0.8722\n",
            "        17   MaxAbsScaler RandomForest                      0:00:46       0.7756    0.8722\n",
            "        18   MinMaxScaler RandomForest                      0:00:49       0.8370    0.8722\n",
            "        19   MaxAbsScaler ExtremeRandomTrees                0:00:53       0.8438    0.8722\n",
            "        20   MinMaxScaler ExtremeRandomTrees                0:00:48       0.8744    0.8744\n",
            "        21   SparseNormalizer XGBoostClassifier             0:00:45       0.7277    0.8744\n",
            "        22   MaxAbsScaler GradientBoosting                  0:00:49       0.8420    0.8744\n",
            "        23    VotingEnsemble                                0:01:14       0.8883    0.8883\n"
          ]
        }
      ],
      "execution_count": 9,
      "metadata": {
        "gather": {
          "logged": 1598431107951
        },
        "jupyter": {
          "outputs_hidden": false,
          "source_hidden": false
        },
        "nteract": {
          "transient": {
            "deleting": false
          }
        }
      }
    },
    {
      "cell_type": "markdown",
      "source": [
        "## Run Details\n",
        "\n",
        "OPTIONAL: Write about the different models trained and their performance. Why do you think some models did better than others?\n",
        "\n",
        "TODO: In the cell below, use the `RunDetails` widget to show the different experiments."
      ],
      "metadata": {}
    },
    {
      "cell_type": "code",
      "source": [
        "RunDetails(remote_run).show()"
      ],
      "outputs": [
        {
          "output_type": "display_data",
          "data": {
            "text/plain": "_AutoMLWidget(widget_settings={'childWidgetDisplay': 'popup', 'send_telemetry': False, 'log_level': 'INFO', 's…",
            "application/vnd.jupyter.widget-view+json": {
              "version_major": 2,
              "version_minor": 0,
              "model_id": "a3bf2dc47fb949e3b927e0b9e3bd8917"
            }
          },
          "metadata": {}
        },
        {
          "output_type": "display_data",
          "data": {
            "application/aml.mini.widget.v1": "{\"status\": \"Completed\", \"workbench_run_details_uri\": \"https://ml.azure.com/runs/AutoML_1421a1dd-b7e4-4366-a79a-f5cf3c837060?wsid=/subscriptions/b968fb36-f06a-4c76-a15f-afab68ae7667/resourcegroups/aml-quickstarts-142737/workspaces/quick-starts-ws-142737&tid=660b3398-b80e-49d2-bc5b-ac1dc93b5254\", \"run_id\": \"AutoML_1421a1dd-b7e4-4366-a79a-f5cf3c837060\", \"run_properties\": {\"run_id\": \"AutoML_1421a1dd-b7e4-4366-a79a-f5cf3c837060\", \"created_utc\": \"2021-04-15T07:38:46.955789Z\", \"properties\": {\"num_iterations\": \"1000\", \"training_type\": \"TrainFull\", \"acquisition_function\": \"EI\", \"primary_metric\": \"average_precision_score_weighted\", \"train_split\": \"0\", \"acquisition_parameter\": \"0\", \"num_cross_validation\": \"5\", \"target\": \"cpucluster-aml\", \"AMLSettingsJsonString\": \"{\\\"path\\\":null,\\\"name\\\":\\\"Breastcancer_automl\\\",\\\"subscription_id\\\":\\\"b968fb36-f06a-4c76-a15f-afab68ae7667\\\",\\\"resource_group\\\":\\\"aml-quickstarts-142737\\\",\\\"workspace_name\\\":\\\"quick-starts-ws-142737\\\",\\\"region\\\":\\\"southcentralus\\\",\\\"compute_target\\\":\\\"cpucluster-aml\\\",\\\"spark_service\\\":null,\\\"azure_service\\\":\\\"remote\\\",\\\"many_models\\\":false,\\\"pipeline_fetch_max_batch_size\\\":1,\\\"enable_batch_run\\\":false,\\\"enable_run_restructure\\\":false,\\\"iterations\\\":1000,\\\"primary_metric\\\":\\\"average_precision_score_weighted\\\",\\\"task_type\\\":\\\"classification\\\",\\\"data_script\\\":null,\\\"test_size\\\":0.0,\\\"validation_size\\\":0.0,\\\"n_cross_validations\\\":5,\\\"y_min\\\":null,\\\"y_max\\\":null,\\\"num_classes\\\":null,\\\"featurization\\\":\\\"auto\\\",\\\"_ignore_package_version_incompatibilities\\\":false,\\\"is_timeseries\\\":false,\\\"max_cores_per_iteration\\\":-1,\\\"max_concurrent_iterations\\\":1,\\\"iteration_timeout_minutes\\\":null,\\\"mem_in_mb\\\":null,\\\"enforce_time_on_windows\\\":false,\\\"experiment_timeout_minutes\\\":30,\\\"experiment_exit_score\\\":null,\\\"whitelist_models\\\":null,\\\"blacklist_algos\\\":[\\\"TensorFlowLinearClassifier\\\",\\\"TensorFlowDNN\\\"],\\\"supported_models\\\":[\\\"AveragedPerceptronClassifier\\\",\\\"ExtremeRandomTrees\\\",\\\"MultinomialNaiveBayes\\\",\\\"SGD\\\",\\\"GradientBoosting\\\",\\\"SVM\\\",\\\"KNN\\\",\\\"TensorFlowLinearClassifier\\\",\\\"DecisionTree\\\",\\\"RandomForest\\\",\\\"BernoulliNaiveBayes\\\",\\\"LinearSVM\\\",\\\"XGBoostClassifier\\\",\\\"TensorFlowDNN\\\",\\\"LogisticRegression\\\",\\\"LightGBM\\\"],\\\"private_models\\\":[],\\\"auto_blacklist\\\":true,\\\"blacklist_samples_reached\\\":false,\\\"exclude_nan_labels\\\":true,\\\"verbosity\\\":20,\\\"_debug_log\\\":\\\"azureml_automl.log\\\",\\\"show_warnings\\\":false,\\\"model_explainability\\\":true,\\\"service_url\\\":null,\\\"sdk_url\\\":null,\\\"sdk_packages\\\":null,\\\"enable_onnx_compatible_models\\\":true,\\\"enable_split_onnx_featurizer_estimator_models\\\":false,\\\"vm_type\\\":\\\"STANDARD_D2_V2\\\",\\\"telemetry_verbosity\\\":20,\\\"send_telemetry\\\":true,\\\"enable_dnn\\\":false,\\\"scenario\\\":\\\"SDK-1.13.0\\\",\\\"environment_label\\\":null,\\\"save_mlflow\\\":false,\\\"force_text_dnn\\\":false,\\\"enable_feature_sweeping\\\":false,\\\"enable_early_stopping\\\":false,\\\"early_stopping_n_iters\\\":10,\\\"metrics\\\":null,\\\"enable_metric_confidence\\\":false,\\\"enable_ensembling\\\":true,\\\"enable_stack_ensembling\\\":false,\\\"ensemble_iterations\\\":15,\\\"enable_tf\\\":false,\\\"enable_subsampling\\\":null,\\\"subsample_seed\\\":null,\\\"enable_nimbusml\\\":false,\\\"enable_streaming\\\":false,\\\"force_streaming\\\":false,\\\"track_child_runs\\\":true,\\\"allowed_private_models\\\":[],\\\"label_column_name\\\":\\\"Classification\\\",\\\"weight_column_name\\\":null,\\\"cv_split_column_names\\\":null,\\\"enable_local_managed\\\":false,\\\"_local_managed_run_id\\\":null,\\\"cost_mode\\\":1,\\\"lag_length\\\":0,\\\"metric_operation\\\":\\\"maximize\\\",\\\"preprocess\\\":true}\", \"DataPrepJsonString\": \"{\\\\\\\"training_data\\\\\\\": {\\\\\\\"datasetId\\\\\\\": \\\\\\\"64590ddc-f973-437f-8f2d-0ec68b454a0b\\\\\\\"}, \\\\\\\"datasets\\\\\\\": 0}\", \"EnableSubsampling\": null, \"runTemplate\": \"AutoML\", \"azureml.runsource\": \"automl\", \"display_task_type\": \"classification\", \"dependencies_versions\": \"{\\\"azureml-widgets\\\": \\\"1.26.0\\\", \\\"azureml-train\\\": \\\"1.26.0\\\", \\\"azureml-train-restclients-hyperdrive\\\": \\\"1.26.0\\\", \\\"azureml-train-core\\\": \\\"1.26.0\\\", \\\"azureml-train-automl\\\": \\\"1.26.0\\\", \\\"azureml-train-automl-runtime\\\": \\\"1.26.0\\\", \\\"azureml-train-automl-client\\\": \\\"1.26.0\\\", \\\"azureml-tensorboard\\\": \\\"1.26.0\\\", \\\"azureml-telemetry\\\": \\\"1.26.0\\\", \\\"azureml-sdk\\\": \\\"1.26.0\\\", \\\"azureml-samples\\\": \\\"0+unknown\\\", \\\"azureml-pipeline\\\": \\\"1.26.0\\\", \\\"azureml-pipeline-steps\\\": \\\"1.26.0\\\", \\\"azureml-pipeline-core\\\": \\\"1.26.0\\\", \\\"azureml-opendatasets\\\": \\\"1.26.0\\\", \\\"azureml-model-management-sdk\\\": \\\"1.0.1b6.post1\\\", \\\"azureml-mlflow\\\": \\\"1.26.0\\\", \\\"azureml-interpret\\\": \\\"1.26.0\\\", \\\"azureml-explain-model\\\": \\\"1.26.0\\\", \\\"azureml-defaults\\\": \\\"1.26.0\\\", \\\"azureml-dataset-runtime\\\": \\\"1.26.0\\\", \\\"azureml-dataprep\\\": \\\"2.13.2\\\", \\\"azureml-dataprep-rslex\\\": \\\"1.11.2\\\", \\\"azureml-dataprep-native\\\": \\\"32.0.0\\\", \\\"azureml-datadrift\\\": \\\"1.26.0\\\", \\\"azureml-core\\\": \\\"1.26.0\\\", \\\"azureml-contrib-services\\\": \\\"1.26.0\\\", \\\"azureml-contrib-server\\\": \\\"1.26.0\\\", \\\"azureml-contrib-reinforcementlearning\\\": \\\"1.26.0\\\", \\\"azureml-contrib-pipeline-steps\\\": \\\"1.26.0\\\", \\\"azureml-contrib-notebook\\\": \\\"1.26.0\\\", \\\"azureml-contrib-gbdt\\\": \\\"1.26.0\\\", \\\"azureml-contrib-fairness\\\": \\\"1.26.0\\\", \\\"azureml-contrib-dataset\\\": \\\"1.26.0\\\", \\\"azureml-cli-common\\\": \\\"1.26.0\\\", \\\"azureml-automl-runtime\\\": \\\"1.26.0\\\", \\\"azureml-automl-dnn-nlp\\\": \\\"1.26.0\\\", \\\"azureml-automl-core\\\": \\\"1.26.0\\\", \\\"azureml-accel-models\\\": \\\"1.26.0\\\"}\", \"_aml_system_scenario_identification\": \"Remote.Parent\", \"ClientType\": \"SDK\", \"environment_cpu_name\": \"AzureML-AutoML\", \"environment_cpu_label\": \"prod\", \"environment_gpu_name\": \"AzureML-AutoML-GPU\", \"environment_gpu_label\": \"prod\", \"root_attribution\": \"automl\", \"attribution\": \"AutoML\", \"Orchestrator\": \"AutoML\", \"CancelUri\": \"https://southcentralus.experiments.azureml.net/jasmine/v1.0/subscriptions/b968fb36-f06a-4c76-a15f-afab68ae7667/resourceGroups/aml-quickstarts-142737/providers/Microsoft.MachineLearningServices/workspaces/quick-starts-ws-142737/experimentids/682802af-616b-44b8-925f-78e64b48fb22/cancel/AutoML_1421a1dd-b7e4-4366-a79a-f5cf3c837060\", \"ClientSdkVersion\": \"1.25.0\", \"snapshotId\": \"00000000-0000-0000-0000-000000000000\", \"SetupRunId\": \"AutoML_1421a1dd-b7e4-4366-a79a-f5cf3c837060_setup\", \"SetupRunContainerId\": \"dcid.AutoML_1421a1dd-b7e4-4366-a79a-f5cf3c837060_setup\", \"FeaturizationRunJsonPath\": \"featurizer_container.json\", \"FeaturizationRunId\": \"AutoML_1421a1dd-b7e4-4366-a79a-f5cf3c837060_featurize\", \"ProblemInfoJsonString\": \"{\\\"dataset_num_categorical\\\": 0, \\\"is_sparse\\\": false, \\\"subsampling\\\": false, \\\"dataset_classes\\\": 2, \\\"dataset_features\\\": 9, \\\"dataset_samples\\\": 116, \\\"single_frequency_class_detected\\\": false}\", \"ModelExplainRunId\": \"AutoML_1421a1dd-b7e4-4366-a79a-f5cf3c837060_ModelExplain\", \"azureml.git.repository_uri\": \"https://github.com/Yagna27/capstone-project.git\", \"mlflow.source.git.repoURL\": \"https://github.com/Yagna27/capstone-project.git\", \"azureml.git.branch\": \"master\", \"mlflow.source.git.branch\": \"master\", \"azureml.git.commit\": \"2fb3cfe743f3c054d065214c5e73940ca6900678\", \"mlflow.source.git.commit\": \"2fb3cfe743f3c054d065214c5e73940ca6900678\", \"azureml.git.dirty\": \"True\"}, \"tags\": {\"model_explain_run\": \"best_run\", \"_aml_system_azureml.automlComponent\": \"AutoML\", \"pipeline_id\": \"\", \"score\": \"\", \"predicted_cost\": \"\", \"fit_time\": \"\", \"training_percent\": \"\", \"iteration\": \"\", \"run_preprocessor\": \"\", \"run_algorithm\": \"\", \"automl_best_child_run_id\": \"AutoML_1421a1dd-b7e4-4366-a79a-f5cf3c837060_23\", \"model_explain_best_run_child_id\": \"AutoML_1421a1dd-b7e4-4366-a79a-f5cf3c837060_23\"}, \"end_time_utc\": \"2021-04-15T08:21:33.433702Z\", \"status\": \"Completed\", \"log_files\": {}, \"log_groups\": [], \"run_duration\": \"0:42:46\", \"run_number\": \"2\", \"run_queued_details\": {\"status\": \"Completed\", \"details\": null}}, \"child_runs\": [{\"run_id\": \"AutoML_1421a1dd-b7e4-4366-a79a-f5cf3c837060_0\", \"run_number\": 6, \"metric\": null, \"status\": \"Completed\", \"run_type\": \"azureml.scriptrun\", \"training_percent\": \"100\", \"start_time\": \"2021-04-15T07:50:02.794173Z\", \"end_time\": \"2021-04-15T07:50:43.290351Z\", \"created_time\": \"2021-04-15T07:49:49.556999Z\", \"created_time_dt\": \"2021-04-15T07:49:49.556999Z\", \"duration\": \"0:00:53\", \"iteration\": \"0\", \"goal\": \"average_precision_score_weighted_max\", \"run_name\": \"MaxAbsScaler, LightGBM\", \"run_properties\": \"copy=True\", \"primary_metric\": 0.83809331, \"best_metric\": 0.83809331}, {\"run_id\": \"AutoML_1421a1dd-b7e4-4366-a79a-f5cf3c837060_1\", \"run_number\": 7, \"metric\": null, \"status\": \"Completed\", \"run_type\": \"azureml.scriptrun\", \"training_percent\": \"100\", \"start_time\": \"2021-04-15T07:50:57.648771Z\", \"end_time\": \"2021-04-15T07:51:50.258951Z\", \"created_time\": \"2021-04-15T07:50:45.869243Z\", \"created_time_dt\": \"2021-04-15T07:50:45.869243Z\", \"duration\": \"0:01:04\", \"iteration\": \"1\", \"goal\": \"average_precision_score_weighted_max\", \"run_name\": \"MaxAbsScaler, XGBoostClassifier\", \"run_properties\": \"copy=True\", \"primary_metric\": 0.83961701, \"best_metric\": 0.83961701}, {\"run_id\": \"AutoML_1421a1dd-b7e4-4366-a79a-f5cf3c837060_2\", \"run_number\": 8, \"metric\": null, \"status\": \"Completed\", \"run_type\": \"azureml.scriptrun\", \"training_percent\": \"100\", \"start_time\": \"2021-04-15T07:52:03.382753Z\", \"end_time\": \"2021-04-15T07:52:49.265838Z\", \"created_time\": \"2021-04-15T07:51:51.825478Z\", \"created_time_dt\": \"2021-04-15T07:51:51.825478Z\", \"duration\": \"0:00:57\", \"iteration\": \"2\", \"goal\": \"average_precision_score_weighted_max\", \"run_name\": \"RobustScaler, ExtremeRandomTrees\", \"run_properties\": \"copy=True, quantile_range=[10, 90], with_centering=False,\\n             with_scaling=False\", \"primary_metric\": 0.87215608, \"best_metric\": 0.87215608}, {\"run_id\": \"AutoML_1421a1dd-b7e4-4366-a79a-f5cf3c837060_3\", \"run_number\": 9, \"metric\": null, \"status\": \"Completed\", \"run_type\": \"azureml.scriptrun\", \"training_percent\": \"100\", \"start_time\": \"2021-04-15T07:53:04.881905Z\", \"end_time\": \"2021-04-15T07:58:30.123701Z\", \"created_time\": \"2021-04-15T07:52:51.58137Z\", \"created_time_dt\": \"2021-04-15T07:52:51.58137Z\", \"duration\": \"0:05:38\", \"iteration\": \"3\", \"goal\": \"average_precision_score_weighted_max\", \"run_name\": \"RobustScaler, ExtremeRandomTrees\", \"run_properties\": \"copy=True, quantile_range=[10, 90], with_centering=True,\\n             with_scaling=False\", \"primary_metric\": 0.83491414, \"best_metric\": 0.87215608}, {\"run_id\": \"AutoML_1421a1dd-b7e4-4366-a79a-f5cf3c837060_4\", \"run_number\": 10, \"metric\": null, \"status\": \"Completed\", \"run_type\": \"azureml.scriptrun\", \"training_percent\": \"100\", \"start_time\": \"2021-04-15T07:58:42.85114Z\", \"end_time\": \"2021-04-15T07:59:46.308453Z\", \"created_time\": \"2021-04-15T07:58:34.143023Z\", \"created_time_dt\": \"2021-04-15T07:58:34.143023Z\", \"duration\": \"0:01:12\", \"iteration\": \"4\", \"goal\": \"average_precision_score_weighted_max\", \"run_name\": \"MinMaxScaler, ExtremeRandomTrees\", \"run_properties\": \"copy=True, feature_range=(0, 1\", \"primary_metric\": 0.84720054, \"best_metric\": 0.87215608}, {\"run_id\": \"AutoML_1421a1dd-b7e4-4366-a79a-f5cf3c837060_5\", \"run_number\": 11, \"metric\": null, \"status\": \"Completed\", \"run_type\": \"azureml.scriptrun\", \"training_percent\": \"100\", \"start_time\": \"2021-04-15T08:00:00.879093Z\", \"end_time\": \"2021-04-15T08:00:46.665361Z\", \"created_time\": \"2021-04-15T07:59:49.290357Z\", \"created_time_dt\": \"2021-04-15T07:59:49.290357Z\", \"duration\": \"0:00:57\", \"iteration\": \"5\", \"goal\": \"average_precision_score_weighted_max\", \"run_name\": \"StandardScalerWrapper, RandomForest\", \"run_properties\": \"<azureml.automl.runtime.shared.model_wrappers.StandardScalerWrapper object at 0x7f00f52da438\", \"primary_metric\": 0.7800222, \"best_metric\": 0.87215608}, {\"run_id\": \"AutoML_1421a1dd-b7e4-4366-a79a-f5cf3c837060_6\", \"run_number\": 12, \"metric\": null, \"status\": \"Completed\", \"run_type\": \"azureml.scriptrun\", \"training_percent\": \"100\", \"start_time\": \"2021-04-15T08:01:05.135483Z\", \"end_time\": \"2021-04-15T08:01:54.789681Z\", \"created_time\": \"2021-04-15T08:00:48.827623Z\", \"created_time_dt\": \"2021-04-15T08:00:48.827623Z\", \"duration\": \"0:01:05\", \"iteration\": \"6\", \"goal\": \"average_precision_score_weighted_max\", \"run_name\": \"MinMaxScaler, ExtremeRandomTrees\", \"run_properties\": \"copy=True, feature_range=(0, 1\", \"primary_metric\": 0.81910818, \"best_metric\": 0.87215608}, {\"run_id\": \"AutoML_1421a1dd-b7e4-4366-a79a-f5cf3c837060_7\", \"run_number\": 13, \"metric\": null, \"status\": \"Completed\", \"run_type\": \"azureml.scriptrun\", \"training_percent\": \"100\", \"start_time\": \"2021-04-15T08:02:08.965941Z\", \"end_time\": \"2021-04-15T08:03:00.643053Z\", \"created_time\": \"2021-04-15T08:01:56.78738Z\", \"created_time_dt\": \"2021-04-15T08:01:56.78738Z\", \"duration\": \"0:01:03\", \"iteration\": \"7\", \"goal\": \"average_precision_score_weighted_max\", \"run_name\": \"StandardScalerWrapper, KNN\", \"run_properties\": \"<azureml.automl.runtime.shared.model_wrappers.StandardScalerWrapper object at 0x7f9c666ae908\", \"primary_metric\": 0.63727127, \"best_metric\": 0.87215608}, {\"run_id\": \"AutoML_1421a1dd-b7e4-4366-a79a-f5cf3c837060_8\", \"run_number\": 14, \"metric\": null, \"status\": \"Completed\", \"run_type\": \"azureml.scriptrun\", \"training_percent\": \"100\", \"start_time\": \"2021-04-15T08:03:17.586676Z\", \"end_time\": \"2021-04-15T08:04:28.657212Z\", \"created_time\": \"2021-04-15T08:03:04.655083Z\", \"created_time_dt\": \"2021-04-15T08:03:04.655083Z\", \"duration\": \"0:01:24\", \"iteration\": \"8\", \"goal\": \"average_precision_score_weighted_max\", \"run_name\": \"MinMaxScaler, ExtremeRandomTrees\", \"run_properties\": \"copy=True, feature_range=(0, 1\", \"primary_metric\": 0.82982059, \"best_metric\": 0.87215608}, {\"run_id\": \"AutoML_1421a1dd-b7e4-4366-a79a-f5cf3c837060_9\", \"run_number\": 15, \"metric\": null, \"status\": \"Completed\", \"run_type\": \"azureml.scriptrun\", \"training_percent\": \"100\", \"start_time\": \"2021-04-15T08:04:42.413585Z\", \"end_time\": \"2021-04-15T08:05:27.920525Z\", \"created_time\": \"2021-04-15T08:04:31.490131Z\", \"created_time_dt\": \"2021-04-15T08:04:31.490131Z\", \"duration\": \"0:00:56\", \"iteration\": \"9\", \"goal\": \"average_precision_score_weighted_max\", \"run_name\": \"RobustScaler, RandomForest\", \"run_properties\": \"copy=True, quantile_range=[25, 75], with_centering=True,\\n             with_scaling=False\", \"primary_metric\": 0.82789556, \"best_metric\": 0.87215608}, {\"run_id\": \"AutoML_1421a1dd-b7e4-4366-a79a-f5cf3c837060_10\", \"run_number\": 16, \"metric\": null, \"status\": \"Completed\", \"run_type\": \"azureml.scriptrun\", \"training_percent\": \"100\", \"start_time\": \"2021-04-15T08:05:46.366899Z\", \"end_time\": \"2021-04-15T08:06:38.701627Z\", \"created_time\": \"2021-04-15T08:05:31.109898Z\", \"created_time_dt\": \"2021-04-15T08:05:31.109898Z\", \"duration\": \"0:01:07\", \"iteration\": \"10\", \"goal\": \"average_precision_score_weighted_max\", \"run_name\": \"StandardScalerWrapper, RandomForest\", \"run_properties\": \"<azureml.automl.runtime.shared.model_wrappers.StandardScalerWrapper object at 0x7f49c5a892b0\", \"primary_metric\": 0.80934082, \"best_metric\": 0.87215608}, {\"run_id\": \"AutoML_1421a1dd-b7e4-4366-a79a-f5cf3c837060_11\", \"run_number\": 17, \"metric\": null, \"status\": \"Completed\", \"run_type\": \"azureml.scriptrun\", \"training_percent\": \"100\", \"start_time\": \"2021-04-15T08:06:54.745543Z\", \"end_time\": \"2021-04-15T08:07:46.736183Z\", \"created_time\": \"2021-04-15T08:06:42.129923Z\", \"created_time_dt\": \"2021-04-15T08:06:42.129923Z\", \"duration\": \"0:01:04\", \"iteration\": \"11\", \"goal\": \"average_precision_score_weighted_max\", \"run_name\": \"StandardScalerWrapper, ExtremeRandomTrees\", \"run_properties\": \"<azureml.automl.runtime.shared.model_wrappers.StandardScalerWrapper object at 0x7efd00497470\", \"primary_metric\": 0.84969903, \"best_metric\": 0.87215608}, {\"run_id\": \"AutoML_1421a1dd-b7e4-4366-a79a-f5cf3c837060_12\", \"run_number\": 18, \"metric\": null, \"status\": \"Completed\", \"run_type\": \"azureml.scriptrun\", \"training_percent\": \"100\", \"start_time\": \"2021-04-15T08:08:02.62589Z\", \"end_time\": \"2021-04-15T08:08:57.670825Z\", \"created_time\": \"2021-04-15T08:07:50.002964Z\", \"created_time_dt\": \"2021-04-15T08:07:50.002964Z\", \"duration\": \"0:01:07\", \"iteration\": \"12\", \"goal\": \"average_precision_score_weighted_max\", \"run_name\": \"RobustScaler, ExtremeRandomTrees\", \"run_properties\": \"copy=True, quantile_range=[10, 90], with_centering=False,\\n             with_scaling=False\", \"primary_metric\": 0.84132043, \"best_metric\": 0.87215608}, {\"run_id\": \"AutoML_1421a1dd-b7e4-4366-a79a-f5cf3c837060_13\", \"run_number\": 19, \"metric\": null, \"status\": \"Completed\", \"run_type\": \"azureml.scriptrun\", \"training_percent\": \"100\", \"start_time\": \"2021-04-15T08:09:14.997319Z\", \"end_time\": \"2021-04-15T08:10:16.801156Z\", \"created_time\": \"2021-04-15T08:08:59.880551Z\", \"created_time_dt\": \"2021-04-15T08:08:59.880551Z\", \"duration\": \"0:01:16\", \"iteration\": \"13\", \"goal\": \"average_precision_score_weighted_max\", \"run_name\": \"MinMaxScaler, ExtremeRandomTrees\", \"run_properties\": \"copy=True, feature_range=(0, 1\", \"primary_metric\": 0.80991124, \"best_metric\": 0.87215608}, {\"run_id\": \"AutoML_1421a1dd-b7e4-4366-a79a-f5cf3c837060_14\", \"run_number\": 20, \"metric\": null, \"status\": \"Completed\", \"run_type\": \"azureml.scriptrun\", \"training_percent\": \"100\", \"start_time\": \"2021-04-15T08:10:32.355555Z\", \"end_time\": \"2021-04-15T08:11:35.885392Z\", \"created_time\": \"2021-04-15T08:10:20.744803Z\", \"created_time_dt\": \"2021-04-15T08:10:20.744803Z\", \"duration\": \"0:01:15\", \"iteration\": \"14\", \"goal\": \"average_precision_score_weighted_max\", \"run_name\": \"MinMaxScaler, RandomForest\", \"run_properties\": \"copy=True, feature_range=(0, 1\", \"primary_metric\": 0.82947755, \"best_metric\": 0.87215608}, {\"run_id\": \"AutoML_1421a1dd-b7e4-4366-a79a-f5cf3c837060_15\", \"run_number\": 21, \"metric\": null, \"status\": \"Completed\", \"run_type\": \"azureml.scriptrun\", \"training_percent\": \"100\", \"start_time\": \"2021-04-15T08:11:51.655542Z\", \"end_time\": \"2021-04-15T08:12:37.805664Z\", \"created_time\": \"2021-04-15T08:11:38.008617Z\", \"created_time_dt\": \"2021-04-15T08:11:38.008617Z\", \"duration\": \"0:00:59\", \"iteration\": \"15\", \"goal\": \"average_precision_score_weighted_max\", \"run_name\": \"StandardScalerWrapper, XGBoostClassifier\", \"run_properties\": \"<azureml.automl.runtime.shared.model_wrappers.StandardScalerWrapper object at 0x7f1b74d9e588\", \"primary_metric\": 0.84572766, \"best_metric\": 0.87215608}, {\"run_id\": \"AutoML_1421a1dd-b7e4-4366-a79a-f5cf3c837060_16\", \"run_number\": 22, \"metric\": null, \"status\": \"Completed\", \"run_type\": \"azureml.scriptrun\", \"training_percent\": \"100\", \"start_time\": \"2021-04-15T08:12:54.629563Z\", \"end_time\": \"2021-04-15T08:13:44.72189Z\", \"created_time\": \"2021-04-15T08:12:39.907903Z\", \"created_time_dt\": \"2021-04-15T08:12:39.907903Z\", \"duration\": \"0:01:04\", \"iteration\": \"16\", \"goal\": \"average_precision_score_weighted_max\", \"run_name\": \"MaxAbsScaler, ExtremeRandomTrees\", \"run_properties\": \"copy=True\", \"primary_metric\": 0.85908701, \"best_metric\": 0.87215608}, {\"run_id\": \"AutoML_1421a1dd-b7e4-4366-a79a-f5cf3c837060_17\", \"run_number\": 23, \"metric\": null, \"status\": \"Completed\", \"run_type\": \"azureml.scriptrun\", \"training_percent\": \"100\", \"start_time\": \"2021-04-15T08:13:59.636254Z\", \"end_time\": \"2021-04-15T08:14:45.614085Z\", \"created_time\": \"2021-04-15T08:13:48.067839Z\", \"created_time_dt\": \"2021-04-15T08:13:48.067839Z\", \"duration\": \"0:00:57\", \"iteration\": \"17\", \"goal\": \"average_precision_score_weighted_max\", \"run_name\": \"MaxAbsScaler, RandomForest\", \"run_properties\": \"copy=True\", \"primary_metric\": 0.77557926, \"best_metric\": 0.87215608}, {\"run_id\": \"AutoML_1421a1dd-b7e4-4366-a79a-f5cf3c837060_18\", \"run_number\": 24, \"metric\": null, \"status\": \"Completed\", \"run_type\": \"azureml.scriptrun\", \"training_percent\": \"100\", \"start_time\": \"2021-04-15T08:15:00.261399Z\", \"end_time\": \"2021-04-15T08:15:48.887524Z\", \"created_time\": \"2021-04-15T08:14:48.627752Z\", \"created_time_dt\": \"2021-04-15T08:14:48.627752Z\", \"duration\": \"0:01:00\", \"iteration\": \"18\", \"goal\": \"average_precision_score_weighted_max\", \"run_name\": \"MinMaxScaler, RandomForest\", \"run_properties\": \"copy=True, feature_range=(0, 1\", \"primary_metric\": 0.83698067, \"best_metric\": 0.87215608}, {\"run_id\": \"AutoML_1421a1dd-b7e4-4366-a79a-f5cf3c837060_19\", \"run_number\": 25, \"metric\": null, \"status\": \"Completed\", \"run_type\": \"azureml.scriptrun\", \"training_percent\": \"100\", \"start_time\": \"2021-04-15T08:16:06.450426Z\", \"end_time\": \"2021-04-15T08:16:59.414519Z\", \"created_time\": \"2021-04-15T08:15:52.380548Z\", \"created_time_dt\": \"2021-04-15T08:15:52.380548Z\", \"duration\": \"0:01:07\", \"iteration\": \"19\", \"goal\": \"average_precision_score_weighted_max\", \"run_name\": \"MaxAbsScaler, ExtremeRandomTrees\", \"run_properties\": \"copy=True\", \"primary_metric\": 0.84381035, \"best_metric\": 0.87215608}, {\"run_id\": \"AutoML_1421a1dd-b7e4-4366-a79a-f5cf3c837060_20\", \"run_number\": 26, \"metric\": null, \"status\": \"Completed\", \"run_type\": \"azureml.scriptrun\", \"training_percent\": \"100\", \"start_time\": \"2021-04-15T08:17:11.688983Z\", \"end_time\": \"2021-04-15T08:17:59.696497Z\", \"created_time\": \"2021-04-15T08:17:02.500371Z\", \"created_time_dt\": \"2021-04-15T08:17:02.500371Z\", \"duration\": \"0:00:57\", \"iteration\": \"20\", \"goal\": \"average_precision_score_weighted_max\", \"run_name\": \"MinMaxScaler, ExtremeRandomTrees\", \"run_properties\": \"copy=True, feature_range=(0, 1\", \"primary_metric\": 0.87442424, \"best_metric\": 0.87442424}, {\"run_id\": \"AutoML_1421a1dd-b7e4-4366-a79a-f5cf3c837060_21\", \"run_number\": 27, \"metric\": null, \"status\": \"Completed\", \"run_type\": \"azureml.scriptrun\", \"training_percent\": \"100\", \"start_time\": \"2021-04-15T08:18:11.835424Z\", \"end_time\": \"2021-04-15T08:18:57.000141Z\", \"created_time\": \"2021-04-15T08:18:02.339566Z\", \"created_time_dt\": \"2021-04-15T08:18:02.339566Z\", \"duration\": \"0:00:54\", \"iteration\": \"21\", \"goal\": \"average_precision_score_weighted_max\", \"run_name\": \"SparseNormalizer, XGBoostClassifier\", \"run_properties\": \"<azureml.automl.runtime.shared.model_wrappers.SparseNormalizer object at 0x7fcaff526c50\", \"primary_metric\": 0.72769876, \"best_metric\": 0.87442424}, {\"run_id\": \"AutoML_1421a1dd-b7e4-4366-a79a-f5cf3c837060_22\", \"run_number\": 28, \"metric\": null, \"status\": \"Completed\", \"run_type\": \"azureml.scriptrun\", \"training_percent\": \"100\", \"start_time\": \"2021-04-15T08:19:11.746638Z\", \"end_time\": \"2021-04-15T08:20:00.84231Z\", \"created_time\": \"2021-04-15T08:19:00.421675Z\", \"created_time_dt\": \"2021-04-15T08:19:00.421675Z\", \"duration\": \"0:01:00\", \"iteration\": \"22\", \"goal\": \"average_precision_score_weighted_max\", \"run_name\": \"MaxAbsScaler, GradientBoosting\", \"run_properties\": \"copy=True\", \"primary_metric\": 0.84196114, \"best_metric\": 0.87442424}, {\"run_id\": \"AutoML_1421a1dd-b7e4-4366-a79a-f5cf3c837060_23\", \"run_number\": 29, \"metric\": null, \"status\": \"Completed\", \"run_type\": \"azureml.scriptrun\", \"training_percent\": \"100\", \"start_time\": \"2021-04-15T08:20:16.075664Z\", \"end_time\": \"2021-04-15T08:21:30.414212Z\", \"created_time\": \"2021-04-15T08:20:03.105159Z\", \"created_time_dt\": \"2021-04-15T08:20:03.105159Z\", \"duration\": \"0:01:27\", \"iteration\": \"23\", \"goal\": \"average_precision_score_weighted_max\", \"run_name\": \"VotingEnsemble\", \"run_properties\": \"classification_labels=None,\\n                              estimators=[('20',\\n                                           Pipeline(memory=None,\\n                                                    steps=[('minmaxscaler',\\n                                                            MinMaxScaler(copy=True,\\n                                                                         feature_range=(0,\\n                                                                                        1\", \"primary_metric\": 0.88833346, \"best_metric\": 0.88833346}], \"children_metrics\": {\"categories\": [0], \"series\": {\"recall_score_weighted\": [{\"categories\": [\"0\", \"1\", \"2\", \"3\", \"4\", \"5\", \"6\", \"7\", \"8\", \"9\", \"10\", \"11\", \"12\", \"13\", \"14\", \"15\", \"16\", \"17\", \"18\", \"19\", \"20\", \"21\", \"22\", \"23\"], \"mode\": \"markers\", \"name\": \"recall_score_weighted\", \"stepped\": false, \"type\": \"scatter\", \"data\": [0.7329710144927536, 0.7416666666666666, 0.7847826086956522, 0.7246376811594203, 0.7757246376811594, 0.6724637681159421, 0.7068840579710145, 0.6202898550724637, 0.7163043478260869, 0.725, 0.7242753623188406, 0.7579710144927536, 0.7333333333333333, 0.7152173913043478, 0.7239130434782608, 0.7405797101449275, 0.7329710144927536, 0.6894927536231884, 0.7065217391304348, 0.7673913043478262, 0.7847826086956522, 0.5869565217391305, 0.7413043478260869, 0.7938405797101449]}, {\"categories\": [\"0\", \"1\", \"2\", \"3\", \"4\", \"5\", \"6\", \"7\", \"8\", \"9\", \"10\", \"11\", \"12\", \"13\", \"14\", \"15\", \"16\", \"17\", \"18\", \"19\", \"20\", \"21\", \"22\", \"23\"], \"mode\": \"lines\", \"name\": \"recall_score_weighted_max\", \"stepped\": true, \"type\": \"scatter\", \"data\": [0.7329710144927536, 0.7416666666666666, 0.7847826086956522, 0.7847826086956522, 0.7847826086956522, 0.7847826086956522, 0.7847826086956522, 0.7847826086956522, 0.7847826086956522, 0.7847826086956522, 0.7847826086956522, 0.7847826086956522, 0.7847826086956522, 0.7847826086956522, 0.7847826086956522, 0.7847826086956522, 0.7847826086956522, 0.7847826086956522, 0.7847826086956522, 0.7847826086956522, 0.7847826086956522, 0.7847826086956522, 0.7847826086956522, 0.7938405797101449]}], \"f1_score_micro\": [{\"categories\": [\"0\", \"1\", \"2\", \"3\", \"4\", \"5\", \"6\", \"7\", \"8\", \"9\", \"10\", \"11\", \"12\", \"13\", \"14\", \"15\", \"16\", \"17\", \"18\", \"19\", \"20\", \"21\", \"22\", \"23\"], \"mode\": \"markers\", \"name\": \"f1_score_micro\", \"stepped\": false, \"type\": \"scatter\", \"data\": [0.7329710144927536, 0.7416666666666665, 0.7847826086956521, 0.7246376811594202, 0.7757246376811594, 0.672463768115942, 0.7068840579710145, 0.6202898550724637, 0.7163043478260869, 0.725, 0.7242753623188405, 0.7579710144927536, 0.7333333333333333, 0.7152173913043478, 0.7239130434782608, 0.7405797101449275, 0.7329710144927536, 0.6894927536231884, 0.7065217391304348, 0.7673913043478261, 0.7847826086956522, 0.5869565217391304, 0.7413043478260868, 0.7938405797101449]}, {\"categories\": [\"0\", \"1\", \"2\", \"3\", \"4\", \"5\", \"6\", \"7\", \"8\", \"9\", \"10\", \"11\", \"12\", \"13\", \"14\", \"15\", \"16\", \"17\", \"18\", \"19\", \"20\", \"21\", \"22\", \"23\"], \"mode\": \"lines\", \"name\": \"f1_score_micro_max\", \"stepped\": true, \"type\": \"scatter\", \"data\": [0.7329710144927536, 0.7416666666666665, 0.7847826086956521, 0.7847826086956521, 0.7847826086956521, 0.7847826086956521, 0.7847826086956521, 0.7847826086956521, 0.7847826086956521, 0.7847826086956521, 0.7847826086956521, 0.7847826086956521, 0.7847826086956521, 0.7847826086956521, 0.7847826086956521, 0.7847826086956521, 0.7847826086956521, 0.7847826086956521, 0.7847826086956521, 0.7847826086956521, 0.7847826086956522, 0.7847826086956522, 0.7847826086956522, 0.7938405797101449]}], \"AUC_weighted\": [{\"categories\": [\"0\", \"1\", \"2\", \"3\", \"4\", \"5\", \"6\", \"7\", \"8\", \"9\", \"10\", \"11\", \"12\", \"13\", \"14\", \"15\", \"16\", \"17\", \"18\", \"19\", \"20\", \"21\", \"22\", \"23\"], \"mode\": \"markers\", \"name\": \"AUC_weighted\", \"stepped\": false, \"type\": \"scatter\", \"data\": [0.8263428238428239, 0.8220715395715397, 0.851999111999112, 0.8144584159801551, 0.8288114663114664, 0.7661870074370074, 0.790416527916528, 0.5897075147075147, 0.8028951603951604, 0.8027994227994227, 0.7844925907425908, 0.8303205128205129, 0.8186960261960262, 0.7843362193362193, 0.8082470307470306, 0.8289603452103453, 0.8332115107115108, 0.7705301642801643, 0.8126878676878677, 0.835914640914641, 0.8663253413253413, 0.68257437007437, 0.8204190254190256, 0.8728130203130202]}, {\"categories\": [\"0\", \"1\", \"2\", \"3\", \"4\", \"5\", \"6\", \"7\", \"8\", \"9\", \"10\", \"11\", \"12\", \"13\", \"14\", \"15\", \"16\", \"17\", \"18\", \"19\", \"20\", \"21\", \"22\", \"23\"], \"mode\": \"lines\", \"name\": \"AUC_weighted_max\", \"stepped\": true, \"type\": \"scatter\", \"data\": [0.8263428238428239, 0.8263428238428239, 0.851999111999112, 0.851999111999112, 0.851999111999112, 0.851999111999112, 0.851999111999112, 0.851999111999112, 0.851999111999112, 0.851999111999112, 0.851999111999112, 0.851999111999112, 0.851999111999112, 0.851999111999112, 0.851999111999112, 0.851999111999112, 0.851999111999112, 0.851999111999112, 0.851999111999112, 0.851999111999112, 0.8663253413253413, 0.8663253413253413, 0.8663253413253413, 0.8728130203130202]}], \"average_precision_score_weighted\": [{\"categories\": [\"0\", \"1\", \"2\", \"3\", \"4\", \"5\", \"6\", \"7\", \"8\", \"9\", \"10\", \"11\", \"12\", \"13\", \"14\", \"15\", \"16\", \"17\", \"18\", \"19\", \"20\", \"21\", \"22\", \"23\"], \"mode\": \"markers\", \"name\": \"average_precision_score_weighted\", \"stepped\": false, \"type\": \"scatter\", \"data\": [0.8380933106206966, 0.8396170128380487, 0.8721560797814332, 0.8349141401291756, 0.8472005447156222, 0.7800222006940245, 0.8191081821586852, 0.6372712673323913, 0.8298205881954719, 0.8278955626457394, 0.809340817477614, 0.8496990334414216, 0.8413204262698825, 0.8099112400853905, 0.8294775531371155, 0.8457276590985302, 0.8590870124015566, 0.7755792642098621, 0.8369806676453347, 0.8438103457636339, 0.874424235051254, 0.7276987604692998, 0.8419611445199952, 0.8883334633006947]}, {\"categories\": [\"0\", \"1\", \"2\", \"3\", \"4\", \"5\", \"6\", \"7\", \"8\", \"9\", \"10\", \"11\", \"12\", \"13\", \"14\", \"15\", \"16\", \"17\", \"18\", \"19\", \"20\", \"21\", \"22\", \"23\"], \"mode\": \"lines\", \"name\": \"average_precision_score_weighted_max\", \"stepped\": true, \"type\": \"scatter\", \"data\": [0.8380933106206966, 0.8396170128380487, 0.8721560797814332, 0.8721560797814332, 0.8721560797814332, 0.8721560797814332, 0.8721560797814332, 0.8721560797814332, 0.8721560797814332, 0.8721560797814332, 0.8721560797814332, 0.8721560797814332, 0.8721560797814332, 0.8721560797814332, 0.8721560797814332, 0.8721560797814332, 0.8721560797814332, 0.8721560797814332, 0.8721560797814332, 0.8721560797814332, 0.874424235051254, 0.874424235051254, 0.874424235051254, 0.8883334633006947]}], \"f1_score_weighted\": [{\"categories\": [\"0\", \"1\", \"2\", \"3\", \"4\", \"5\", \"6\", \"7\", \"8\", \"9\", \"10\", \"11\", \"12\", \"13\", \"14\", \"15\", \"16\", \"17\", \"18\", \"19\", \"20\", \"21\", \"22\", \"23\"], \"mode\": \"markers\", \"name\": \"f1_score_weighted\", \"stepped\": false, \"type\": \"scatter\", \"data\": [0.7322358455173099, 0.7399497314279924, 0.7835152181210917, 0.7257439680633008, 0.7754581015221748, 0.6746734607899382, 0.705855190561073, 0.6205416868918013, 0.7157918951969295, 0.7219825146940071, 0.7251909483854563, 0.7572698260295515, 0.7346044823183673, 0.7112415121110773, 0.7230399399735784, 0.7378341892026102, 0.7327864599168947, 0.6930812405397466, 0.7040930897223803, 0.7678405449681576, 0.7857985704438792, 0.5886728778467909, 0.740462415850898, 0.7934816584381801]}, {\"categories\": [\"0\", \"1\", \"2\", \"3\", \"4\", \"5\", \"6\", \"7\", \"8\", \"9\", \"10\", \"11\", \"12\", \"13\", \"14\", \"15\", \"16\", \"17\", \"18\", \"19\", \"20\", \"21\", \"22\", \"23\"], \"mode\": \"lines\", \"name\": \"f1_score_weighted_max\", \"stepped\": true, \"type\": \"scatter\", \"data\": [0.7322358455173099, 0.7399497314279924, 0.7835152181210917, 0.7835152181210917, 0.7835152181210917, 0.7835152181210917, 0.7835152181210917, 0.7835152181210917, 0.7835152181210917, 0.7835152181210917, 0.7835152181210917, 0.7835152181210917, 0.7835152181210917, 0.7835152181210917, 0.7835152181210917, 0.7835152181210917, 0.7835152181210917, 0.7835152181210917, 0.7835152181210917, 0.7835152181210917, 0.7857985704438792, 0.7857985704438792, 0.7857985704438792, 0.7934816584381801]}], \"recall_score_macro\": [{\"categories\": [\"0\", \"1\", \"2\", \"3\", \"4\", \"5\", \"6\", \"7\", \"8\", \"9\", \"10\", \"11\", \"12\", \"13\", \"14\", \"15\", \"16\", \"17\", \"18\", \"19\", \"20\", \"21\", \"22\", \"23\"], \"mode\": \"markers\", \"name\": \"recall_score_macro\", \"stepped\": false, \"type\": \"scatter\", \"data\": [0.7244742757242757, 0.742049617049617, 0.7795200632700634, 0.7294443056943056, 0.7715251415251415, 0.6733841158841158, 0.6934161671661672, 0.6144305694305695, 0.7060331335331336, 0.7030432067932069, 0.7150074925074925, 0.7471665834165834, 0.72762654012654, 0.7139381451881451, 0.7196253746253747, 0.7340896603396604, 0.7262574925074924, 0.6978533966033965, 0.7071982184482184, 0.759785631035631, 0.7868069430569431, 0.5836322011322012, 0.736708707958708, 0.7861521811521811]}, {\"categories\": [\"0\", \"1\", \"2\", \"3\", \"4\", \"5\", \"6\", \"7\", \"8\", \"9\", \"10\", \"11\", \"12\", \"13\", \"14\", \"15\", \"16\", \"17\", \"18\", \"19\", \"20\", \"21\", \"22\", \"23\"], \"mode\": \"lines\", \"name\": \"recall_score_macro_max\", \"stepped\": true, \"type\": \"scatter\", \"data\": [0.7244742757242757, 0.742049617049617, 0.7795200632700634, 0.7795200632700634, 0.7795200632700634, 0.7795200632700634, 0.7795200632700634, 0.7795200632700634, 0.7795200632700634, 0.7795200632700634, 0.7795200632700634, 0.7795200632700634, 0.7795200632700634, 0.7795200632700634, 0.7795200632700634, 0.7795200632700634, 0.7795200632700634, 0.7795200632700634, 0.7795200632700634, 0.7795200632700634, 0.7868069430569431, 0.7868069430569431, 0.7868069430569431, 0.7868069430569431]}], \"precision_score_macro\": [{\"categories\": [\"0\", \"1\", \"2\", \"3\", \"4\", \"5\", \"6\", \"7\", \"8\", \"9\", \"10\", \"11\", \"12\", \"13\", \"14\", \"15\", \"16\", \"17\", \"18\", \"19\", \"20\", \"21\", \"22\", \"23\"], \"mode\": \"markers\", \"name\": \"precision_score_macro\", \"stepped\": false, \"type\": \"scatter\", \"data\": [0.7221931989579049, 0.7504473467708761, 0.786037491919845, 0.7225160950160949, 0.7715254353489648, 0.6710106560106561, 0.7053385503385503, 0.6226911976911976, 0.7039033189033189, 0.7196482683982683, 0.7097685647685648, 0.7456364224011283, 0.7212437562437561, 0.7246415839062897, 0.7209748747984042, 0.7435043877690937, 0.7229740847387907, 0.6871794871794872, 0.7084577922077921, 0.755239898989899, 0.7773365523365523, 0.5815567765567765, 0.7368308080808081, 0.7843459481694776]}, {\"categories\": [\"0\", \"1\", \"2\", \"3\", \"4\", \"5\", \"6\", \"7\", \"8\", \"9\", \"10\", \"11\", \"12\", \"13\", \"14\", \"15\", \"16\", \"17\", \"18\", \"19\", \"20\", \"21\", \"22\", \"23\"], \"mode\": \"lines\", \"name\": \"precision_score_macro_max\", \"stepped\": true, \"type\": \"scatter\", \"data\": [0.7221931989579049, 0.7504473467708761, 0.786037491919845, 0.786037491919845, 0.786037491919845, 0.786037491919845, 0.786037491919845, 0.786037491919845, 0.786037491919845, 0.786037491919845, 0.786037491919845, 0.786037491919845, 0.786037491919845, 0.786037491919845, 0.786037491919845, 0.786037491919845, 0.786037491919845, 0.786037491919845, 0.786037491919845, 0.786037491919845, 0.786037491919845, 0.786037491919845, 0.786037491919845, 0.786037491919845]}], \"matthews_correlation\": [{\"categories\": [\"0\", \"1\", \"2\", \"3\", \"4\", \"5\", \"6\", \"7\", \"8\", \"9\", \"10\", \"11\", \"12\", \"13\", \"14\", \"15\", \"16\", \"17\", \"18\", \"19\", \"20\", \"21\", \"22\", \"23\"], \"mode\": \"markers\", \"name\": \"matthews_correlation\", \"stepped\": false, \"type\": \"scatter\", \"data\": [0.4464776988257121, 0.49195454575056463, 0.5653399839879579, 0.4517534769674353, 0.542812954106445, 0.3441207361693414, 0.39800578833441563, 0.2362569733862633, 0.4097642687985877, 0.421949306032971, 0.42464380104057453, 0.49259703118223214, 0.4487227446019131, 0.43799902276742914, 0.44034772863998234, 0.4770863632696737, 0.4490546381184991, 0.3847060595198296, 0.4153947934189378, 0.5149785833126339, 0.5637969733285583, 0.16505323715310802, 0.47342333338137366, 0.5702865241599413]}, {\"categories\": [\"0\", \"1\", \"2\", \"3\", \"4\", \"5\", \"6\", \"7\", \"8\", \"9\", \"10\", \"11\", \"12\", \"13\", \"14\", \"15\", \"16\", \"17\", \"18\", \"19\", \"20\", \"21\", \"22\", \"23\"], \"mode\": \"lines\", \"name\": \"matthews_correlation_max\", \"stepped\": true, \"type\": \"scatter\", \"data\": [0.4464776988257121, 0.49195454575056463, 0.5653399839879579, 0.5653399839879579, 0.5653399839879579, 0.5653399839879579, 0.5653399839879579, 0.5653399839879579, 0.5653399839879579, 0.5653399839879579, 0.5653399839879579, 0.5653399839879579, 0.5653399839879579, 0.5653399839879579, 0.5653399839879579, 0.5653399839879579, 0.5653399839879579, 0.5653399839879579, 0.5653399839879579, 0.5653399839879579, 0.5653399839879579, 0.5653399839879579, 0.5653399839879579, 0.5702865241599413]}], \"recall_score_micro\": [{\"categories\": [\"0\", \"1\", \"2\", \"3\", \"4\", \"5\", \"6\", \"7\", \"8\", \"9\", \"10\", \"11\", \"12\", \"13\", \"14\", \"15\", \"16\", \"17\", \"18\", \"19\", \"20\", \"21\", \"22\", \"23\"], \"mode\": \"markers\", \"name\": \"recall_score_micro\", \"stepped\": false, \"type\": \"scatter\", \"data\": [0.7329710144927536, 0.7416666666666666, 0.7847826086956522, 0.7246376811594203, 0.7757246376811594, 0.6724637681159421, 0.7068840579710145, 0.6202898550724637, 0.7163043478260869, 0.725, 0.7242753623188406, 0.7579710144927536, 0.7333333333333333, 0.7152173913043478, 0.7239130434782608, 0.7405797101449275, 0.7329710144927536, 0.6894927536231884, 0.7065217391304348, 0.7673913043478262, 0.7847826086956522, 0.5869565217391305, 0.7413043478260869, 0.7938405797101449]}, {\"categories\": [\"0\", \"1\", \"2\", \"3\", \"4\", \"5\", \"6\", \"7\", \"8\", \"9\", \"10\", \"11\", \"12\", \"13\", \"14\", \"15\", \"16\", \"17\", \"18\", \"19\", \"20\", \"21\", \"22\", \"23\"], \"mode\": \"lines\", \"name\": \"recall_score_micro_max\", \"stepped\": true, \"type\": \"scatter\", \"data\": [0.7329710144927536, 0.7416666666666666, 0.7847826086956522, 0.7847826086956522, 0.7847826086956522, 0.7847826086956522, 0.7847826086956522, 0.7847826086956522, 0.7847826086956522, 0.7847826086956522, 0.7847826086956522, 0.7847826086956522, 0.7847826086956522, 0.7847826086956522, 0.7847826086956522, 0.7847826086956522, 0.7847826086956522, 0.7847826086956522, 0.7847826086956522, 0.7847826086956522, 0.7847826086956522, 0.7847826086956522, 0.7847826086956522, 0.7938405797101449]}], \"average_precision_score_micro\": [{\"categories\": [\"0\", \"1\", \"2\", \"3\", \"4\", \"5\", \"6\", \"7\", \"8\", \"9\", \"10\", \"11\", \"12\", \"13\", \"14\", \"15\", \"16\", \"17\", \"18\", \"19\", \"20\", \"21\", \"22\", \"23\"], \"mode\": \"markers\", \"name\": \"average_precision_score_micro\", \"stepped\": false, \"type\": \"scatter\", \"data\": [0.8172435246657443, 0.8167873497389051, 0.8515825927308723, 0.8003035308526979, 0.8264356340855162, 0.7607633323827621, 0.7987703471473834, 0.6037655505887548, 0.8220872548442658, 0.8137945696370915, 0.7931221084107378, 0.8266601606394433, 0.8313784688091357, 0.7782403094903602, 0.8161149305715465, 0.8299478459435885, 0.8395752006755087, 0.7579526345342602, 0.8175565740209706, 0.8229689362892432, 0.8533833745676593, 0.6962812593883718, 0.8297580552373607, 0.8757978225768731]}, {\"categories\": [\"0\", \"1\", \"2\", \"3\", \"4\", \"5\", \"6\", \"7\", \"8\", \"9\", \"10\", \"11\", \"12\", \"13\", \"14\", \"15\", \"16\", \"17\", \"18\", \"19\", \"20\", \"21\", \"22\", \"23\"], \"mode\": \"lines\", \"name\": \"average_precision_score_micro_max\", \"stepped\": true, \"type\": \"scatter\", \"data\": [0.8172435246657443, 0.8172435246657443, 0.8515825927308723, 0.8515825927308723, 0.8515825927308723, 0.8515825927308723, 0.8515825927308723, 0.8515825927308723, 0.8515825927308723, 0.8515825927308723, 0.8515825927308723, 0.8515825927308723, 0.8515825927308723, 0.8515825927308723, 0.8515825927308723, 0.8515825927308723, 0.8515825927308723, 0.8515825927308723, 0.8515825927308723, 0.8515825927308723, 0.8533833745676593, 0.8533833745676593, 0.8533833745676593, 0.8757978225768731]}], \"log_loss\": [{\"categories\": [\"0\", \"1\", \"2\", \"3\", \"4\", \"5\", \"6\", \"7\", \"8\", \"9\", \"10\", \"11\", \"12\", \"13\", \"14\", \"15\", \"16\", \"17\", \"18\", \"19\", \"20\", \"21\", \"22\", \"23\"], \"mode\": \"markers\", \"name\": \"log_loss\", \"stepped\": false, \"type\": \"scatter\", \"data\": [0.5449937089534775, 0.6055206537040912, 0.5023795441257015, 0.54946968240035, 0.535151148879963, 1.133986059345395, 0.5498901991975996, 0.6915620367433141, 0.5994885246694345, 0.5418786578579536, 0.8223719492607069, 0.5151866969654719, 0.6217434223501215, 0.565856941859207, 0.5237118401978226, 0.5966633998131442, 0.5446747160138417, 0.5702188848923117, 0.5432321180785906, 0.5208111047654935, 0.53213000675524, 0.6488122440280267, 0.5554411821401466, 0.5401159068738857]}, {\"categories\": [\"0\", \"1\", \"2\", \"3\", \"4\", \"5\", \"6\", \"7\", \"8\", \"9\", \"10\", \"11\", \"12\", \"13\", \"14\", \"15\", \"16\", \"17\", \"18\", \"19\", \"20\", \"21\", \"22\", \"23\"], \"mode\": \"lines\", \"name\": \"log_loss_min\", \"stepped\": true, \"type\": \"scatter\", \"data\": [0.5449937089534775, 0.5449937089534775, 0.5023795441257015, 0.5023795441257015, 0.5023795441257015, 0.5023795441257015, 0.5023795441257015, 0.5023795441257015, 0.5023795441257015, 0.5023795441257015, 0.5023795441257015, 0.5023795441257015, 0.5023795441257015, 0.5023795441257015, 0.5023795441257015, 0.5023795441257015, 0.5023795441257015, 0.5023795441257015, 0.5023795441257015, 0.5023795441257015, 0.5023795441257015, 0.5023795441257015, 0.5023795441257015, 0.5023795441257015]}], \"f1_score_macro\": [{\"categories\": [\"0\", \"1\", \"2\", \"3\", \"4\", \"5\", \"6\", \"7\", \"8\", \"9\", \"10\", \"11\", \"12\", \"13\", \"14\", \"15\", \"16\", \"17\", \"18\", \"19\", \"20\", \"21\", \"22\", \"23\"], \"mode\": \"markers\", \"name\": \"f1_score_macro\", \"stepped\": false, \"type\": \"scatter\", \"data\": [0.716861040137928, 0.7295255903516773, 0.7758845704667205, 0.7170669627800358, 0.7640625198176685, 0.6622772886026864, 0.692421002129442, 0.6043630238309872, 0.699725323409534, 0.7075352676364144, 0.709238401906594, 0.7413981262402316, 0.721762234181589, 0.6976689976689976, 0.7118090486511538, 0.7231550359971413, 0.7177119691902301, 0.6837799532977238, 0.6935825251746304, 0.7558555161876662, 0.7777020445441497, 0.5741666666666665, 0.7293706677028178, 0.7817472575733444]}, {\"categories\": [\"0\", \"1\", \"2\", \"3\", \"4\", \"5\", \"6\", \"7\", \"8\", \"9\", \"10\", \"11\", \"12\", \"13\", \"14\", \"15\", \"16\", \"17\", \"18\", \"19\", \"20\", \"21\", \"22\", \"23\"], \"mode\": \"lines\", \"name\": \"f1_score_macro_max\", \"stepped\": true, \"type\": \"scatter\", \"data\": [0.716861040137928, 0.7295255903516773, 0.7758845704667205, 0.7758845704667205, 0.7758845704667205, 0.7758845704667205, 0.7758845704667205, 0.7758845704667205, 0.7758845704667205, 0.7758845704667205, 0.7758845704667205, 0.7758845704667205, 0.7758845704667205, 0.7758845704667205, 0.7758845704667205, 0.7758845704667205, 0.7758845704667205, 0.7758845704667205, 0.7758845704667205, 0.7758845704667205, 0.7777020445441497, 0.7777020445441497, 0.7777020445441497, 0.7817472575733444]}], \"average_precision_score_macro\": [{\"categories\": [\"0\", \"1\", \"2\", \"3\", \"4\", \"5\", \"6\", \"7\", \"8\", \"9\", \"10\", \"11\", \"12\", \"13\", \"14\", \"15\", \"16\", \"17\", \"18\", \"19\", \"20\", \"21\", \"22\", \"23\"], \"mode\": \"markers\", \"name\": \"average_precision_score_macro\", \"stepped\": false, \"type\": \"scatter\", \"data\": [0.8311227906363872, 0.8323208851710049, 0.8675403149495866, 0.8224708362130688, 0.8415366811187278, 0.7607253454630578, 0.8097204565113294, 0.6114121107461304, 0.820857429952017, 0.8184875896594981, 0.8005381183455829, 0.8431254464620256, 0.8343666898039961, 0.8019653610860704, 0.8217314559682387, 0.8369556590688072, 0.847956779023923, 0.7669752245217718, 0.8306345836539336, 0.8349076974121139, 0.8691543913298554, 0.7147602998944772, 0.8364718400395642, 0.8825435279620606]}, {\"categories\": [\"0\", \"1\", \"2\", \"3\", \"4\", \"5\", \"6\", \"7\", \"8\", \"9\", \"10\", \"11\", \"12\", \"13\", \"14\", \"15\", \"16\", \"17\", \"18\", \"19\", \"20\", \"21\", \"22\", \"23\"], \"mode\": \"lines\", \"name\": \"average_precision_score_macro_max\", \"stepped\": true, \"type\": \"scatter\", \"data\": [0.8311227906363872, 0.8323208851710049, 0.8675403149495866, 0.8675403149495866, 0.8675403149495866, 0.8675403149495866, 0.8675403149495866, 0.8675403149495866, 0.8675403149495866, 0.8675403149495866, 0.8675403149495866, 0.8675403149495866, 0.8675403149495866, 0.8675403149495866, 0.8675403149495866, 0.8675403149495866, 0.8675403149495866, 0.8675403149495866, 0.8675403149495866, 0.8675403149495866, 0.8691543913298554, 0.8691543913298554, 0.8691543913298554, 0.8825435279620606]}], \"accuracy\": [{\"categories\": [\"0\", \"1\", \"2\", \"3\", \"4\", \"5\", \"6\", \"7\", \"8\", \"9\", \"10\", \"11\", \"12\", \"13\", \"14\", \"15\", \"16\", \"17\", \"18\", \"19\", \"20\", \"21\", \"22\", \"23\"], \"mode\": \"markers\", \"name\": \"accuracy\", \"stepped\": false, \"type\": \"scatter\", \"data\": [0.7329710144927536, 0.7416666666666666, 0.7847826086956522, 0.7246376811594203, 0.7757246376811594, 0.6724637681159421, 0.7068840579710145, 0.6202898550724637, 0.7163043478260869, 0.725, 0.7242753623188406, 0.7579710144927536, 0.7333333333333333, 0.7152173913043478, 0.7239130434782608, 0.7405797101449275, 0.7329710144927536, 0.6894927536231884, 0.7065217391304348, 0.7673913043478262, 0.7847826086956522, 0.5869565217391305, 0.7413043478260869, 0.7938405797101449]}, {\"categories\": [\"0\", \"1\", \"2\", \"3\", \"4\", \"5\", \"6\", \"7\", \"8\", \"9\", \"10\", \"11\", \"12\", \"13\", \"14\", \"15\", \"16\", \"17\", \"18\", \"19\", \"20\", \"21\", \"22\", \"23\"], \"mode\": \"lines\", \"name\": \"accuracy_max\", \"stepped\": true, \"type\": \"scatter\", \"data\": [0.7329710144927536, 0.7416666666666666, 0.7847826086956522, 0.7847826086956522, 0.7847826086956522, 0.7847826086956522, 0.7847826086956522, 0.7847826086956522, 0.7847826086956522, 0.7847826086956522, 0.7847826086956522, 0.7847826086956522, 0.7847826086956522, 0.7847826086956522, 0.7847826086956522, 0.7847826086956522, 0.7847826086956522, 0.7847826086956522, 0.7847826086956522, 0.7847826086956522, 0.7847826086956522, 0.7847826086956522, 0.7847826086956522, 0.7938405797101449]}], \"weighted_accuracy\": [{\"categories\": [\"0\", \"1\", \"2\", \"3\", \"4\", \"5\", \"6\", \"7\", \"8\", \"9\", \"10\", \"11\", \"12\", \"13\", \"14\", \"15\", \"16\", \"17\", \"18\", \"19\", \"20\", \"21\", \"22\", \"23\"], \"mode\": \"markers\", \"name\": \"weighted_accuracy\", \"stepped\": false, \"type\": \"scatter\", \"data\": [0.7382977647978255, 0.7394050851853536, 0.787890850722835, 0.7196680110693339, 0.7775935684889277, 0.6713917318431599, 0.7163734981450027, 0.6242647068803503, 0.7239021481876741, 0.7418776682165812, 0.730903387345047, 0.765528248069201, 0.7375408407835101, 0.7137885267772703, 0.725890662314183, 0.7439669097792381, 0.7368278524886168, 0.6825219435132156, 0.7042239975639367, 0.7725913314760342, 0.7835450661070115, 0.5884711482172877, 0.7435950489481531, 0.7988280408972689]}, {\"categories\": [\"0\", \"1\", \"2\", \"3\", \"4\", \"5\", \"6\", \"7\", \"8\", \"9\", \"10\", \"11\", \"12\", \"13\", \"14\", \"15\", \"16\", \"17\", \"18\", \"19\", \"20\", \"21\", \"22\", \"23\"], \"mode\": \"lines\", \"name\": \"weighted_accuracy_max\", \"stepped\": true, \"type\": \"scatter\", \"data\": [0.7382977647978255, 0.7394050851853536, 0.787890850722835, 0.787890850722835, 0.787890850722835, 0.787890850722835, 0.787890850722835, 0.787890850722835, 0.787890850722835, 0.787890850722835, 0.787890850722835, 0.787890850722835, 0.787890850722835, 0.787890850722835, 0.787890850722835, 0.787890850722835, 0.787890850722835, 0.787890850722835, 0.787890850722835, 0.787890850722835, 0.787890850722835, 0.787890850722835, 0.787890850722835, 0.7988280408972689]}], \"balanced_accuracy\": [{\"categories\": [\"0\", \"1\", \"2\", \"3\", \"4\", \"5\", \"6\", \"7\", \"8\", \"9\", \"10\", \"11\", \"12\", \"13\", \"14\", \"15\", \"16\", \"17\", \"18\", \"19\", \"20\", \"21\", \"22\", \"23\"], \"mode\": \"markers\", \"name\": \"balanced_accuracy\", \"stepped\": false, \"type\": \"scatter\", \"data\": [0.7244742757242757, 0.742049617049617, 0.7795200632700634, 0.7294443056943056, 0.7715251415251415, 0.6733841158841158, 0.6934161671661672, 0.6144305694305695, 0.7060331335331336, 0.7030432067932069, 0.7150074925074925, 0.7471665834165834, 0.72762654012654, 0.7139381451881451, 0.7196253746253747, 0.7340896603396604, 0.7262574925074924, 0.6978533966033965, 0.7071982184482184, 0.759785631035631, 0.7868069430569431, 0.5836322011322012, 0.736708707958708, 0.7861521811521811]}, {\"categories\": [\"0\", \"1\", \"2\", \"3\", \"4\", \"5\", \"6\", \"7\", \"8\", \"9\", \"10\", \"11\", \"12\", \"13\", \"14\", \"15\", \"16\", \"17\", \"18\", \"19\", \"20\", \"21\", \"22\", \"23\"], \"mode\": \"lines\", \"name\": \"balanced_accuracy_max\", \"stepped\": true, \"type\": \"scatter\", \"data\": [0.7244742757242757, 0.742049617049617, 0.7795200632700634, 0.7795200632700634, 0.7795200632700634, 0.7795200632700634, 0.7795200632700634, 0.7795200632700634, 0.7795200632700634, 0.7795200632700634, 0.7795200632700634, 0.7795200632700634, 0.7795200632700634, 0.7795200632700634, 0.7795200632700634, 0.7795200632700634, 0.7795200632700634, 0.7795200632700634, 0.7795200632700634, 0.7795200632700634, 0.7868069430569431, 0.7868069430569431, 0.7868069430569431, 0.7868069430569431]}], \"AUC_micro\": [{\"categories\": [\"0\", \"1\", \"2\", \"3\", \"4\", \"5\", \"6\", \"7\", \"8\", \"9\", \"10\", \"11\", \"12\", \"13\", \"14\", \"15\", \"16\", \"17\", \"18\", \"19\", \"20\", \"21\", \"22\", \"23\"], \"mode\": \"markers\", \"name\": \"AUC_micro\", \"stepped\": false, \"type\": \"scatter\", \"data\": [0.8251831285444234, 0.8186942081495484, 0.8498424700693132, 0.798960302457467, 0.8279372768325981, 0.7684684152488973, 0.7917040800252046, 0.595737502625499, 0.8068033238815376, 0.8034164303717706, 0.7961405166981727, 0.8298624238605334, 0.819873713505566, 0.7777462717916404, 0.8183699590422181, 0.8270045683679899, 0.8297042375551354, 0.773988854757404, 0.8037098298676749, 0.8340868515017854, 0.8558916194076875, 0.6814442869145138, 0.827906427221172, 0.872503806973325]}, {\"categories\": [\"0\", \"1\", \"2\", \"3\", \"4\", \"5\", \"6\", \"7\", \"8\", \"9\", \"10\", \"11\", \"12\", \"13\", \"14\", \"15\", \"16\", \"17\", \"18\", \"19\", \"20\", \"21\", \"22\", \"23\"], \"mode\": \"lines\", \"name\": \"AUC_micro_max\", \"stepped\": true, \"type\": \"scatter\", \"data\": [0.8251831285444234, 0.8251831285444234, 0.8498424700693132, 0.8498424700693132, 0.8498424700693132, 0.8498424700693132, 0.8498424700693132, 0.8498424700693132, 0.8498424700693132, 0.8498424700693132, 0.8498424700693132, 0.8498424700693132, 0.8498424700693132, 0.8498424700693132, 0.8498424700693132, 0.8498424700693132, 0.8498424700693132, 0.8498424700693132, 0.8498424700693132, 0.8498424700693132, 0.8558916194076875, 0.8558916194076875, 0.8558916194076875, 0.872503806973325]}], \"precision_score_micro\": [{\"categories\": [\"0\", \"1\", \"2\", \"3\", \"4\", \"5\", \"6\", \"7\", \"8\", \"9\", \"10\", \"11\", \"12\", \"13\", \"14\", \"15\", \"16\", \"17\", \"18\", \"19\", \"20\", \"21\", \"22\", \"23\"], \"mode\": \"markers\", \"name\": \"precision_score_micro\", \"stepped\": false, \"type\": \"scatter\", \"data\": [0.7329710144927536, 0.7416666666666666, 0.7847826086956522, 0.7246376811594203, 0.7757246376811594, 0.6724637681159421, 0.7068840579710145, 0.6202898550724637, 0.7163043478260869, 0.725, 0.7242753623188406, 0.7579710144927536, 0.7333333333333333, 0.7152173913043478, 0.7239130434782608, 0.7405797101449275, 0.7329710144927536, 0.6894927536231884, 0.7065217391304348, 0.7673913043478262, 0.7847826086956522, 0.5869565217391305, 0.7413043478260869, 0.7938405797101449]}, {\"categories\": [\"0\", \"1\", \"2\", \"3\", \"4\", \"5\", \"6\", \"7\", \"8\", \"9\", \"10\", \"11\", \"12\", \"13\", \"14\", \"15\", \"16\", \"17\", \"18\", \"19\", \"20\", \"21\", \"22\", \"23\"], \"mode\": \"lines\", \"name\": \"precision_score_micro_max\", \"stepped\": true, \"type\": \"scatter\", \"data\": [0.7329710144927536, 0.7416666666666666, 0.7847826086956522, 0.7847826086956522, 0.7847826086956522, 0.7847826086956522, 0.7847826086956522, 0.7847826086956522, 0.7847826086956522, 0.7847826086956522, 0.7847826086956522, 0.7847826086956522, 0.7847826086956522, 0.7847826086956522, 0.7847826086956522, 0.7847826086956522, 0.7847826086956522, 0.7847826086956522, 0.7847826086956522, 0.7847826086956522, 0.7847826086956522, 0.7847826086956522, 0.7847826086956522, 0.7938405797101449]}], \"precision_score_weighted\": [{\"categories\": [\"0\", \"1\", \"2\", \"3\", \"4\", \"5\", \"6\", \"7\", \"8\", \"9\", \"10\", \"11\", \"12\", \"13\", \"14\", \"15\", \"16\", \"17\", \"18\", \"19\", \"20\", \"21\", \"22\", \"23\"], \"mode\": \"markers\", \"name\": \"precision_score_weighted\", \"stepped\": false, \"type\": \"scatter\", \"data\": [0.7437578023000018, 0.7714899337661486, 0.7957206873830914, 0.7440805812544943, 0.7893717620827595, 0.6957755288190072, 0.7173009599096556, 0.6486322855888074, 0.725214254344689, 0.7252126496691714, 0.7318789905746426, 0.765875394852377, 0.7407740086000956, 0.7504574794344616, 0.7384672076999442, 0.7659469175325953, 0.7455851054316528, 0.7126482213438734, 0.7299002446828533, 0.7714693519041346, 0.7945766310983702, 0.6069485586876892, 0.7545721187025535, 0.7995460805179475]}, {\"categories\": [\"0\", \"1\", \"2\", \"3\", \"4\", \"5\", \"6\", \"7\", \"8\", \"9\", \"10\", \"11\", \"12\", \"13\", \"14\", \"15\", \"16\", \"17\", \"18\", \"19\", \"20\", \"21\", \"22\", \"23\"], \"mode\": \"lines\", \"name\": \"precision_score_weighted_max\", \"stepped\": true, \"type\": \"scatter\", \"data\": [0.7437578023000018, 0.7714899337661486, 0.7957206873830914, 0.7957206873830914, 0.7957206873830914, 0.7957206873830914, 0.7957206873830914, 0.7957206873830914, 0.7957206873830914, 0.7957206873830914, 0.7957206873830914, 0.7957206873830914, 0.7957206873830914, 0.7957206873830914, 0.7957206873830914, 0.7957206873830914, 0.7957206873830914, 0.7957206873830914, 0.7957206873830914, 0.7957206873830914, 0.7957206873830914, 0.7957206873830914, 0.7957206873830914, 0.7995460805179475]}], \"norm_macro_recall\": [{\"categories\": [\"0\", \"1\", \"2\", \"3\", \"4\", \"5\", \"6\", \"7\", \"8\", \"9\", \"10\", \"11\", \"12\", \"13\", \"14\", \"15\", \"16\", \"17\", \"18\", \"19\", \"20\", \"21\", \"22\", \"23\"], \"mode\": \"markers\", \"name\": \"norm_macro_recall\", \"stepped\": false, \"type\": \"scatter\", \"data\": [0.4489485514485514, 0.484099234099234, 0.5590401265401266, 0.45888861138861137, 0.5430502830502831, 0.3467682317682318, 0.38683233433233427, 0.22886113886113887, 0.41206626706626703, 0.4060864135864136, 0.43001498501498503, 0.4943331668331668, 0.45525308025308037, 0.4278762903762903, 0.43925074925074925, 0.4681793206793207, 0.452514985014985, 0.39570679320679314, 0.4143964368964369, 0.5195712620712621, 0.5736138861138861, 0.16726440226440226, 0.47341741591741593, 0.5723043623043622]}, {\"categories\": [\"0\", \"1\", \"2\", \"3\", \"4\", \"5\", \"6\", \"7\", \"8\", \"9\", \"10\", \"11\", \"12\", \"13\", \"14\", \"15\", \"16\", \"17\", \"18\", \"19\", \"20\", \"21\", \"22\", \"23\"], \"mode\": \"lines\", \"name\": \"norm_macro_recall_max\", \"stepped\": true, \"type\": \"scatter\", \"data\": [0.4489485514485514, 0.484099234099234, 0.5590401265401266, 0.5590401265401266, 0.5590401265401266, 0.5590401265401266, 0.5590401265401266, 0.5590401265401266, 0.5590401265401266, 0.5590401265401266, 0.5590401265401266, 0.5590401265401266, 0.5590401265401266, 0.5590401265401266, 0.5590401265401266, 0.5590401265401266, 0.5590401265401266, 0.5590401265401266, 0.5590401265401266, 0.5590401265401266, 0.5736138861138861, 0.5736138861138861, 0.5736138861138861, 0.5736138861138861]}], \"AUC_macro\": [{\"categories\": [\"0\", \"1\", \"2\", \"3\", \"4\", \"5\", \"6\", \"7\", \"8\", \"9\", \"10\", \"11\", \"12\", \"13\", \"14\", \"15\", \"16\", \"17\", \"18\", \"19\", \"20\", \"21\", \"22\", \"23\"], \"mode\": \"markers\", \"name\": \"AUC_macro\", \"stepped\": false, \"type\": \"scatter\", \"data\": [0.8263428238428239, 0.8220715395715394, 0.851999111999112, 0.8144419469419469, 0.8288114663114664, 0.7661870074370074, 0.790416527916528, 0.5897075147075147, 0.8028951603951604, 0.8027994227994227, 0.7844925907425907, 0.8303205128205129, 0.8186960261960262, 0.7843362193362193, 0.8082470307470306, 0.8289603452103451, 0.8332115107115106, 0.7705301642801643, 0.8126878676878677, 0.8359146409146408, 0.8663253413253413, 0.68257437007437, 0.8204190254190256, 0.8728130203130202]}, {\"categories\": [\"0\", \"1\", \"2\", \"3\", \"4\", \"5\", \"6\", \"7\", \"8\", \"9\", \"10\", \"11\", \"12\", \"13\", \"14\", \"15\", \"16\", \"17\", \"18\", \"19\", \"20\", \"21\", \"22\", \"23\"], \"mode\": \"lines\", \"name\": \"AUC_macro_max\", \"stepped\": true, \"type\": \"scatter\", \"data\": [0.8263428238428239, 0.8263428238428239, 0.851999111999112, 0.851999111999112, 0.851999111999112, 0.851999111999112, 0.851999111999112, 0.851999111999112, 0.851999111999112, 0.851999111999112, 0.851999111999112, 0.851999111999112, 0.851999111999112, 0.851999111999112, 0.851999111999112, 0.851999111999112, 0.851999111999112, 0.851999111999112, 0.851999111999112, 0.851999111999112, 0.8663253413253413, 0.8663253413253413, 0.8663253413253413, 0.8728130203130202]}]}, \"metricName\": null, \"primaryMetricName\": \"average_precision_score_weighted\", \"showLegend\": false}, \"run_metrics\": [{\"name\": \"experiment_status\", \"run_id\": \"AutoML_1421a1dd-b7e4-4366-a79a-f5cf3c837060\", \"categories\": [0, 1, 2, 3, 4, 5, 6, 7, 8, 9, 10, 11, 12, 13], \"series\": [{\"data\": [\"DatasetEvaluation\", \"FeaturesGeneration\", \"DatasetFeaturization\", \"DatasetFeaturizationCompleted\", \"DatasetCrossValidationSplit\", \"ModelSelection\", \"BestRunExplainModel\", \"ModelExplanationDataSetSetup\", \"PickSurrogateModel\", \"EngineeredFeatureExplanations\", \"EngineeredFeatureExplanations\", \"RawFeaturesExplanations\", \"RawFeaturesExplanations\", \"BestRunExplainModel\"]}]}, {\"name\": \"experiment_status_description\", \"run_id\": \"AutoML_1421a1dd-b7e4-4366-a79a-f5cf3c837060\", \"categories\": [0, 1, 2, 3, 4, 5, 6, 7, 8, 9, 10, 11, 12, 13], \"series\": [{\"data\": [\"Gathering dataset statistics.\", \"Generating features for the dataset.\", \"Beginning to fit featurizers and featurize the dataset.\", \"Completed fit featurizers and featurizing the dataset.\", \"Generating individually featurized CV splits.\", \"Beginning model selection.\", \"Best run model explanations started\", \"Model explanations data setup completed\", \"Choosing LightGBM as the surrogate model for explanations\", \"Computation of engineered features started\", \"Computation of engineered features completed\", \"Computation of raw features started\", \"Computation of raw features completed\", \"Best run model explanations completed\"]}]}, {\"name\": \"f1_score_weighted\", \"run_id\": \"AutoML_1421a1dd-b7e4-4366-a79a-f5cf3c837060\", \"categories\": [0], \"series\": [{\"data\": [0.7934816584381801]}]}, {\"name\": \"AUC_weighted\", \"run_id\": \"AutoML_1421a1dd-b7e4-4366-a79a-f5cf3c837060\", \"categories\": [0], \"series\": [{\"data\": [0.8728130203130202]}]}, {\"name\": \"weighted_accuracy\", \"run_id\": \"AutoML_1421a1dd-b7e4-4366-a79a-f5cf3c837060\", \"categories\": [0], \"series\": [{\"data\": [0.7988280408972689]}]}, {\"name\": \"balanced_accuracy\", \"run_id\": \"AutoML_1421a1dd-b7e4-4366-a79a-f5cf3c837060\", \"categories\": [0], \"series\": [{\"data\": [0.7861521811521811]}]}, {\"name\": \"precision_score_weighted\", \"run_id\": \"AutoML_1421a1dd-b7e4-4366-a79a-f5cf3c837060\", \"categories\": [0], \"series\": [{\"data\": [0.7995460805179475]}]}, {\"name\": \"f1_score_macro\", \"run_id\": \"AutoML_1421a1dd-b7e4-4366-a79a-f5cf3c837060\", \"categories\": [0], \"series\": [{\"data\": [0.7817472575733444]}]}, {\"name\": \"norm_macro_recall\", \"run_id\": \"AutoML_1421a1dd-b7e4-4366-a79a-f5cf3c837060\", \"categories\": [0], \"series\": [{\"data\": [0.5723043623043622]}]}, {\"name\": \"recall_score_micro\", \"run_id\": \"AutoML_1421a1dd-b7e4-4366-a79a-f5cf3c837060\", \"categories\": [0], \"series\": [{\"data\": [0.7938405797101449]}]}, {\"name\": \"log_loss\", \"run_id\": \"AutoML_1421a1dd-b7e4-4366-a79a-f5cf3c837060\", \"categories\": [0], \"series\": [{\"data\": [0.5401159068738857]}]}, {\"name\": \"precision_score_macro\", \"run_id\": \"AutoML_1421a1dd-b7e4-4366-a79a-f5cf3c837060\", \"categories\": [0], \"series\": [{\"data\": [0.7843459481694776]}]}, {\"name\": \"average_precision_score_macro\", \"run_id\": \"AutoML_1421a1dd-b7e4-4366-a79a-f5cf3c837060\", \"categories\": [0], \"series\": [{\"data\": [0.8825435279620606]}]}, {\"name\": \"AUC_macro\", \"run_id\": \"AutoML_1421a1dd-b7e4-4366-a79a-f5cf3c837060\", \"categories\": [0], \"series\": [{\"data\": [0.8728130203130202]}]}, {\"name\": \"accuracy\", \"run_id\": \"AutoML_1421a1dd-b7e4-4366-a79a-f5cf3c837060\", \"categories\": [0], \"series\": [{\"data\": [0.7938405797101449]}]}, {\"name\": \"average_precision_score_micro\", \"run_id\": \"AutoML_1421a1dd-b7e4-4366-a79a-f5cf3c837060\", \"categories\": [0], \"series\": [{\"data\": [0.8757978225768731]}]}, {\"name\": \"recall_score_weighted\", \"run_id\": \"AutoML_1421a1dd-b7e4-4366-a79a-f5cf3c837060\", \"categories\": [0], \"series\": [{\"data\": [0.7938405797101449]}]}, {\"name\": \"f1_score_micro\", \"run_id\": \"AutoML_1421a1dd-b7e4-4366-a79a-f5cf3c837060\", \"categories\": [0], \"series\": [{\"data\": [0.7938405797101449]}]}, {\"name\": \"average_precision_score_weighted\", \"run_id\": \"AutoML_1421a1dd-b7e4-4366-a79a-f5cf3c837060\", \"categories\": [0], \"series\": [{\"data\": [0.8883334633006947]}]}, {\"name\": \"AUC_micro\", \"run_id\": \"AutoML_1421a1dd-b7e4-4366-a79a-f5cf3c837060\", \"categories\": [0], \"series\": [{\"data\": [0.872503806973325]}]}, {\"name\": \"recall_score_macro\", \"run_id\": \"AutoML_1421a1dd-b7e4-4366-a79a-f5cf3c837060\", \"categories\": [0], \"series\": [{\"data\": [0.7861521811521811]}]}, {\"name\": \"matthews_correlation\", \"run_id\": \"AutoML_1421a1dd-b7e4-4366-a79a-f5cf3c837060\", \"categories\": [0], \"series\": [{\"data\": [0.5702865241599413]}]}, {\"name\": \"precision_score_micro\", \"run_id\": \"AutoML_1421a1dd-b7e4-4366-a79a-f5cf3c837060\", \"categories\": [0], \"series\": [{\"data\": [0.7938405797101449]}]}], \"run_logs\": \"\\nRun is completed.\", \"graph\": {}, \"widget_settings\": {\"childWidgetDisplay\": \"popup\", \"send_telemetry\": false, \"log_level\": \"INFO\", \"sdk_version\": \"1.26.0\"}, \"loading\": false}"
          },
          "metadata": {}
        }
      ],
      "execution_count": 11,
      "metadata": {
        "gather": {
          "logged": 1598431121770
        },
        "jupyter": {
          "outputs_hidden": false,
          "source_hidden": false
        },
        "nteract": {
          "transient": {
            "deleting": false
          }
        }
      }
    },
    {
      "cell_type": "markdown",
      "source": [
        "## Best Model\n",
        "\n",
        "TODO: In the cell below, get the best model from the automl experiments and display all the properties of the model.\n",
        "\n"
      ],
      "metadata": {}
    },
    {
      "cell_type": "code",
      "source": [
        "best_run, fitted_model = remote_run.get_output()\r\n",
        "print(best_run)\r\n",
        "print(fitted_model)\r\n",
        "\r\n",
        "model_ml = best_run.register_model(model_name='Cervical_Cancer_prediction_Biopsy_auto_ml', model_path='./')"
      ],
      "outputs": [
        {
          "output_type": "stream",
          "name": "stdout",
          "text": [
            "Run(Experiment: Breastcancer_automl,\n",
            "Id: AutoML_1421a1dd-b7e4-4366-a79a-f5cf3c837060_23,\n",
            "Type: azureml.scriptrun,\n",
            "Status: Completed)\n",
            "Pipeline(memory=None,\n",
            "         steps=[('datatransformer',\n",
            "                 DataTransformer(enable_dnn=None, enable_feature_sweeping=None,\n",
            "                                 feature_sweeping_config=None,\n",
            "                                 feature_sweeping_timeout=None,\n",
            "                                 featurization_config=None, force_text_dnn=None,\n",
            "                                 is_cross_validation=None,\n",
            "                                 is_onnx_compatible=None, logger=None,\n",
            "                                 observer=None, task=None, working_dir=None)),\n",
            "                ('prefittedsoftvotingclassifier',...\n",
            "                                                                                                  min_samples_split=0.15052631578947367,\n",
            "                                                                                                  min_weight_fraction_leaf=0.0,\n",
            "                                                                                                  n_estimators=10,\n",
            "                                                                                                  n_jobs=-1,\n",
            "                                                                                                  oob_score=True,\n",
            "                                                                                                  random_state=None,\n",
            "                                                                                                  verbose=0,\n",
            "                                                                                                  warm_start=False))],\n",
            "                                                                     verbose=False))],\n",
            "                                               flatten_transform=None,\n",
            "                                               weights=[0.21428571428571427,\n",
            "                                                        0.07142857142857142,\n",
            "                                                        0.21428571428571427,\n",
            "                                                        0.07142857142857142,\n",
            "                                                        0.07142857142857142,\n",
            "                                                        0.21428571428571427,\n",
            "                                                        0.07142857142857142,\n",
            "                                                        0.07142857142857142]))],\n",
            "         verbose=False)\n"
          ]
        }
      ],
      "execution_count": 13,
      "metadata": {
        "gather": {
          "logged": 1598431425670
        },
        "jupyter": {
          "outputs_hidden": false,
          "source_hidden": false
        },
        "nteract": {
          "transient": {
            "deleting": false
          }
        }
      }
    },
    {
      "cell_type": "code",
      "source": [
        "#TODO: Save the best model"
      ],
      "outputs": [],
      "execution_count": null,
      "metadata": {
        "gather": {
          "logged": 1598431426111
        },
        "jupyter": {
          "outputs_hidden": false,
          "source_hidden": false
        },
        "nteract": {
          "transient": {
            "deleting": false
          }
        }
      }
    },
    {
      "cell_type": "markdown",
      "source": [
        "## Model Deployment\n",
        "\n",
        "Remember you have to deploy only one of the two models you trained.. Perform the steps in the rest of this notebook only if you wish to deploy this model.\n",
        "\n",
        "TODO: In the cell below, register the model, create an inference config and deploy the model as a web service."
      ],
      "metadata": {}
    },
    {
      "cell_type": "code",
      "source": [],
      "outputs": [],
      "execution_count": null,
      "metadata": {
        "gather": {
          "logged": 1598431435189
        },
        "jupyter": {
          "outputs_hidden": false,
          "source_hidden": false
        },
        "nteract": {
          "transient": {
            "deleting": false
          }
        }
      }
    },
    {
      "cell_type": "markdown",
      "source": [
        "TODO: In the cell below, send a request to the web service you deployed to test it."
      ],
      "metadata": {
        "collapsed": true,
        "gather": {
          "logged": 1598431657736
        },
        "jupyter": {
          "outputs_hidden": false,
          "source_hidden": false
        },
        "nteract": {
          "transient": {
            "deleting": false
          }
        }
      }
    },
    {
      "cell_type": "code",
      "source": [],
      "outputs": [],
      "execution_count": null,
      "metadata": {
        "gather": {
          "logged": 1598432707604
        },
        "jupyter": {
          "outputs_hidden": false,
          "source_hidden": false
        },
        "nteract": {
          "transient": {
            "deleting": false
          }
        }
      }
    },
    {
      "cell_type": "markdown",
      "source": [
        "TODO: In the cell below, print the logs of the web service and delete the service"
      ],
      "metadata": {
        "collapsed": true,
        "gather": {
          "logged": 1598432765711
        },
        "jupyter": {
          "outputs_hidden": false,
          "source_hidden": false
        },
        "nteract": {
          "transient": {
            "deleting": false
          }
        }
      }
    },
    {
      "cell_type": "code",
      "source": [],
      "outputs": [],
      "execution_count": null,
      "metadata": {
        "jupyter": {
          "outputs_hidden": false,
          "source_hidden": false
        },
        "nteract": {
          "transient": {
            "deleting": false
          }
        }
      }
    }
  ],
  "metadata": {
    "kernel_info": {
      "name": "python3"
    },
    "kernelspec": {
      "name": "python3",
      "language": "python",
      "display_name": "Python 3"
    },
    "language_info": {
      "name": "python",
      "version": "3.6.9",
      "mimetype": "text/x-python",
      "codemirror_mode": {
        "name": "ipython",
        "version": 3
      },
      "pygments_lexer": "ipython3",
      "nbconvert_exporter": "python",
      "file_extension": ".py"
    },
    "nteract": {
      "version": "nteract-front-end@1.0.0"
    },
    "microsoft": {
      "host": {
        "AzureML": {
          "notebookHasBeenCompleted": true
        }
      }
    }
  },
  "nbformat": 4,
  "nbformat_minor": 2
}
